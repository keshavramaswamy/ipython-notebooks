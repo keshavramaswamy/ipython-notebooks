{
 "cells": [
  {
   "cell_type": "markdown",
   "metadata": {},
   "source": [
    "# Survival Analysis in Cricket [DRAFT]"
   ]
  },
  {
   "cell_type": "markdown",
   "metadata": {},
   "source": [
    "## Contents:\n",
    "\n",
    "* [Introduction](#intro)\n",
    "\n",
    "\n",
    "* [What's a Survival Curve?](#survival_curve)\n",
    "\n",
    "    * [Survival Analysis in Cricket](#survival_analysis_cricket)\n",
    "    \n",
    "\n",
    "* [Experiment](#experiment)\n",
    "\n",
    "    * [Scraping](#scraping)\n",
    "    \n",
    "    * [Cleaning](#data_cleaning)\n",
    "    \n",
    "    * [Data Transformation](#data_transformation)\n",
    "    \n",
    "    * [Censoring the data](#censoring_data)\n",
    "        \n",
    "        * [Censoring in cricket](#censoring_cricket)\n",
    "        \n",
    "        \n",
    "* [Plotting the survival curve](#plot_survival_curve)\n",
    "\n",
    "    * [Observations](#survival_curve_observations)\n",
    "    \n",
    " \n",
    "* [Plotting using country-cohorts - Further Analysis](#plot_country-cohorts)\n",
    "\n",
    "    * [Case 1: Comparing India and Australia](#comp_ind_aus)\n",
    "\n",
    "        * [Observations and Inferences](#ind_aus_obs_inf)\n",
    "        \n",
    "    * [Case 2: Comparing Pakistan and England](#comp_pak_eng)\n",
    "    \n",
    "        * [Observations and Inferences](#pak_eng_obs_inf)\n",
    "            \n",
    "    * [Can these inferences be explained by the sport itself?](#inf_sport)\n",
    "        \n",
    "        * [Case 1: India and Australia](#inf_sport_case1)\n",
    "        \n",
    "        * [Case 2: Pakistan and England](#inf_sport_case2)\n",
    "      \n",
    "    * [Plot all the countries](#plot_all_cohorts)\n",
    "    \n",
    "    \n",
    "* [Plotting using era-cohorts](#plot_era-cohorts) \n",
    "    \n",
    "    * [Observations and Inferences](#era_obs_inf)\n",
    "    \n",
    "    * [Can this be explained by the sport itself?](#era_inf_sport)\n",
    "    \n",
    "    \n",
    "* [Plotting using player-cohorts](#plot_player-cohorts) \n",
    "    \n",
    "    * [Observations and Inferences](#player_obs_inf)\n",
    "    \n",
    "    * [Can this be explained by the sport itself?](#player_inf_sport)\n",
    "\n",
    "\n",
    "* [Survival Regression](#survival_regression) \n",
    "    \n",
    "    * [Predict the survival rate of Virat Kohli](#predict_kohli)\n",
    "    \n",
    "    * [Predict the survival rate of Dale Steyn](#predict_steyn)\n"
   ]
  },
  {
   "cell_type": "markdown",
   "metadata": {},
   "source": [
    "<a id='intro'></a>"
   ]
  },
  {
   "cell_type": "markdown",
   "metadata": {},
   "source": [
    "## Introduction"
   ]
  },
  {
   "cell_type": "markdown",
   "metadata": {},
   "source": [
    "* This notebook is about the application of Survival Analysis in cricket - to analyze the career lengths of players."
   ]
  },
  {
   "cell_type": "markdown",
   "metadata": {},
   "source": [
    "* Survival Analysis has been described in length by various resources, the following are the major soruces I used to\n",
    "understand the concept:\n",
    "    * Allen B. Downy's book on exploratory data analysis in Python includes a great chapter on survival curves, hazard functions, Kaplan–Meier estimators etc. \n",
    "    \n",
    "    http://greenteapress.com/thinkstats2/thinkstats2.pdf \n",
    "    \n",
    "    * Econometrics Academy's notes on survival analysis http://sites.google.com/site/econometricsacademy/econometrics-models/survival-analysis\n",
    "     \n",
    "    * Cam Davidson-Pilon's documentation on the lifelines python library on survival analysis.\n",
    "    \n",
    "         http://lifelines.readthedocs.org/en/latest/Quickstart.html"
   ]
  },
  {
   "cell_type": "markdown",
   "metadata": {},
   "source": [
    "* Reading 'The Signal and the Noise: Why So Many Predictions Fail-but Some Don't by Nate Silver has immensely influenced my perspective about predictions in general.\n",
    "\n",
    "http://www.amazon.com/The-Signal-Noise-Predictions-Fail-but/dp/0143125087"
   ]
  },
  {
   "cell_type": "markdown",
   "metadata": {},
   "source": [
    "* Survival Analyisis is used in areas where the time duration of a sample of observations is analysed until an event of **death** occurs.\n",
    "* This has great use in mechanical engineering where the lifetime of a tool/product is analyzed, medical sciences where \n",
    "the lifetime of cancer patients is analyzed etc."
   ]
  },
  {
   "cell_type": "markdown",
   "metadata": {},
   "source": [
    "<a id='survival_curve'></a>"
   ]
  },
  {
   "cell_type": "markdown",
   "metadata": {},
   "source": [
    "## What's a Survival Curve?"
   ]
  },
  {
   "cell_type": "markdown",
   "metadata": {},
   "source": [
    "* The basic concept of survival analysis is that of the survival function.\n",
    "* The survival curve is a function that maps the durations of time t to the probablity of the sample surviving beyond \n",
    "    the time t.\n",
    "* The function can also be seen as a complementary of the cumulative distribution function, as the latter maps the\n",
    "    the durations to the probability of the sample surviving less than time t."
   ]
  },
  {
   "cell_type": "code",
   "execution_count": 1,
   "metadata": {
    "collapsed": false
   },
   "outputs": [
    {
     "data": {
      "image/png": "[encoded data removed]",
      "text/plain": [
       "<IPython.core.display.Image object>"
      ]
     },
     "execution_count": 1,
     "metadata": {},
     "output_type": "execute_result"
    }
   ],
   "source": [
    "from IPython.display import Image\n",
    "Image(filename='C:/Users/Keshav/Desktop/survival_curve.png') "
   ]
  },
  {
   "cell_type": "markdown",
   "metadata": {},
   "source": [
    "* The above image shows an example of a survival curve of a sample population of 11189 pregnancies, where the pregnancy lenghts( in weeks) are mapped to the probablity of surviving beyond the time t.\n",
    "* For example, the survival function S[13] = 0.86 means that there is 86% probability that the pregnancies last beyond\n",
    "    13 weeks. \n",
    "* Similarily, the cdf CDF[13] = 0.14 means that there is 14 % probability that the pregnancies don't extend beyond 13 weeks.\n",
    "* Image source: Think Stats, Pg.180, Fig 13.1"
   ]
  },
  {
   "cell_type": "markdown",
   "metadata": {},
   "source": [
    "* The duration depends on the definition of 'death' taken - In the above case, the definition of death is the\n",
    "    event of the completion of pregnancy - rather ironic that this event is defined as *death*."
   ]
  },
  {
   "cell_type": "markdown",
   "metadata": {},
   "source": [
    "<a id='survival_analysis_cricket'></a>"
   ]
  },
  {
   "cell_type": "markdown",
   "metadata": {},
   "source": [
    "### Survival Analysis in Cricket\n",
    "* This is an attempt to extend this statistical concept into the field of cricket - to analyze the career lengths of players."
   ]
  },
  {
   "cell_type": "markdown",
   "metadata": {},
   "source": [
    "* The event of death in this case is the event when players retire from active cricket.\n",
    "* I have tried to analyze all the players who have played ODI cricket. \n",
    "* The reason Test cricket wasn't chosen is due to the fact there is too much noise in the data due to the careers of the players marred due to the World Wars, Apartheid Crisis, Kerry Packer's cricket series etc."
   ]
  },
  {
   "cell_type": "markdown",
   "metadata": {},
   "source": [
    "<a id='experiment'></a>"
   ]
  },
  {
   "cell_type": "markdown",
   "metadata": {},
   "source": [
    "## Experiment"
   ]
  },
  {
   "cell_type": "markdown",
   "metadata": {},
   "source": [
    "- There isn't any readily available data when it comes to cricket yet - ESPNCricinfo (http://www.espncricinfo.com/) still doesn't provide an API to use its StatsGuru (http://stats.espncricinfo.com/ci/engine/stats/index.html) database machine - so I had to scrape the data from the Statsguru webpages to acquire the data.\n",
    "- The Statsguru URL scraped is: http://stats.espncricinfo.com/ci/engine/stats/index.html?class=2;filter=advanced;orderby=runs;page=1;size=200;template=results;type=batting"
   ]
  },
  {
   "cell_type": "code",
   "execution_count": 2,
   "metadata": {
    "collapsed": true
   },
   "outputs": [],
   "source": [
    "%matplotlib inline\n",
    "from bs4 import BeautifulSoup\n",
    "import requests\n",
    "import pandas as pd\n",
    "import lifelines\n",
    "import matplotlib\n",
    "import numpy as np\n",
    "import matplotlib.pyplot as plt\n",
    "matplotlib.style.use('ggplot')"
   ]
  },
  {
   "cell_type": "markdown",
   "metadata": {},
   "source": [
    "<a id='scraping'></a>"
   ]
  },
  {
   "cell_type": "markdown",
   "metadata": {},
   "source": [
    "### Scraping\n",
    "The following method scrapes the required data from the webpages. "
   ]
  },
  {
   "cell_type": "code",
   "execution_count": 3,
   "metadata": {
    "collapsed": true
   },
   "outputs": [],
   "source": [
    "statsguru_query_url = 'http://stats.espncricinfo.com/ci/engine/stats/index.html?class=2;filter=advanced;orderby=runs;page=1;size=200;template=results;type=batting'"
   ]
  },
  {
   "cell_type": "code",
   "execution_count": 4,
   "metadata": {
    "collapsed": true
   },
   "outputs": [],
   "source": [
    "def scrape_data(page_count):\n",
    "    \"\"\"\n",
    "    scrapes the required data present in the form of a table from the given url\n",
    "    :param url: page of the ESPNCricinfo Stats URL query\n",
    "    :return: the raw unicode text\n",
    "    \"\"\"\n",
    "    url = statsguru_query_url\n",
    "    complete_url = url.partition('page=1')[0] + \"page=\" + str(page_count) + url.partition('page=1')[-1]\n",
    "    r = requests.get(complete_url)\n",
    "    data = r.text\n",
    "    soup = BeautifulSoup(data)\n",
    "    table = soup.find_all('table')\n",
    "    return table[2].text"
   ]
  },
  {
   "cell_type": "markdown",
   "metadata": {},
   "source": [
    "<a id='data_cleaning'></a>"
   ]
  },
  {
   "cell_type": "markdown",
   "metadata": {},
   "source": [
    "### Data Cleaning\n",
    "Once the data is scraped, it has to be cleaned - stripping of the whitespaces and other noisy data to get it into a proper structure"
   ]
  },
  {
   "cell_type": "code",
   "execution_count": 5,
   "metadata": {
    "collapsed": true
   },
   "outputs": [],
   "source": [
    "def clean_data(text):\n",
    "    \"\"\"\n",
    "    cleans the data removing all whitespaces and other data\n",
    "    :param text: table text of each page\n",
    "    :return: cleaned text  \n",
    "    \"\"\"\n",
    "    text = text.split('\\n')\n",
    "    text.remove(u'Overall figures')\n",
    "    return text"
   ]
  },
  {
   "cell_type": "markdown",
   "metadata": {},
   "source": [
    "<a id='data_transformation'></a>"
   ]
  },
  {
   "cell_type": "markdown",
   "metadata": {},
   "source": [
    "### Data Transformation\n",
    "The data is now transformed accordingly to make get the data into a structure with which it can effectively be modelled.\n",
    "A series of methods and transformations are done to make a dataframe, fit for modelling."
   ]
  },
  {
   "cell_type": "code",
   "execution_count": 6,
   "metadata": {
    "collapsed": true
   },
   "outputs": [],
   "source": [
    "def create_data():\n",
    "    \"\"\"\n",
    "    scrapes the data, cleans it and transforms the data to load into a pandas dataframe\n",
    "    \"\"\"\n",
    "    page_count = 12\n",
    "    df = pd.DataFrame()\n",
    "    get_list_columns = lambda text, start_index, end_index: [str(unicode_text)\n",
    "                                                                for unicode_text in text][start_index:end_index]\n",
    "    get_data_rows = lambda text, start_index: text[start_index:]\n",
    "    remove_all_occurences = lambda data, item: [x for x in data if x != item]\n",
    "    get_list_rows = lambda data: [data[index: index + 13] for index, row in enumerate(data) if index % 13 == 0]\n",
    "    for page in range(1, page_count + 1):\n",
    "        raw_text = scrape_data(page)\n",
    "        clean_text = clean_data(raw_text)\n",
    "        list_columns = get_list_columns(clean_text, 3, 16)\n",
    "        data_rows = get_data_rows(clean_text, 16)\n",
    "        data_rows = remove_all_occurences(data_rows, u'')\n",
    "        list_rows = get_list_rows(data_rows)\n",
    "        df_new = pd.DataFrame(list_rows, columns=list_columns)\n",
    "        if len(df) == 0:\n",
    "            df = df_new\n",
    "        else:\n",
    "            df = pd.concat([df, df_new])\n",
    "    return df"
   ]
  },
  {
   "cell_type": "code",
   "execution_count": 8,
   "metadata": {
    "collapsed": false
   },
   "outputs": [],
   "source": [
    "df_full = create_data()\n",
    "df_full = df_full.reset_index(drop=True)"
   ]
  },
  {
   "cell_type": "markdown",
   "metadata": {},
   "source": [
    "* The scraped data is stored in the form of a pandas dataframe.\n",
    "* Since the table is updated continuously - the scraped data as on Oct 2 is saved to a  csv file for consistency."
   ]
  },
  {
   "cell_type": "code",
   "execution_count": 13,
   "metadata": {
    "collapsed": true
   },
   "outputs": [],
   "source": [
    "df_full.to_csv('cricinfo_oct2.csv')"
   ]
  },
  {
   "cell_type": "code",
   "execution_count": 16,
   "metadata": {
    "collapsed": false
   },
   "outputs": [
    {
     "data": {
      "text/plain": [
       "2246"
      ]
     },
     "execution_count": 16,
     "metadata": {},
     "output_type": "execute_result"
    }
   ],
   "source": [
    "len(df_full)"
   ]
  },
  {
   "cell_type": "markdown",
   "metadata": {},
   "source": [
    "* There are totally 2246 players who have played ODI cricket since its inception in the 1970s."
   ]
  },
  {
   "cell_type": "markdown",
   "metadata": {},
   "source": [
    "* The following displays the first five rows of the data.\n",
    "* The data is by default sorted by the amount of runs scored."
   ]
  },
  {
   "cell_type": "code",
   "execution_count": 19,
   "metadata": {
    "collapsed": false
   },
   "outputs": [
    {
     "data": {
      "text/html": [
       "<div>\n",
       "<table border=\"1\" class=\"dataframe\">\n",
       "  <thead>\n",
       "    <tr style=\"text-align: right;\">\n",
       "      <th></th>\n",
       "      <th>Player</th>\n",
       "      <th>Span</th>\n",
       "      <th>Mat</th>\n",
       "      <th>Inns</th>\n",
       "      <th>NO</th>\n",
       "      <th>Runs</th>\n",
       "      <th>HS</th>\n",
       "      <th>Ave</th>\n",
       "      <th>BF</th>\n",
       "      <th>SR</th>\n",
       "      <th>100</th>\n",
       "      <th>50</th>\n",
       "      <th>0</th>\n",
       "    </tr>\n",
       "  </thead>\n",
       "  <tbody>\n",
       "    <tr>\n",
       "      <th>0</th>\n",
       "      <td>SR Tendulkar (India)</td>\n",
       "      <td>1989-2012</td>\n",
       "      <td>463</td>\n",
       "      <td>452</td>\n",
       "      <td>41</td>\n",
       "      <td>18426</td>\n",
       "      <td>200*</td>\n",
       "      <td>44.83</td>\n",
       "      <td>21367</td>\n",
       "      <td>86.23</td>\n",
       "      <td>49</td>\n",
       "      <td>96</td>\n",
       "      <td>20</td>\n",
       "    </tr>\n",
       "    <tr>\n",
       "      <th>1</th>\n",
       "      <td>KC Sangakkara (Asia/ICC/SL)</td>\n",
       "      <td>2000-2015</td>\n",
       "      <td>404</td>\n",
       "      <td>380</td>\n",
       "      <td>41</td>\n",
       "      <td>14234</td>\n",
       "      <td>169</td>\n",
       "      <td>41.98</td>\n",
       "      <td>18048</td>\n",
       "      <td>78.86</td>\n",
       "      <td>25</td>\n",
       "      <td>93</td>\n",
       "      <td>15</td>\n",
       "    </tr>\n",
       "    <tr>\n",
       "      <th>2</th>\n",
       "      <td>RT Ponting (Aus/ICC)</td>\n",
       "      <td>1995-2012</td>\n",
       "      <td>375</td>\n",
       "      <td>365</td>\n",
       "      <td>39</td>\n",
       "      <td>13704</td>\n",
       "      <td>164</td>\n",
       "      <td>42.03</td>\n",
       "      <td>17046</td>\n",
       "      <td>80.39</td>\n",
       "      <td>30</td>\n",
       "      <td>82</td>\n",
       "      <td>20</td>\n",
       "    </tr>\n",
       "    <tr>\n",
       "      <th>3</th>\n",
       "      <td>ST Jayasuriya (Asia/SL)</td>\n",
       "      <td>1989-2011</td>\n",
       "      <td>445</td>\n",
       "      <td>433</td>\n",
       "      <td>18</td>\n",
       "      <td>13430</td>\n",
       "      <td>189</td>\n",
       "      <td>32.36</td>\n",
       "      <td>14725</td>\n",
       "      <td>91.2</td>\n",
       "      <td>28</td>\n",
       "      <td>68</td>\n",
       "      <td>34</td>\n",
       "    </tr>\n",
       "    <tr>\n",
       "      <th>4</th>\n",
       "      <td>DPMD Jayawardene (Asia/SL)</td>\n",
       "      <td>1998-2015</td>\n",
       "      <td>448</td>\n",
       "      <td>418</td>\n",
       "      <td>39</td>\n",
       "      <td>12650</td>\n",
       "      <td>144</td>\n",
       "      <td>33.37</td>\n",
       "      <td>16020</td>\n",
       "      <td>78.96</td>\n",
       "      <td>19</td>\n",
       "      <td>77</td>\n",
       "      <td>28</td>\n",
       "    </tr>\n",
       "  </tbody>\n",
       "</table>\n",
       "</div>"
      ],
      "text/plain": [
       "                        Player       Span  Mat Inns  NO   Runs    HS    Ave  \\\n",
       "0         SR Tendulkar (India)  1989-2012  463  452  41  18426  200*  44.83   \n",
       "1  KC Sangakkara (Asia/ICC/SL)  2000-2015  404  380  41  14234   169  41.98   \n",
       "2         RT Ponting (Aus/ICC)  1995-2012  375  365  39  13704   164  42.03   \n",
       "3      ST Jayasuriya (Asia/SL)  1989-2011  445  433  18  13430   189  32.36   \n",
       "4   DPMD Jayawardene (Asia/SL)  1998-2015  448  418  39  12650   144  33.37   \n",
       "\n",
       "      BF     SR 100  50   0  \n",
       "0  21367  86.23  49  96  20  \n",
       "1  18048  78.86  25  93  15  \n",
       "2  17046  80.39  30  82  20  \n",
       "3  14725   91.2  28  68  34  \n",
       "4  16020  78.96  19  77  28  "
      ]
     },
     "execution_count": 19,
     "metadata": {},
     "output_type": "execute_result"
    }
   ],
   "source": [
    "df_full.head()"
   ]
  },
  {
   "cell_type": "markdown",
   "metadata": {},
   "source": [
    "Renaming the columns to access them easier"
   ]
  },
  {
   "cell_type": "code",
   "execution_count": 20,
   "metadata": {
    "collapsed": false
   },
   "outputs": [],
   "source": [
    "df_full.columns = ['player', 'span', 'mat', 'inns', 'not_outs', 'runs', 'high_score', 'ave', 'bf', 'sr', 'n_100', 'n_50', 'n_0']"
   ]
  },
  {
   "cell_type": "markdown",
   "metadata": {},
   "source": [
    "* Since the variable we require is the length of the player's career,we extract only two columns - the name of the player and the span(duration of career) from the original dataframe."
   ]
  },
  {
   "cell_type": "code",
   "execution_count": 21,
   "metadata": {
    "collapsed": false
   },
   "outputs": [],
   "source": [
    "df_span = df_full[['player','span']]"
   ]
  },
  {
   "cell_type": "code",
   "execution_count": 22,
   "metadata": {
    "collapsed": false
   },
   "outputs": [
    {
     "data": {
      "text/html": [
       "<div>\n",
       "<table border=\"1\" class=\"dataframe\">\n",
       "  <thead>\n",
       "    <tr style=\"text-align: right;\">\n",
       "      <th></th>\n",
       "      <th>player</th>\n",
       "      <th>span</th>\n",
       "    </tr>\n",
       "  </thead>\n",
       "  <tbody>\n",
       "    <tr>\n",
       "      <th>0</th>\n",
       "      <td>SR Tendulkar (India)</td>\n",
       "      <td>1989-2012</td>\n",
       "    </tr>\n",
       "    <tr>\n",
       "      <th>1</th>\n",
       "      <td>KC Sangakkara (Asia/ICC/SL)</td>\n",
       "      <td>2000-2015</td>\n",
       "    </tr>\n",
       "    <tr>\n",
       "      <th>2</th>\n",
       "      <td>RT Ponting (Aus/ICC)</td>\n",
       "      <td>1995-2012</td>\n",
       "    </tr>\n",
       "    <tr>\n",
       "      <th>3</th>\n",
       "      <td>ST Jayasuriya (Asia/SL)</td>\n",
       "      <td>1989-2011</td>\n",
       "    </tr>\n",
       "    <tr>\n",
       "      <th>4</th>\n",
       "      <td>DPMD Jayawardene (Asia/SL)</td>\n",
       "      <td>1998-2015</td>\n",
       "    </tr>\n",
       "  </tbody>\n",
       "</table>\n",
       "</div>"
      ],
      "text/plain": [
       "                        player       span\n",
       "0         SR Tendulkar (India)  1989-2012\n",
       "1  KC Sangakkara (Asia/ICC/SL)  2000-2015\n",
       "2         RT Ponting (Aus/ICC)  1995-2012\n",
       "3      ST Jayasuriya (Asia/SL)  1989-2011\n",
       "4   DPMD Jayawardene (Asia/SL)  1998-2015"
      ]
     },
     "execution_count": 22,
     "metadata": {},
     "output_type": "execute_result"
    }
   ],
   "source": [
    "df_span.head()"
   ]
  },
  {
   "cell_type": "markdown",
   "metadata": {},
   "source": [
    "Information required for further analysis:\n",
    "       - Career start date\n",
    "       - Career end date\n",
    "       - Country\n",
    "   The reason being, the players can be grouped into cohorts and the survival curve of these cohorts can be compared to find any insights."
   ]
  },
  {
   "cell_type": "markdown",
   "metadata": {},
   "source": [
    "* Creating additional columns - 'career start date' and 'career end date' to "
   ]
  },
  {
   "cell_type": "code",
   "execution_count": 23,
   "metadata": {
    "collapsed": true
   },
   "outputs": [],
   "source": [
    "# disables warning\n",
    "pd.options.mode.chained_assignment = None\n",
    "df_span['career_start_date'] = [int(span.partition('-')[0]) for span in df_span.span]\n",
    "df_span['career_end_date'] = [int(span.partition('-')[-1]) for span in df_span.span]"
   ]
  },
  {
   "cell_type": "code",
   "execution_count": 24,
   "metadata": {
    "collapsed": false
   },
   "outputs": [
    {
     "data": {
      "text/html": [
       "<div>\n",
       "<table border=\"1\" class=\"dataframe\">\n",
       "  <thead>\n",
       "    <tr style=\"text-align: right;\">\n",
       "      <th></th>\n",
       "      <th>player</th>\n",
       "      <th>span</th>\n",
       "      <th>career_start_date</th>\n",
       "      <th>career_end_date</th>\n",
       "    </tr>\n",
       "  </thead>\n",
       "  <tbody>\n",
       "    <tr>\n",
       "      <th>0</th>\n",
       "      <td>SR Tendulkar (India)</td>\n",
       "      <td>1989-2012</td>\n",
       "      <td>1989</td>\n",
       "      <td>2012</td>\n",
       "    </tr>\n",
       "    <tr>\n",
       "      <th>1</th>\n",
       "      <td>KC Sangakkara (Asia/ICC/SL)</td>\n",
       "      <td>2000-2015</td>\n",
       "      <td>2000</td>\n",
       "      <td>2015</td>\n",
       "    </tr>\n",
       "    <tr>\n",
       "      <th>2</th>\n",
       "      <td>RT Ponting (Aus/ICC)</td>\n",
       "      <td>1995-2012</td>\n",
       "      <td>1995</td>\n",
       "      <td>2012</td>\n",
       "    </tr>\n",
       "    <tr>\n",
       "      <th>3</th>\n",
       "      <td>ST Jayasuriya (Asia/SL)</td>\n",
       "      <td>1989-2011</td>\n",
       "      <td>1989</td>\n",
       "      <td>2011</td>\n",
       "    </tr>\n",
       "    <tr>\n",
       "      <th>4</th>\n",
       "      <td>DPMD Jayawardene (Asia/SL)</td>\n",
       "      <td>1998-2015</td>\n",
       "      <td>1998</td>\n",
       "      <td>2015</td>\n",
       "    </tr>\n",
       "  </tbody>\n",
       "</table>\n",
       "</div>"
      ],
      "text/plain": [
       "                        player       span  career_start_date  career_end_date\n",
       "0         SR Tendulkar (India)  1989-2012               1989             2012\n",
       "1  KC Sangakkara (Asia/ICC/SL)  2000-2015               2000             2015\n",
       "2         RT Ponting (Aus/ICC)  1995-2012               1995             2012\n",
       "3      ST Jayasuriya (Asia/SL)  1989-2011               1989             2011\n",
       "4   DPMD Jayawardene (Asia/SL)  1998-2015               1998             2015"
      ]
     },
     "execution_count": 24,
     "metadata": {},
     "output_type": "execute_result"
    }
   ],
   "source": [
    "df_span.head()"
   ]
  },
  {
   "cell_type": "markdown",
   "metadata": {},
   "source": [
    "Adding another column - 'career_length' which is obtained from subtracting the above two columns"
   ]
  },
  {
   "cell_type": "code",
   "execution_count": 25,
   "metadata": {
    "collapsed": false
   },
   "outputs": [],
   "source": [
    "calc_career_length = lambda df: [row.career_end_date - row.career_start_date + 1 for index, row in df.iterrows()]\n",
    "df_span['career_length'] = calc_career_length(df_span)"
   ]
  },
  {
   "cell_type": "code",
   "execution_count": 26,
   "metadata": {
    "collapsed": false
   },
   "outputs": [
    {
     "data": {
      "text/html": [
       "<div>\n",
       "<table border=\"1\" class=\"dataframe\">\n",
       "  <thead>\n",
       "    <tr style=\"text-align: right;\">\n",
       "      <th></th>\n",
       "      <th>player</th>\n",
       "      <th>span</th>\n",
       "      <th>career_start_date</th>\n",
       "      <th>career_end_date</th>\n",
       "      <th>career_length</th>\n",
       "    </tr>\n",
       "  </thead>\n",
       "  <tbody>\n",
       "    <tr>\n",
       "      <th>0</th>\n",
       "      <td>SR Tendulkar (India)</td>\n",
       "      <td>1989-2012</td>\n",
       "      <td>1989</td>\n",
       "      <td>2012</td>\n",
       "      <td>24</td>\n",
       "    </tr>\n",
       "    <tr>\n",
       "      <th>1</th>\n",
       "      <td>KC Sangakkara (Asia/ICC/SL)</td>\n",
       "      <td>2000-2015</td>\n",
       "      <td>2000</td>\n",
       "      <td>2015</td>\n",
       "      <td>16</td>\n",
       "    </tr>\n",
       "    <tr>\n",
       "      <th>2</th>\n",
       "      <td>RT Ponting (Aus/ICC)</td>\n",
       "      <td>1995-2012</td>\n",
       "      <td>1995</td>\n",
       "      <td>2012</td>\n",
       "      <td>18</td>\n",
       "    </tr>\n",
       "    <tr>\n",
       "      <th>3</th>\n",
       "      <td>ST Jayasuriya (Asia/SL)</td>\n",
       "      <td>1989-2011</td>\n",
       "      <td>1989</td>\n",
       "      <td>2011</td>\n",
       "      <td>23</td>\n",
       "    </tr>\n",
       "    <tr>\n",
       "      <th>4</th>\n",
       "      <td>DPMD Jayawardene (Asia/SL)</td>\n",
       "      <td>1998-2015</td>\n",
       "      <td>1998</td>\n",
       "      <td>2015</td>\n",
       "      <td>18</td>\n",
       "    </tr>\n",
       "  </tbody>\n",
       "</table>\n",
       "</div>"
      ],
      "text/plain": [
       "                        player       span  career_start_date  career_end_date  \\\n",
       "0         SR Tendulkar (India)  1989-2012               1989             2012   \n",
       "1  KC Sangakkara (Asia/ICC/SL)  2000-2015               2000             2015   \n",
       "2         RT Ponting (Aus/ICC)  1995-2012               1995             2012   \n",
       "3      ST Jayasuriya (Asia/SL)  1989-2011               1989             2011   \n",
       "4   DPMD Jayawardene (Asia/SL)  1998-2015               1998             2015   \n",
       "\n",
       "   career_length  \n",
       "0             24  \n",
       "1             16  \n",
       "2             18  \n",
       "3             23  \n",
       "4             18  "
      ]
     },
     "execution_count": 26,
     "metadata": {},
     "output_type": "execute_result"
    }
   ],
   "source": [
    "df_span.head()"
   ]
  },
  {
   "cell_type": "markdown",
   "metadata": {},
   "source": [
    "The country of the player has not been represented, though it has been included within the player's name. Having \n",
    "the country as a column can be quite useful."
   ]
  },
  {
   "cell_type": "code",
   "execution_count": 27,
   "metadata": {
    "collapsed": false
   },
   "outputs": [],
   "source": [
    "get_name = lambda player : [each_player.partition(' (')[0] for each_player in player]\n",
    "df_span['name'] = get_name(df_span.player)"
   ]
  },
  {
   "cell_type": "code",
   "execution_count": 28,
   "metadata": {
    "collapsed": true
   },
   "outputs": [],
   "source": [
    "get_country = lambda player: [each_player[each_player.index('(')+1:each_player.index(')')] for each_player in player]\n",
    "df_span['country'] = get_country(df_span.player)"
   ]
  },
  {
   "cell_type": "markdown",
   "metadata": {},
   "source": [
    "* Certain players however have played for more than 1 team - Asia/ ICC etc. Such countries don't make any change and\n",
    "have to be removed.\n",
    "* Certain players like Kepler Wessels, Eoin Morgan have played for more than 1 country - for sake of simplicity, \n",
    "such players are ignored as their career lengths will be longer - forming outliers."
   ]
  },
  {
   "cell_type": "code",
   "execution_count": 29,
   "metadata": {
    "collapsed": false
   },
   "outputs": [],
   "source": [
    "remove_forward_slash = lambda country: [each_country.replace('/', '') for each_country in country]\n",
    "df_span['country'] = remove_forward_slash(df_span.country)"
   ]
  },
  {
   "cell_type": "markdown",
   "metadata": {},
   "source": [
    "Considering players belonging to the 'Full members' of ICC as the associate countries' data may be noisy, creating outliers"
   ]
  },
  {
   "cell_type": "code",
   "execution_count": 30,
   "metadata": {
    "collapsed": false
   },
   "outputs": [],
   "source": [
    "list_countries = lambda country : ['India' if 'India' in each_country\n",
    "                 else 'SL' if 'SL' in each_country\n",
    "                 else 'SA' if 'SA' in each_country\n",
    "                 else 'Aus' if 'Aus' in each_country\n",
    "                 else 'Pak' if 'Pak' in each_country\n",
    "                 else 'WI' if 'WI' in each_country\n",
    "                 else 'NZ' if 'NZ' in each_country\n",
    "                 else 'Zim' if 'Zim' in each_country\n",
    "                 else 'Eng' if 'Eng' in each_country\n",
    "                 else 'Ban' if 'Ban' in each_country\n",
    "                 else None for each_country in country]\n",
    "df_span['country'] =  list_countries(df_span.country)"
   ]
  },
  {
   "cell_type": "code",
   "execution_count": 31,
   "metadata": {
    "collapsed": false
   },
   "outputs": [],
   "source": [
    "df_span = df_span[df_span.country.notnull()]"
   ]
  },
  {
   "cell_type": "code",
   "execution_count": 32,
   "metadata": {
    "collapsed": false
   },
   "outputs": [
    {
     "data": {
      "text/html": [
       "<div>\n",
       "<table border=\"1\" class=\"dataframe\">\n",
       "  <thead>\n",
       "    <tr style=\"text-align: right;\">\n",
       "      <th></th>\n",
       "      <th>player</th>\n",
       "      <th>span</th>\n",
       "      <th>career_start_date</th>\n",
       "      <th>career_end_date</th>\n",
       "      <th>career_length</th>\n",
       "      <th>name</th>\n",
       "      <th>country</th>\n",
       "    </tr>\n",
       "  </thead>\n",
       "  <tbody>\n",
       "    <tr>\n",
       "      <th>0</th>\n",
       "      <td>SR Tendulkar (India)</td>\n",
       "      <td>1989-2012</td>\n",
       "      <td>1989</td>\n",
       "      <td>2012</td>\n",
       "      <td>24</td>\n",
       "      <td>SR Tendulkar</td>\n",
       "      <td>India</td>\n",
       "    </tr>\n",
       "    <tr>\n",
       "      <th>1</th>\n",
       "      <td>KC Sangakkara (Asia/ICC/SL)</td>\n",
       "      <td>2000-2015</td>\n",
       "      <td>2000</td>\n",
       "      <td>2015</td>\n",
       "      <td>16</td>\n",
       "      <td>KC Sangakkara</td>\n",
       "      <td>SL</td>\n",
       "    </tr>\n",
       "    <tr>\n",
       "      <th>2</th>\n",
       "      <td>RT Ponting (Aus/ICC)</td>\n",
       "      <td>1995-2012</td>\n",
       "      <td>1995</td>\n",
       "      <td>2012</td>\n",
       "      <td>18</td>\n",
       "      <td>RT Ponting</td>\n",
       "      <td>Aus</td>\n",
       "    </tr>\n",
       "    <tr>\n",
       "      <th>3</th>\n",
       "      <td>ST Jayasuriya (Asia/SL)</td>\n",
       "      <td>1989-2011</td>\n",
       "      <td>1989</td>\n",
       "      <td>2011</td>\n",
       "      <td>23</td>\n",
       "      <td>ST Jayasuriya</td>\n",
       "      <td>SL</td>\n",
       "    </tr>\n",
       "    <tr>\n",
       "      <th>4</th>\n",
       "      <td>DPMD Jayawardene (Asia/SL)</td>\n",
       "      <td>1998-2015</td>\n",
       "      <td>1998</td>\n",
       "      <td>2015</td>\n",
       "      <td>18</td>\n",
       "      <td>DPMD Jayawardene</td>\n",
       "      <td>SL</td>\n",
       "    </tr>\n",
       "  </tbody>\n",
       "</table>\n",
       "</div>"
      ],
      "text/plain": [
       "                        player       span  career_start_date  career_end_date  \\\n",
       "0         SR Tendulkar (India)  1989-2012               1989             2012   \n",
       "1  KC Sangakkara (Asia/ICC/SL)  2000-2015               2000             2015   \n",
       "2         RT Ponting (Aus/ICC)  1995-2012               1995             2012   \n",
       "3      ST Jayasuriya (Asia/SL)  1989-2011               1989             2011   \n",
       "4   DPMD Jayawardene (Asia/SL)  1998-2015               1998             2015   \n",
       "\n",
       "   career_length              name country  \n",
       "0             24      SR Tendulkar   India  \n",
       "1             16     KC Sangakkara      SL  \n",
       "2             18        RT Ponting     Aus  \n",
       "3             23     ST Jayasuriya      SL  \n",
       "4             18  DPMD Jayawardene      SL  "
      ]
     },
     "execution_count": 32,
     "metadata": {},
     "output_type": "execute_result"
    }
   ],
   "source": [
    "df_span.head()"
   ]
  },
  {
   "cell_type": "markdown",
   "metadata": {},
   "source": [
    "Dropping columns 'player' and 'span' from the dataframe"
   ]
  },
  {
   "cell_type": "code",
   "execution_count": 33,
   "metadata": {
    "collapsed": true
   },
   "outputs": [],
   "source": [
    "df_span = df_span.drop('player', 1)"
   ]
  },
  {
   "cell_type": "code",
   "execution_count": 34,
   "metadata": {
    "collapsed": false
   },
   "outputs": [],
   "source": [
    "df_span = df_span.drop('span', 1)"
   ]
  },
  {
   "cell_type": "markdown",
   "metadata": {},
   "source": [
    "Reordering the columns"
   ]
  },
  {
   "cell_type": "code",
   "execution_count": 35,
   "metadata": {
    "collapsed": false
   },
   "outputs": [],
   "source": [
    "df_span = df_span[['name', 'country', 'career_start_date', 'career_end_date', 'career_length']]"
   ]
  },
  {
   "cell_type": "code",
   "execution_count": 36,
   "metadata": {
    "collapsed": false
   },
   "outputs": [
    {
     "data": {
      "text/html": [
       "<div>\n",
       "<table border=\"1\" class=\"dataframe\">\n",
       "  <thead>\n",
       "    <tr style=\"text-align: right;\">\n",
       "      <th></th>\n",
       "      <th>name</th>\n",
       "      <th>country</th>\n",
       "      <th>career_start_date</th>\n",
       "      <th>career_end_date</th>\n",
       "      <th>career_length</th>\n",
       "    </tr>\n",
       "  </thead>\n",
       "  <tbody>\n",
       "    <tr>\n",
       "      <th>0</th>\n",
       "      <td>SR Tendulkar</td>\n",
       "      <td>India</td>\n",
       "      <td>1989</td>\n",
       "      <td>2012</td>\n",
       "      <td>24</td>\n",
       "    </tr>\n",
       "    <tr>\n",
       "      <th>1</th>\n",
       "      <td>KC Sangakkara</td>\n",
       "      <td>SL</td>\n",
       "      <td>2000</td>\n",
       "      <td>2015</td>\n",
       "      <td>16</td>\n",
       "    </tr>\n",
       "    <tr>\n",
       "      <th>2</th>\n",
       "      <td>RT Ponting</td>\n",
       "      <td>Aus</td>\n",
       "      <td>1995</td>\n",
       "      <td>2012</td>\n",
       "      <td>18</td>\n",
       "    </tr>\n",
       "    <tr>\n",
       "      <th>3</th>\n",
       "      <td>ST Jayasuriya</td>\n",
       "      <td>SL</td>\n",
       "      <td>1989</td>\n",
       "      <td>2011</td>\n",
       "      <td>23</td>\n",
       "    </tr>\n",
       "    <tr>\n",
       "      <th>4</th>\n",
       "      <td>DPMD Jayawardene</td>\n",
       "      <td>SL</td>\n",
       "      <td>1998</td>\n",
       "      <td>2015</td>\n",
       "      <td>18</td>\n",
       "    </tr>\n",
       "  </tbody>\n",
       "</table>\n",
       "</div>"
      ],
      "text/plain": [
       "               name country  career_start_date  career_end_date  career_length\n",
       "0      SR Tendulkar   India               1989             2012             24\n",
       "1     KC Sangakkara      SL               2000             2015             16\n",
       "2        RT Ponting     Aus               1995             2012             18\n",
       "3     ST Jayasuriya      SL               1989             2011             23\n",
       "4  DPMD Jayawardene      SL               1998             2015             18"
      ]
     },
     "execution_count": 36,
     "metadata": {},
     "output_type": "execute_result"
    }
   ],
   "source": [
    "df_span.head()"
   ]
  },
  {
   "cell_type": "markdown",
   "metadata": {},
   "source": [
    "<a id='censoring_data'></a>"
   ]
  },
  {
   "cell_type": "markdown",
   "metadata": {},
   "source": [
    "## Censoring the data"
   ]
  },
  {
   "cell_type": "markdown",
   "metadata": {},
   "source": [
    "* While analyzing the durations of a sample/population, it is quite possible to find certain individuals or data \n",
    "    whose death has not occured yet - at the current time, their deaths have not yet been noticed/occured.\n",
    "* When the data has this behaviour, it is said to be *right-censored*.\n",
    "* It is crucial to include the censored data before modelling, as having only the non-censored data can imply different observations about the data which need not be true.\n",
    "* Indeed, data for survival analysis can be viewed as a regression dataset where the outcome variable - 'censor' \n",
    "    is not defined for few rows."
   ]
  },
  {
   "cell_type": "markdown",
   "metadata": {},
   "source": [
    "<a id='censoring_cricket'></a>"
   ]
  },
  {
   "cell_type": "markdown",
   "metadata": {},
   "source": [
    "### Censoring in cricket"
   ]
  },
  {
   "cell_type": "markdown",
   "metadata": {},
   "source": [
    "* The event of '**death**' in this example is the event of players retiring from active cricket (ODI).\n",
    "* So there are players who have not yet retired yet - who are still playing some form of active cricket or have died \n",
    "    unfortunately - Phil Hughes for instance.\n",
    "* These players form the censored data in this case.\n",
    "* Again, Statsguru does not provide any easy way of finding out whether players have retired or not.\n",
    "* For sake of this implementation of survival curves, I have *manually* entered the censoring label for each \n",
    "    of the players.\n",
    "* In this effort, I have assumed that those players who last played in 2011 or earlier have **retired**.\n",
    "* The reasons for choosing 2011 are multi-fold:\n",
    "    1. It's 4 years since 2015 - there is a high chance that players who last played in 2011 have retired or will never play again. Yes, there may be exceptions. \n",
    "    2. 2011 is the year of the previous World Cup which saw a number of high-profile retirements and generally, players usually draw their careers to a close after a World Cup.\n",
    "    3. One more world cup has ended after 2011 - this means that teams will ideally look to build towards the next world cup, meaning those who last played in 2011 will almost never get a chance to play again. This closely is interconnected with the first reason."
   ]
  },
  {
   "cell_type": "code",
   "execution_count": 37,
   "metadata": {
    "collapsed": false
   },
   "outputs": [],
   "source": [
    "# entering 1 intially for all players\n",
    "df_span['censor'] = [1 if each_player.career_end_date <= 2011 else 0 for index,each_player in df_span.iterrows()]"
   ]
  },
  {
   "cell_type": "markdown",
   "metadata": {
    "collapsed": true
   },
   "source": [
    "* censor label : 1 means that player has retired, 0 means that the player has an active playing career."
   ]
  },
  {
   "cell_type": "code",
   "execution_count": 38,
   "metadata": {
    "collapsed": false,
    "scrolled": true
   },
   "outputs": [],
   "source": [
    "#re-ordering index of dataframe\n",
    "df_span.reset_index(drop=True);"
   ]
  },
  {
   "cell_type": "code",
   "execution_count": 39,
   "metadata": {
    "collapsed": true
   },
   "outputs": [],
   "source": [
    "# converting dataframe to csv to manually alter it\n",
    "df_span.to_csv('censor_oct2.csv')"
   ]
  },
  {
   "cell_type": "code",
   "execution_count": 40,
   "metadata": {
    "collapsed": false
   },
   "outputs": [],
   "source": [
    "df_censor = pd.read_csv('censor_oct2.csv')"
   ]
  },
  {
   "cell_type": "code",
   "execution_count": 43,
   "metadata": {
    "collapsed": false
   },
   "outputs": [],
   "source": [
    "df_censor = df_censor.drop('Unnamed: 0', 1);"
   ]
  },
  {
   "cell_type": "code",
   "execution_count": 46,
   "metadata": {
    "collapsed": false
   },
   "outputs": [
    {
     "data": {
      "text/html": [
       "<div>\n",
       "<table border=\"1\" class=\"dataframe\">\n",
       "  <thead>\n",
       "    <tr style=\"text-align: right;\">\n",
       "      <th></th>\n",
       "      <th>name</th>\n",
       "      <th>country</th>\n",
       "      <th>career_start_date</th>\n",
       "      <th>career_end_date</th>\n",
       "      <th>career_length</th>\n",
       "      <th>censor</th>\n",
       "    </tr>\n",
       "  </thead>\n",
       "  <tbody>\n",
       "    <tr>\n",
       "      <th>0</th>\n",
       "      <td>SR Tendulkar</td>\n",
       "      <td>India</td>\n",
       "      <td>1989</td>\n",
       "      <td>2012</td>\n",
       "      <td>24</td>\n",
       "      <td>1</td>\n",
       "    </tr>\n",
       "    <tr>\n",
       "      <th>1</th>\n",
       "      <td>KC Sangakkara</td>\n",
       "      <td>SL</td>\n",
       "      <td>2000</td>\n",
       "      <td>2015</td>\n",
       "      <td>16</td>\n",
       "      <td>1</td>\n",
       "    </tr>\n",
       "    <tr>\n",
       "      <th>2</th>\n",
       "      <td>RT Ponting</td>\n",
       "      <td>Aus</td>\n",
       "      <td>1995</td>\n",
       "      <td>2012</td>\n",
       "      <td>18</td>\n",
       "      <td>1</td>\n",
       "    </tr>\n",
       "    <tr>\n",
       "      <th>3</th>\n",
       "      <td>ST Jayasuriya</td>\n",
       "      <td>SL</td>\n",
       "      <td>1989</td>\n",
       "      <td>2011</td>\n",
       "      <td>23</td>\n",
       "      <td>1</td>\n",
       "    </tr>\n",
       "    <tr>\n",
       "      <th>4</th>\n",
       "      <td>DPMD Jayawardene</td>\n",
       "      <td>SL</td>\n",
       "      <td>1998</td>\n",
       "      <td>2015</td>\n",
       "      <td>18</td>\n",
       "      <td>1</td>\n",
       "    </tr>\n",
       "  </tbody>\n",
       "</table>\n",
       "</div>"
      ],
      "text/plain": [
       "               name country  career_start_date  career_end_date  \\\n",
       "0      SR Tendulkar   India               1989             2012   \n",
       "1     KC Sangakkara      SL               2000             2015   \n",
       "2        RT Ponting     Aus               1995             2012   \n",
       "3     ST Jayasuriya      SL               1989             2011   \n",
       "4  DPMD Jayawardene      SL               1998             2015   \n",
       "\n",
       "   career_length  censor  \n",
       "0             24       1  \n",
       "1             16       1  \n",
       "2             18       1  \n",
       "3             23       1  \n",
       "4             18       1  "
      ]
     },
     "execution_count": 46,
     "metadata": {},
     "output_type": "execute_result"
    }
   ],
   "source": [
    "df_censor.head()"
   ]
  },
  {
   "cell_type": "markdown",
   "metadata": {},
   "source": [
    "The following data shows few rows of the data with its censored values."
   ]
  },
  {
   "cell_type": "code",
   "execution_count": 47,
   "metadata": {
    "collapsed": false
   },
   "outputs": [
    {
     "data": {
      "text/html": [
       "<div>\n",
       "<table border=\"1\" class=\"dataframe\">\n",
       "  <thead>\n",
       "    <tr style=\"text-align: right;\">\n",
       "      <th></th>\n",
       "      <th>name</th>\n",
       "      <th>country</th>\n",
       "      <th>career_start_date</th>\n",
       "      <th>career_end_date</th>\n",
       "      <th>career_length</th>\n",
       "      <th>censor</th>\n",
       "    </tr>\n",
       "  </thead>\n",
       "  <tbody>\n",
       "    <tr>\n",
       "      <th>1742</th>\n",
       "      <td>EP Thompson</td>\n",
       "      <td>NZ</td>\n",
       "      <td>2009</td>\n",
       "      <td>2009</td>\n",
       "      <td>1</td>\n",
       "      <td>1</td>\n",
       "    </tr>\n",
       "    <tr>\n",
       "      <th>1743</th>\n",
       "      <td>AL Thomson</td>\n",
       "      <td>Aus</td>\n",
       "      <td>1971</td>\n",
       "      <td>1971</td>\n",
       "      <td>1</td>\n",
       "      <td>1</td>\n",
       "    </tr>\n",
       "    <tr>\n",
       "      <th>1744</th>\n",
       "      <td>RW Tolchard</td>\n",
       "      <td>Eng</td>\n",
       "      <td>1979</td>\n",
       "      <td>1979</td>\n",
       "      <td>1</td>\n",
       "      <td>1</td>\n",
       "    </tr>\n",
       "    <tr>\n",
       "      <th>1745</th>\n",
       "      <td>CM Tuckett</td>\n",
       "      <td>WI</td>\n",
       "      <td>1998</td>\n",
       "      <td>1998</td>\n",
       "      <td>1</td>\n",
       "      <td>1</td>\n",
       "    </tr>\n",
       "    <tr>\n",
       "      <th>1746</th>\n",
       "      <td>I Udana</td>\n",
       "      <td>SL</td>\n",
       "      <td>2012</td>\n",
       "      <td>2012</td>\n",
       "      <td>1</td>\n",
       "      <td>0</td>\n",
       "    </tr>\n",
       "    <tr>\n",
       "      <th>1747</th>\n",
       "      <td>JD Unadkat</td>\n",
       "      <td>India</td>\n",
       "      <td>2013</td>\n",
       "      <td>2013</td>\n",
       "      <td>1</td>\n",
       "      <td>0</td>\n",
       "    </tr>\n",
       "    <tr>\n",
       "      <th>1748</th>\n",
       "      <td>JM Vince</td>\n",
       "      <td>Eng</td>\n",
       "      <td>2015</td>\n",
       "      <td>2015</td>\n",
       "      <td>1</td>\n",
       "      <td>0</td>\n",
       "    </tr>\n",
       "    <tr>\n",
       "      <th>1749</th>\n",
       "      <td>Wahidul Gani</td>\n",
       "      <td>Ban</td>\n",
       "      <td>1988</td>\n",
       "      <td>1988</td>\n",
       "      <td>1</td>\n",
       "      <td>1</td>\n",
       "    </tr>\n",
       "    <tr>\n",
       "      <th>1750</th>\n",
       "      <td>KP Walmsley</td>\n",
       "      <td>NZ</td>\n",
       "      <td>2003</td>\n",
       "      <td>2003</td>\n",
       "      <td>1</td>\n",
       "      <td>1</td>\n",
       "    </tr>\n",
       "    <tr>\n",
       "      <th>1751</th>\n",
       "      <td>M Watkinson</td>\n",
       "      <td>Eng</td>\n",
       "      <td>1996</td>\n",
       "      <td>1996</td>\n",
       "      <td>1</td>\n",
       "      <td>1</td>\n",
       "    </tr>\n",
       "    <tr>\n",
       "      <th>1752</th>\n",
       "      <td>S Weerakoon</td>\n",
       "      <td>SL</td>\n",
       "      <td>2012</td>\n",
       "      <td>2012</td>\n",
       "      <td>1</td>\n",
       "      <td>0</td>\n",
       "    </tr>\n",
       "    <tr>\n",
       "      <th>1753</th>\n",
       "      <td>Zakir Hasan</td>\n",
       "      <td>Ban</td>\n",
       "      <td>1997</td>\n",
       "      <td>1997</td>\n",
       "      <td>1</td>\n",
       "      <td>1</td>\n",
       "    </tr>\n",
       "  </tbody>\n",
       "</table>\n",
       "</div>"
      ],
      "text/plain": [
       "              name country  career_start_date  career_end_date  career_length  \\\n",
       "1742   EP Thompson      NZ               2009             2009              1   \n",
       "1743    AL Thomson     Aus               1971             1971              1   \n",
       "1744   RW Tolchard     Eng               1979             1979              1   \n",
       "1745    CM Tuckett      WI               1998             1998              1   \n",
       "1746       I Udana      SL               2012             2012              1   \n",
       "1747    JD Unadkat   India               2013             2013              1   \n",
       "1748      JM Vince     Eng               2015             2015              1   \n",
       "1749  Wahidul Gani     Ban               1988             1988              1   \n",
       "1750   KP Walmsley      NZ               2003             2003              1   \n",
       "1751   M Watkinson     Eng               1996             1996              1   \n",
       "1752   S Weerakoon      SL               2012             2012              1   \n",
       "1753   Zakir Hasan     Ban               1997             1997              1   \n",
       "\n",
       "      censor  \n",
       "1742       1  \n",
       "1743       1  \n",
       "1744       1  \n",
       "1745       1  \n",
       "1746       0  \n",
       "1747       0  \n",
       "1748       0  \n",
       "1749       1  \n",
       "1750       1  \n",
       "1751       1  \n",
       "1752       0  \n",
       "1753       1  "
      ]
     },
     "execution_count": 47,
     "metadata": {},
     "output_type": "execute_result"
    }
   ],
   "source": [
    "df_censor.tail(12)"
   ]
  },
  {
   "cell_type": "code",
   "execution_count": 48,
   "metadata": {
    "collapsed": false
   },
   "outputs": [
    {
     "data": {
      "text/plain": [
       "0     376\n",
       "1    1378\n",
       "Name: censor, dtype: int64"
      ]
     },
     "execution_count": 48,
     "metadata": {},
     "output_type": "execute_result"
    }
   ],
   "source": [
    "df_censor.censor.value_counts().sort_index()"
   ]
  },
  {
   "cell_type": "markdown",
   "metadata": {},
   "source": [
    "* It is thus observed that there are 376 0-censor labelled players and 1378 1-censor labelled players in the dataset."
   ]
  },
  {
   "cell_type": "markdown",
   "metadata": {},
   "source": [
    "* In other words, there are 376 active players in ODI cricket - that is an average of around 37 players for every team, considering only 10 teams are considered - wthe average length of a squad is around 15-20 - but when the fringe players are included, the count of 37 makes sense."
   ]
  },
  {
   "cell_type": "code",
   "execution_count": 49,
   "metadata": {
    "collapsed": false
   },
   "outputs": [
    {
     "data": {
      "text/html": [
       "<div>\n",
       "<table border=\"1\" class=\"dataframe\">\n",
       "  <thead>\n",
       "    <tr style=\"text-align: right;\">\n",
       "      <th></th>\n",
       "      <th>name</th>\n",
       "      <th>country</th>\n",
       "      <th>career_start_date</th>\n",
       "      <th>career_end_date</th>\n",
       "      <th>career_length</th>\n",
       "      <th>censor</th>\n",
       "    </tr>\n",
       "  </thead>\n",
       "  <tbody>\n",
       "    <tr>\n",
       "      <th>0</th>\n",
       "      <td>SR Tendulkar</td>\n",
       "      <td>India</td>\n",
       "      <td>1989</td>\n",
       "      <td>2012</td>\n",
       "      <td>24</td>\n",
       "      <td>1</td>\n",
       "    </tr>\n",
       "    <tr>\n",
       "      <th>1</th>\n",
       "      <td>KC Sangakkara</td>\n",
       "      <td>SL</td>\n",
       "      <td>2000</td>\n",
       "      <td>2015</td>\n",
       "      <td>16</td>\n",
       "      <td>1</td>\n",
       "    </tr>\n",
       "    <tr>\n",
       "      <th>2</th>\n",
       "      <td>RT Ponting</td>\n",
       "      <td>Aus</td>\n",
       "      <td>1995</td>\n",
       "      <td>2012</td>\n",
       "      <td>18</td>\n",
       "      <td>1</td>\n",
       "    </tr>\n",
       "    <tr>\n",
       "      <th>3</th>\n",
       "      <td>ST Jayasuriya</td>\n",
       "      <td>SL</td>\n",
       "      <td>1989</td>\n",
       "      <td>2011</td>\n",
       "      <td>23</td>\n",
       "      <td>1</td>\n",
       "    </tr>\n",
       "    <tr>\n",
       "      <th>4</th>\n",
       "      <td>DPMD Jayawardene</td>\n",
       "      <td>SL</td>\n",
       "      <td>1998</td>\n",
       "      <td>2015</td>\n",
       "      <td>18</td>\n",
       "      <td>1</td>\n",
       "    </tr>\n",
       "  </tbody>\n",
       "</table>\n",
       "</div>"
      ],
      "text/plain": [
       "               name country  career_start_date  career_end_date  \\\n",
       "0      SR Tendulkar   India               1989             2012   \n",
       "1     KC Sangakkara      SL               2000             2015   \n",
       "2        RT Ponting     Aus               1995             2012   \n",
       "3     ST Jayasuriya      SL               1989             2011   \n",
       "4  DPMD Jayawardene      SL               1998             2015   \n",
       "\n",
       "   career_length  censor  \n",
       "0             24       1  \n",
       "1             16       1  \n",
       "2             18       1  \n",
       "3             23       1  \n",
       "4             18       1  "
      ]
     },
     "execution_count": 49,
     "metadata": {},
     "output_type": "execute_result"
    }
   ],
   "source": [
    "df_censor.head()"
   ]
  },
  {
   "cell_type": "markdown",
   "metadata": {},
   "source": [
    "<a id='plot_survival_curve'></a>"
   ]
  },
  {
   "cell_type": "markdown",
   "metadata": {},
   "source": [
    "## Plotting the survival curve"
   ]
  },
  {
   "cell_type": "code",
   "execution_count": 50,
   "metadata": {
    "collapsed": true
   },
   "outputs": [],
   "source": [
    "from lifelines import KaplanMeierFitter\n",
    "kmf = KaplanMeierFitter()"
   ]
  },
  {
   "cell_type": "code",
   "execution_count": 51,
   "metadata": {
    "collapsed": false
   },
   "outputs": [
    {
     "data": {
      "text/plain": [
       "<lifelines.KaplanMeierFitter: fitted with 1754 observations, 376 censored>"
      ]
     },
     "execution_count": 51,
     "metadata": {},
     "output_type": "execute_result"
    }
   ],
   "source": [
    "kmf.fit(df_censor.career_length, event_observed=df_censor.censor)"
   ]
  },
  {
   "cell_type": "code",
   "execution_count": 52,
   "metadata": {
    "collapsed": true
   },
   "outputs": [],
   "source": [
    "import plotly\n",
    "import plotly.tools as tls\n",
    "import plotly.plotly as py\n",
    "from plotly.graph_objs import Figure, Data, Layout\n",
    "import matplotlib.pyplot as plt\n",
    "from plotly.graph_objs import *\n",
    "%matplotlib inline\n",
    "from pylab import rcParams"
   ]
  },
  {
   "cell_type": "code",
   "execution_count": 53,
   "metadata": {
    "collapsed": true
   },
   "outputs": [],
   "source": [
    "def pyplot(fig, ci=True, legend=True):\n",
    "    # Convert mpl fig obj to plotly fig obj, resize to plotly's default\n",
    "    py_fig = tls.mpl_to_plotly(fig, resize=True)\n",
    "    \n",
    "    # Add fill property to lower limit line\n",
    "    if ci == True:\n",
    "        style1 = dict(fill='tonexty')\n",
    "        # apply style\n",
    "        py_fig['data'][2].update(style1)\n",
    "        \n",
    "        # Change color scheme to black\n",
    "        py_fig['data'].update(dict(line=Line(color='black')))\n",
    "    \n",
    "    # change the default line type to 'step'\n",
    "    py_fig['data'].update(dict(line=Line(shape='hv')))\n",
    "    # Delete misplaced legend annotations \n",
    "    py_fig['layout'].pop('annotations', None)\n",
    "    \n",
    "    if legend == True:\n",
    "        # Add legend, place it at the top right corner of the plot\n",
    "        py_fig['layout'].update(\n",
    "            showlegend=True,\n",
    "            legend=Legend(\n",
    "                x=1.05,\n",
    "                y=1\n",
    "            )\n",
    "        )\n",
    "        \n",
    "    # Send updated figure object to Plotly, show result in notebook\n",
    "    return py.iplot(py_fig)"
   ]
  },
  {
   "cell_type": "code",
   "execution_count": 59,
   "metadata": {
    "collapsed": false
   },
   "outputs": [
    {
     "data": {
      "text/html": [
       "<iframe id=\"igraph\" scrolling=\"no\" style=\"border:none;\"seamless=\"seamless\" src=\"https://plot.ly/~keshr3106/6.embed\" height=\"525px\" width=\"100%\"></iframe>"
      ],
      "text/plain": [
       "<plotly.tools.PlotlyDisplay object>"
      ]
     },
     "execution_count": 59,
     "metadata": {},
     "output_type": "execute_result"
    }
   ],
   "source": [
    "p = kmf.plot(ci_force_lines=True, title='Career Lengths of ODI players')\n",
    "kmf1 = plt.gcf()\n",
    "pyplot(kmf1)"
   ]
  },
  {
   "cell_type": "markdown",
   "metadata": {},
   "source": [
    "<a id='survival_curve_observations'></a>"
   ]
  },
  {
   "cell_type": "markdown",
   "metadata": {},
   "source": [
    "### Observations"
   ]
  },
  {
   "cell_type": "code",
   "execution_count": 60,
   "metadata": {
    "collapsed": false
   },
   "outputs": [
    {
     "data": {
      "text/plain": [
       "6.0"
      ]
     },
     "execution_count": 60,
     "metadata": {},
     "output_type": "execute_result"
    }
   ],
   "source": [
    "kmf.median_"
   ]
  },
  {
   "cell_type": "markdown",
   "metadata": {},
   "source": [
    "* It is observed that the probablity of the population having career of atleast 6 years is 50%. \n",
    "In other words, there are 50% chance that a player will have career atleast 6 years."
   ]
  },
  {
   "cell_type": "code",
   "execution_count": 61,
   "metadata": {
    "collapsed": false
   },
   "outputs": [
    {
     "data": {
      "text/plain": [
       "0.0052425761652501327"
      ]
     },
     "execution_count": 61,
     "metadata": {},
     "output_type": "execute_result"
    }
   ],
   "source": [
    "kmf.survival_function_.KM_estimate[20]"
   ]
  },
  {
   "cell_type": "markdown",
   "metadata": {},
   "source": [
    "* On the other hand, there is 0.5 % chances that a player's career will extend beyond 20 years."
   ]
  },
  {
   "cell_type": "code",
   "execution_count": 62,
   "metadata": {
    "collapsed": false
   },
   "outputs": [
    {
     "data": {
      "text/plain": [
       "0.25652730022312326"
      ]
     },
     "execution_count": 62,
     "metadata": {},
     "output_type": "execute_result"
    }
   ],
   "source": [
    "kmf.survival_function_.KM_estimate[10]"
   ]
  },
  {
   "cell_type": "markdown",
   "metadata": {},
   "source": [
    "* There is 25% chance that a player's career extends beyonds 10 years"
   ]
  },
  {
   "cell_type": "markdown",
   "metadata": {},
   "source": [
    "<a id='plot_country-cohorts'></a>"
   ]
  },
  {
   "cell_type": "markdown",
   "metadata": {},
   "source": [
    "## Plotting using Cohorts - Further Analysis"
   ]
  },
  {
   "cell_type": "markdown",
   "metadata": {},
   "source": [
    "<a id='comp_ind_aus'></a>"
   ]
  },
  {
   "cell_type": "markdown",
   "metadata": {},
   "source": [
    "### Case 1:  Comparing India and Australia"
   ]
  },
  {
   "cell_type": "code",
   "execution_count": 63,
   "metadata": {
    "collapsed": false
   },
   "outputs": [],
   "source": [
    "countries_type = df_censor['country'].unique()"
   ]
  },
  {
   "cell_type": "code",
   "execution_count": 64,
   "metadata": {
    "collapsed": true
   },
   "outputs": [],
   "source": [
    "ind = df_censor.query('country == \"India\"')"
   ]
  },
  {
   "cell_type": "code",
   "execution_count": 65,
   "metadata": {
    "collapsed": true
   },
   "outputs": [],
   "source": [
    "aus = df_censor.query('country == \"Aus\"')"
   ]
  },
  {
   "cell_type": "code",
   "execution_count": 67,
   "metadata": {
    "collapsed": false
   },
   "outputs": [
    {
     "data": {
      "text/html": [
       "<iframe id=\"igraph\" scrolling=\"no\" style=\"border:none;\"seamless=\"seamless\" src=\"https://plot.ly/~keshr3106/10.embed\" height=\"525px\" width=\"100%\"></iframe>"
      ],
      "text/plain": [
       "<plotly.tools.PlotlyDisplay object>"
      ]
     },
     "execution_count": 67,
     "metadata": {},
     "output_type": "execute_result"
    }
   ],
   "source": [
    "from lifelines import KaplanMeierFitter\n",
    "kmf = KaplanMeierFitter()\n",
    "ax = plt.subplot(111)\n",
    "kmf.fit(ind.career_length, event_observed=ind.censor, label=\"India\")\n",
    "kmf.survival_function_.plot(ax=ax)\n",
    "kmf.fit(aus.career_length, event_observed=aus.censor, label=\"Aus\")\n",
    "kmf.survival_function_.plot(ax=ax)\n",
    "plt.title(\"Survival curve of ODI Careers among India and Australia players \")\n",
    "kmf2 = plt.gcf()\n",
    "pyplot(kmf2, ci=False)"
   ]
  },
  {
   "cell_type": "markdown",
   "metadata": {},
   "source": [
    "<a id='ind_aus_obs_inf'></a>"
   ]
  },
  {
   "cell_type": "markdown",
   "metadata": {},
   "source": [
    "#### Observations:\n",
    "* There are primarily two trends observed in the plots - \n",
    "    1. The survival curve for Australia is more than that of India between the period, 3 to 10 years.\n",
    "    2. The survival curve for India dominates that of Australia from 10 years.\n",
    "* The tail for Australia ends at around 17 years while for India, it extends much longer (till 24 years)."
   ]
  },
  {
   "cell_type": "markdown",
   "metadata": {},
   "source": [
    "#### Inferences:\n",
    "* There is a greater chance of an Australian player having a career of 3 - 10 years than an Indian player having a career of the same duration.\n",
    "* There is roughly 22-25% chances that a player from either of these 2 countries will have a career of atleast 10 years.\n",
    "* It's more probable that a player from India will have greater probability of having a career of 10+ years than an Australian player.\n",
    "* It is highly unlikely that an Australian player will have an ODI career more than 17 years whereas the chances are much greater for an Indian player to have a career which 17 years and beyond."
   ]
  },
  {
   "cell_type": "markdown",
   "metadata": {},
   "source": [
    "<a id='comp_pak_eng'></a>"
   ]
  },
  {
   "cell_type": "markdown",
   "metadata": {},
   "source": [
    "### Case 2: Comparing Pakistan and England"
   ]
  },
  {
   "cell_type": "code",
   "execution_count": 68,
   "metadata": {
    "collapsed": false
   },
   "outputs": [],
   "source": [
    "pak = df_censor.query('country == \"Pak\"')"
   ]
  },
  {
   "cell_type": "code",
   "execution_count": 70,
   "metadata": {
    "collapsed": true
   },
   "outputs": [],
   "source": [
    "eng = df_censor.query('country == \"Eng\"')"
   ]
  },
  {
   "cell_type": "code",
   "execution_count": 71,
   "metadata": {
    "collapsed": false
   },
   "outputs": [
    {
     "data": {
      "text/html": [
       "<iframe id=\"igraph\" scrolling=\"no\" style=\"border:none;\"seamless=\"seamless\" src=\"https://plot.ly/~keshr3106/12.embed\" height=\"525px\" width=\"100%\"></iframe>"
      ],
      "text/plain": [
       "<plotly.tools.PlotlyDisplay object>"
      ]
     },
     "execution_count": 71,
     "metadata": {},
     "output_type": "execute_result"
    }
   ],
   "source": [
    "from lifelines import KaplanMeierFitter\n",
    "kmf = KaplanMeierFitter()\n",
    "ax = plt.subplot(111)\n",
    "kmf.fit(pak.career_length, event_observed=pak.censor, label=\"Pak\")\n",
    "kmf.survival_function_.plot(ax=ax)\n",
    "kmf.fit(eng.career_length, event_observed=eng.censor, label=\"Eng\")\n",
    "kmf.survival_function_.plot(ax=ax)\n",
    "plt.title(\"Survival curve of ODI Careers among England and Pakistan players \")\n",
    "kmf2 = plt.gcf()\n",
    "pyplot(kmf2, ci=False)"
   ]
  },
  {
   "cell_type": "markdown",
   "metadata": {},
   "source": [
    "<a id='pak_eng_obs_inf'></a>"
   ]
  },
  {
   "cell_type": "markdown",
   "metadata": {},
   "source": [
    "#### Observations:\n",
    "* The survival curve for both the countries seem to be almost the same till 5 years. \n",
    "* After that point, we notice that the curve seem to significantly higher for Pakistan than England.\n",
    "* The survival curve continues past the duration of 20 years for India (around 22) but it tapers off for England\n",
    "    at 20 itself."
   ]
  },
  {
   "cell_type": "markdown",
   "metadata": {},
   "source": [
    "#### Inferences:\n",
    "* The chance of players from the sample, have a career more than 5 years is 50% for both the countries. \n",
    "* But the chance of a player from Pakistan having a career more than 10 years is around 30% whereas there's only 20% chance of a player from England having a career more than 10 years. \n",
    "* The difference becomes more conspicious when we note the chances of a player having a career more than 12-13 years.\n",
    "* We notice that the probability(or chance) is approximately double in the case of Pakistan when compared to that England. \n",
    "\n",
    "** In other words, a player representing Pakistan is twice more likely of having a career more than 12-13 years than a player from England!**"
   ]
  },
  {
   "cell_type": "markdown",
   "metadata": {},
   "source": [
    "<a id='inf_sport'></a>"
   ]
  },
  {
   "cell_type": "markdown",
   "metadata": {},
   "source": [
    "### Can these inferences be explained by the sport itself?"
   ]
  },
  {
   "cell_type": "markdown",
   "metadata": {},
   "source": [
    "<a id='inf_sport_case1'></a>"
   ]
  },
  {
   "cell_type": "markdown",
   "metadata": {},
   "source": [
    "#### Case 1: India and Australia\n",
    "* Yes - The Indian cricketers have always been given a long rope in their careers by the BCCI. \n",
    "    Even if they seem are out of form or are inconsistent, their experience has always been given more priority than their current form. Various players right from Kapil Dev to the likes of Sachin Tendulkar & Saurav Ganguly have always been given a soft spot considering their contributions and experience. \n",
    "    \n",
    "* The Australian players on the hand are not so fortunate - they always have been judged based on their current form than their past records. Infact, CA (Cricket Australia) is quite famous for dropping the Waugh brothers in 2002 as their ODI contributions were dwindling. Many more examples can be made.\n",
    "\n",
    "* The way the boards managed their respective players can be viewed as a major reason for the difference in the curves. Both the countries have boards with different mindsets - although BCCI in the recent past, have become less biased towards players with experience and are selecting players based on form.\n",
    "\n",
    "* This single factor largely explains the inferences made from the curves.\n",
    "\n",
    "* It makes sense that there's a greater chance of an Aussie player having a career b/w 3-10 years than an Indian player - this is because, an Indian player in majority of cases, will go on to have a career of more than 10 years, having played that long - the reason can be attributed to the role played by the boards as explained above.\n",
    "\n",
    "* The reason for the tail of the Australian survival curve being significantly shorter than that of the Indian one also makes sense as it's very tough for a player to have a consistent career when he plays for that many years and being from Australia, it's highly unlikely that he stays in the team. The same reasoning can be explained to the tail of Indian players' survival curve being very long."
   ]
  },
  {
   "cell_type": "markdown",
   "metadata": {},
   "source": [
    "<a id='inf_sport_case2'></a>"
   ]
  },
  {
   "cell_type": "markdown",
   "metadata": {},
   "source": [
    "#### Case 2 - England and Pakistan\n",
    "* Similarily as explained in the previous example of Australia and India, the ECB is notorious for their *poor* management of players and selection - the ongoing standoff between ECB and Kevin Pieterson is a standing example.\n",
    "* Also, many english cricketers from Marcus Trescothick, Nick Knight etc have had premature end to their careers - citing workload and stress as reasons. This factor can also be attributed to the shape of the survival curves.\n",
    "* It's highly ironical that Pakistan has a significantly higher survival curve than England despite the fact that PCB is also known for their controversial selections. But if it can be observed closely, PCB has sacked captains but they have continued to play even after they are sacked. \n",
    "* This attitude can be applied for the Indian players as well. Many players, right from Sachin to Saurav to Rahul Dravid have gone on to play under new captains even after resigning their posts as captains or being sacked.\n",
    "* But the Australian or English players are not like their Asian counterparts - they are known for retiring once they are sacked as captains."
   ]
  },
  {
   "cell_type": "markdown",
   "metadata": {},
   "source": [
    "<a id='plot_all_cohorts'></a>"
   ]
  },
  {
   "cell_type": "markdown",
   "metadata": {},
   "source": [
    "### Plotting all the countries"
   ]
  },
  {
   "cell_type": "code",
   "execution_count": 72,
   "metadata": {
    "collapsed": false
   },
   "outputs": [
    {
     "data": {
      "image/png": "[encoded data removed]",
      "text/plain": [
       "<matplotlib.figure.Figure at 0x1eccd240>"
      ]
     },
     "metadata": {},
     "output_type": "display_data"
    }
   ],
   "source": [
    "for i,country_type in enumerate(countries_type[:4]):\n",
    "    ax = plt.subplot(2,2,i+1)\n",
    "    kmf1 = KaplanMeierFitter()\n",
    "    ind = df_censor[df_censor.country == country_type]\n",
    "    kmf1.fit(ind.career_length, event_observed=ind.censor, label=country_type)\n",
    "    kmf1.survival_function_.plot(ax=ax)\n",
    "    plt.xlim(0,25)\n",
    "    if i % 2 ==0:\n",
    "        plt.ylabel('Probability')\n",
    "    plt.xlabel(\"Years\")\n",
    "plt.tight_layout()"
   ]
  },
  {
   "cell_type": "code",
   "execution_count": 73,
   "metadata": {
    "collapsed": false
   },
   "outputs": [
    {
     "data": {
      "image/png": "[encoded data removed]",
      "text/plain": [
       "<matplotlib.figure.Figure at 0x1d48efd0>"
      ]
     },
     "metadata": {},
     "output_type": "display_data"
    }
   ],
   "source": [
    "for i,country_type in enumerate(countries_type[4:8]):\n",
    "    ax = plt.subplot(2,2,i+1)\n",
    "    kmf1 = KaplanMeierFitter()\n",
    "    ind = df_censor[df_censor.country == country_type]\n",
    "    kmf1.fit(ind.career_length, event_observed=ind.censor, label=country_type)\n",
    "    kmf1.survival_function_.plot(ax=ax)\n",
    "    plt.xlim(0,25)\n",
    "    if i % 2 ==0:\n",
    "        plt.ylabel('Probability')\n",
    "    plt.xlabel(\"Years\")\n",
    "plt.tight_layout()"
   ]
  },
  {
   "cell_type": "code",
   "execution_count": 74,
   "metadata": {
    "collapsed": false
   },
   "outputs": [
    {
     "data": {
      "image/png": "[encoded data removed]",
      "text/plain": [
       "<matplotlib.figure.Figure at 0x20f71080>"
      ]
     },
     "metadata": {},
     "output_type": "display_data"
    }
   ],
   "source": [
    "for i,country_type in enumerate(countries_type[8:]):\n",
    "    ax = plt.subplot(2,2,i+1)\n",
    "    kmf1 = KaplanMeierFitter()\n",
    "    ind = df_censor[df_censor.country == country_type]\n",
    "    kmf1.fit(ind.career_length, event_observed=ind.censor, label=country_type)\n",
    "    kmf1.survival_function_.plot(ax=ax)\n",
    "    plt.xlim(0,25)\n",
    "    if i % 2 ==0:\n",
    "        plt.ylabel('Probability')\n",
    "    plt.xlabel(\"Years\")\n",
    "plt.tight_layout()"
   ]
  },
  {
   "cell_type": "code",
   "execution_count": 79,
   "metadata": {
    "collapsed": false
   },
   "outputs": [
    {
     "data": {
      "text/html": [
       "<iframe id=\"igraph\" scrolling=\"no\" style=\"border:none;\"seamless=\"seamless\" src=\"https://plot.ly/~keshr3106/18.embed\" height=\"525px\" width=\"100%\"></iframe>"
      ],
      "text/plain": [
       "<plotly.tools.PlotlyDisplay object>"
      ]
     },
     "execution_count": 79,
     "metadata": {},
     "output_type": "execute_result"
    }
   ],
   "source": [
    "ax = plt.subplot(111)\n",
    "kmf = KaplanMeierFitter()\n",
    "for country in countries_type:\n",
    "    df_country = df_censor[df_censor.country == country]\n",
    "    kmf.fit(df_country.career_length, df_country.censor, label=country)\n",
    "    ax = kmf.survival_function_.plot(ax=ax)\n",
    "plt.title(\"Survival curve of ODI Careers across all countries \")\n",
    "kmf2 = plt.gcf()\n",
    "pyplot(kmf2, ci=False)    "
   ]
  },
  {
   "cell_type": "markdown",
   "metadata": {},
   "source": [
    "<a id='plot_era-cohorts'></a>"
   ]
  },
  {
   "cell_type": "markdown",
   "metadata": {},
   "source": [
    "## Plotting using era-cohorts"
   ]
  },
  {
   "cell_type": "markdown",
   "metadata": {},
   "source": [
    "* Cricket as a sport has evolved over the years. The sport we see now is a far cry from what it was during the 1980s."
   ]
  },
  {
   "cell_type": "markdown",
   "metadata": {},
   "source": [
    "* The players are divided into 3 main 'eras', based on when they made their debut:\n",
    "    1. 2007 - present\n",
    "    2. 1989 - 2006\n",
    "    3. Start of ODI cricket - 1988"
   ]
  },
  {
   "cell_type": "code",
   "execution_count": 76,
   "metadata": {
    "collapsed": true
   },
   "outputs": [],
   "source": [
    "type_era = []\n",
    "for index, row in df_censor.iterrows():\n",
    "    if row.career_start_date < 1989:\n",
    "        type_era.append('0')\n",
    "    if row.career_start_date >= 1989 and row.career_start_date < 2007:\n",
    "        type_era.append('1')\n",
    "    if row.career_start_date >= 2007:\n",
    "        type_era.append('2')\n",
    "df_censor['type_era'] = pd.Series(type_era)"
   ]
  },
  {
   "cell_type": "markdown",
   "metadata": {},
   "source": [
    "* Plotting the players, based on their eras."
   ]
  },
  {
   "cell_type": "code",
   "execution_count": 78,
   "metadata": {
    "collapsed": false
   },
   "outputs": [
    {
     "data": {
      "text/html": [
       "<iframe id=\"igraph\" scrolling=\"no\" style=\"border:none;\"seamless=\"seamless\" src=\"https://plot.ly/~keshr3106/16.embed\" height=\"525px\" width=\"100%\"></iframe>"
      ],
      "text/plain": [
       "<plotly.tools.PlotlyDisplay object>"
      ]
     },
     "execution_count": 78,
     "metadata": {},
     "output_type": "execute_result"
    }
   ],
   "source": [
    "from lifelines import KaplanMeierFitter\n",
    "era_0 = df_censor.query(\"type_era == '0'\")\n",
    "era_1 = df_censor.query(\"type_era == '1'\")\n",
    "kmf = KaplanMeierFitter()\n",
    "ax = plt.subplot(111)\n",
    "kmf.fit(era_0.career_length, event_observed=era_0.censor, label=\"before 89\")\n",
    "kmf.survival_function_.plot(ax=ax)\n",
    "kmf.fit(era_1.career_length, event_observed=era_1.censor, label=\"89-07\")\n",
    "kmf.survival_function_.plot(ax=ax)\n",
    "plt.title(\"Survival curve of ODI Careers among players who made their debut before 89 and 89 -'07 \")\n",
    "#plt.title(\"Survival curve of ODI Careers among England and Pakistan players \")\n",
    "kmf2 = plt.gcf()\n",
    "pyplot(kmf2, ci=False)"
   ]
  },
  {
   "cell_type": "markdown",
   "metadata": {},
   "source": [
    "<a id='era_obs_inf'></a>"
   ]
  },
  {
   "cell_type": "markdown",
   "metadata": {},
   "source": [
    "#### Observations:\n",
    "* The basic trend observed in the plot - \n",
    "    The survival curve for the players who made their debut in the period 89-2007 clearly dominates the players who made their debut before 1989 from the period, 5 years to the end - the domination is evident especially from 9 years."
   ]
  },
  {
   "cell_type": "markdown",
   "metadata": {},
   "source": [
    "#### Inferences:\n",
    "* There is a greater chance for players who made their debut in the period 89-2007 to have a career length of 9 years and more than players who made their debuts before 1989."
   ]
  },
  {
   "cell_type": "markdown",
   "metadata": {},
   "source": [
    "<a id='era_inf_sport'></a>"
   ]
  },
  {
   "cell_type": "markdown",
   "metadata": {},
   "source": [
    "### Can this be explained by the sport itself?"
   ]
  },
  {
   "cell_type": "markdown",
   "metadata": {},
   "source": [
    "* The sport has changed drastically from the 1980s to present. \n",
    "* A major factor which can influence a player's career length is how injury prone his body is.\n",
    "* The fitness standards of the player have improved over the years thanks to better coaching standards, improved player physio-support, well equipped training facilities etc.\n",
    "* This probably can lengthen a player's career - especially when he has played for around 10 years or so. The improved facilities/standards can help him get back to competitive cricket quicker than it has been earlier. This probably explains the dominance of the curve from 9 years."
   ]
  },
  {
   "cell_type": "markdown",
   "metadata": {},
   "source": [
    "<a id='plot_player-cohorts'></a>"
   ]
  },
  {
   "cell_type": "markdown",
   "metadata": {},
   "source": [
    "## Plotting type of player cohorts"
   ]
  },
  {
   "cell_type": "code",
   "execution_count": 80,
   "metadata": {
    "collapsed": false
   },
   "outputs": [],
   "source": [
    "df_censor_new = pd.read_csv('censor_oct2_new.csv')"
   ]
  },
  {
   "cell_type": "code",
   "execution_count": 82,
   "metadata": {
    "collapsed": true
   },
   "outputs": [],
   "source": [
    "df_censor_new = df_censor_new.drop('Unnamed: 0', 1);"
   ]
  },
  {
   "cell_type": "code",
   "execution_count": 83,
   "metadata": {
    "collapsed": false
   },
   "outputs": [
    {
     "data": {
      "text/plain": [
       "1    722\n",
       "0    691\n",
       "2     97\n",
       "Name: type_player, dtype: int64"
      ]
     },
     "execution_count": 83,
     "metadata": {},
     "output_type": "execute_result"
    }
   ],
   "source": [
    "df_censor_new.type_player.value_counts()"
   ]
  },
  {
   "cell_type": "markdown",
   "metadata": {},
   "source": [
    "There are 722 bowlers, 691 batsmen and 97 all-rounders in this data."
   ]
  },
  {
   "cell_type": "markdown",
   "metadata": {},
   "source": [
    "* Plotting the players based on their type:"
   ]
  },
  {
   "cell_type": "code",
   "execution_count": 84,
   "metadata": {
    "collapsed": false
   },
   "outputs": [
    {
     "data": {
      "text/html": [
       "<iframe id=\"igraph\" scrolling=\"no\" style=\"border:none;\"seamless=\"seamless\" src=\"https://plot.ly/~keshr3106/20.embed\" height=\"525px\" width=\"100%\"></iframe>"
      ],
      "text/plain": [
       "<plotly.tools.PlotlyDisplay object>"
      ]
     },
     "execution_count": 84,
     "metadata": {},
     "output_type": "execute_result"
    }
   ],
   "source": [
    "from lifelines import KaplanMeierFitter\n",
    "bat = df_censor_new.query(\"type_player == 0\")\n",
    "bowl = df_censor_new.query(\"type_player == 1\")\n",
    "kmf = KaplanMeierFitter()\n",
    "ax = plt.subplot(111)\n",
    "kmf.fit(bat.career_length, event_observed=bat.censor, label=\"batsmen\")\n",
    "kmf.survival_function_.plot(ax=ax)\n",
    "kmf.fit(bowl.career_length, event_observed=bowl.censor, label=\"bowlers\")\n",
    "kmf.survival_function_.plot(ax=ax)\n",
    "plt.title(\"Survival curve of ODI Careers among batsmen and bowlers\")\n",
    "kmf2 = plt.gcf()\n",
    "pyplot(kmf2, ci=False)"
   ]
  },
  {
   "cell_type": "markdown",
   "metadata": {},
   "source": [
    "<a id='player_obs_inf'></a>"
   ]
  },
  {
   "cell_type": "markdown",
   "metadata": {},
   "source": [
    "#### Observations:\n",
    "* The survival curve for the batsmen is much higher than that of the bowlers.\n",
    "* The tail for the batsmen extend much beyond 20 while the bowlers' curve ends by 20."
   ]
  },
  {
   "cell_type": "markdown",
   "metadata": {},
   "source": [
    "#### Inferences:\n",
    "* Batsmen are expected to have a longer career than bowlers.\n",
    "* The chances for the career lengths of the batsmen to have 20+ careers is more than that for the bowlers."
   ]
  },
  {
   "cell_type": "markdown",
   "metadata": {},
   "source": [
    "<a id='player_inf_sport'></a>"
   ]
  },
  {
   "cell_type": "markdown",
   "metadata": {},
   "source": [
    "### Can this be explained by the sport itself?"
   ]
  },
  {
   "cell_type": "markdown",
   "metadata": {},
   "source": [
    "* The role of the player in the team - batsman or bowler or all-rounder playes a huge factor in their career lengths. \n",
    "* A bowler goes through much more injuries and has to maintain high fitness standards, compared to batsmen.\n",
    "* Also, throughout the history of player selections, more bowlers have been tried and tested - a large number of them dropped after playing a single series or two. The quest to find a bowling combination suited for all playing conditions continues till date,prompting the selectors to use the bowlers on a case-by-case basis. This explains the higher amount of bowlers overall and the significant difference in their career lengths."
   ]
  },
  {
   "cell_type": "markdown",
   "metadata": {},
   "source": [
    "<a id='survival_regression'></a>"
   ]
  },
  {
   "cell_type": "markdown",
   "metadata": {
    "collapsed": true
   },
   "source": [
    "## Survival Regression"
   ]
  },
  {
   "cell_type": "markdown",
   "metadata": {
    "collapsed": true
   },
   "source": [
    "* The concept of survival analysis can be used to predict the survival curves of individual subjects too. This is achieved by using regression models."
   ]
  },
  {
   "cell_type": "markdown",
   "metadata": {},
   "source": [
    "* These regression models regress the covariates( additional information obtained related to the subject) against the duration and censor information of the subject. "
   ]
  },
  {
   "cell_type": "markdown",
   "metadata": {},
   "source": [
    "* The regression models - Aalen's Additive Model and Cox's Proportional Hazards Model, estimate the hazard rate.  "
   ]
  },
  {
   "cell_type": "markdown",
   "metadata": {},
   "source": [
    "* Survival Regression can be used to predict the individual survival and hazard rates. "
   ]
  },
  {
   "cell_type": "markdown",
   "metadata": {},
   "source": [
    "* These regression techniques can thus be applied on  individual players, whose career is not oer yet, to predict the possible lifetime of his career."
   ]
  },
  {
   "cell_type": "markdown",
   "metadata": {},
   "source": [
    "* The covariates used are:\n",
    "    1. Country\n",
    "    2. Era the player belongs to\n",
    "    3. Role of player"
   ]
  },
  {
   "cell_type": "markdown",
   "metadata": {},
   "source": [
    "* Using these covariates, the individual survival rates can be estimated by regressing these covariates against the known duration and censoring information."
   ]
  },
  {
   "cell_type": "markdown",
   "metadata": {},
   "source": [
    "* The Aalen Additive model is used on this dataset."
   ]
  },
  {
   "cell_type": "code",
   "execution_count": 85,
   "metadata": {
    "collapsed": true
   },
   "outputs": [],
   "source": [
    "from lifelines import AalenAdditiveFitter"
   ]
  },
  {
   "cell_type": "code",
   "execution_count": 86,
   "metadata": {
    "collapsed": false
   },
   "outputs": [],
   "source": [
    "import pandas as pd\n",
    "df_regression = pd.read_csv('censor_oct2_new.csv')\n",
    "df_regression = df_regression.drop('Unnamed: 0', 1);\n",
    "type_era = []\n",
    "for index, row in df_regression.iterrows():\n",
    "    if row.career_start_date < 1989:\n",
    "        type_era.append('0')\n",
    "    if row.career_start_date >= 1989 and row.career_start_date < 2007:\n",
    "        type_era.append('1')\n",
    "    if row.career_start_date >= 2007:\n",
    "        type_era.append('2')\n",
    "df_regression['type_era'] = pd.Series(type_era)\n",
    "type_player = list()\n",
    "for index, row in df_regression.iterrows():\n",
    "    type_player.append(str(row.type_player))\n",
    "df_regression['type_player'] = pd.Series(type_player)"
   ]
  },
  {
   "cell_type": "code",
   "execution_count": 87,
   "metadata": {
    "collapsed": false
   },
   "outputs": [
    {
     "name": "stdout",
     "output_type": "stream",
     "text": [
      " [-----------------100%-----------------] 1203 of 1203 complete in 3.3 sec\n"
     ]
    },
    {
     "data": {
      "text/plain": [
       "<lifelines.AalenAdditiveFitter: fitted with 1510 observations, 307 censored>"
      ]
     },
     "execution_count": 87,
     "metadata": {},
     "output_type": "execute_result"
    }
   ],
   "source": [
    "import patsy\n",
    "X = patsy.dmatrix('country + type_era + type_player -1', df_regression, return_type='dataframe')\n",
    "aaf = AalenAdditiveFitter(coef_penalizer=1.0, fit_intercept=True)\n",
    "X['T'] = df_regression.career_length\n",
    "X['E'] = df_regression.censor\n",
    "aaf.fit(X, 'T', event_col='E')"
   ]
  },
  {
   "cell_type": "markdown",
   "metadata": {},
   "source": [
    "<a id='predict_kohli'></a>"
   ]
  },
  {
   "cell_type": "markdown",
   "metadata": {},
   "source": [
    "### Predict the survival rate of Virat Kohli"
   ]
  },
  {
   "cell_type": "code",
   "execution_count": 94,
   "metadata": {
    "collapsed": false
   },
   "outputs": [
    {
     "data": {
      "text/plain": [
       "<matplotlib.axes._subplots.AxesSubplot at 0x2049f550>"
      ]
     },
     "execution_count": 94,
     "metadata": {},
     "output_type": "execute_result"
    },
    {
     "data": {
      "image/png": "[encoded data removed]",
      "text/plain": [
       "<matplotlib.figure.Figure at 0x1eceee10>"
      ]
     },
     "metadata": {},
     "output_type": "display_data"
    }
   ],
   "source": [
    "ix = (df_censor_new['name'] == 'V Kohli')\n",
    "kohli = X[ix]\n",
    "ax = plt.subplot(2,1,2)\n",
    "aaf.predict_survival_function(kohli).plot(ax=ax)"
   ]
  },
  {
   "cell_type": "markdown",
   "metadata": {},
   "source": [
    "<a id='predict_steyn'></a>"
   ]
  },
  {
   "cell_type": "markdown",
   "metadata": {},
   "source": [
    "### Predict the survival rate of Dale Steyn"
   ]
  },
  {
   "cell_type": "code",
   "execution_count": 95,
   "metadata": {
    "collapsed": false
   },
   "outputs": [
    {
     "data": {
      "text/plain": [
       "<matplotlib.axes._subplots.AxesSubplot at 0x213f7208>"
      ]
     },
     "execution_count": 95,
     "metadata": {},
     "output_type": "execute_result"
    },
    {
     "data": {
      "image/png": "[encoded data removed]",
      "text/plain": [
       "<matplotlib.figure.Figure at 0x20f87c18>"
      ]
     },
     "metadata": {},
     "output_type": "display_data"
    }
   ],
   "source": [
    "ix = (df_censor_new['name'] == 'DW Steyn')\n",
    "steyn = X[ix]\n",
    "ax = plt.subplot(2,1,2)\n",
    "aaf.predict_survival_function(steyn).plot(ax=ax)"
   ]
  },
  {
   "cell_type": "markdown",
   "metadata": {
    "collapsed": true
   },
   "source": [
    "### Caveats to this regresion model"
   ]
  },
  {
   "cell_type": "markdown",
   "metadata": {},
   "source": [
    "* This model takes only 3 factors into concern : \n",
    "    1. Country\n",
    "    2. Era the player belongs to\n",
    "    3. Role of player\n",
    "\n",
    "\n",
    "* Other than these 3 factors, there are other factors which play a vital role in the lifetime of a player. They include the \n",
    "personal fitness of the player, his form/consistency, his general attitude - all which can affect his span, sometimes more than\n",
    "the 3 factos taken into account.\n",
    "\n",
    "\n",
    "* However, these factors are not quantifiable and even if they are, it is very difficult to generate such data for all the players.\n",
    "\n",
    "\n",
    "* Under these limitations of the model, it may look like for example, any Indian batsman who makes his debut after 2007 will have the same survival rate as that of  Virat Kohli.\n",
    "\n",
    "\n",
    "* But if further factors are taken into concern, then the survival rates will be very different and can be more useful."
   ]
  },
  {
   "cell_type": "code",
   "execution_count": null,
   "metadata": {
    "collapsed": true
   },
   "outputs": [],
   "source": []
  }
 ],
 "metadata": {
  "kernelspec": {
   "display_name": "Python 2",
   "language": "python",
   "name": "python2"
  },
  "language_info": {
   "codemirror_mode": {
    "name": "ipython",
    "version": 2
   },
   "file_extension": ".py",
   "mimetype": "text/x-python",
   "name": "python",
   "nbconvert_exporter": "python",
   "pygments_lexer": "ipython2",
   "version": "2.7.11"
  }
 },
 "nbformat": 4,
 "nbformat_minor": 0
}
