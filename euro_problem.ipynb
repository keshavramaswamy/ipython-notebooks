{
 "cells": [
  {
   "cell_type": "markdown",
   "metadata": {},
   "source": [
    "#### Euro Problem - Think Bayes Page 33, Ch 4 "
   ]
  },
  {
   "cell_type": "markdown",
   "metadata": {},
   "source": [
    "When spun on edge 250 times, a Belgian one-euro coin\n",
    "came up heads 140 times and tails 110. ‘It looks very\n",
    "suspicious to me,’ said Barry Blight, a statistics lecturer\n",
    "at the London School of Economics. ‘If the coin were\n",
    "unbiased, the chance of getting a result as extreme as\n",
    "that would be less than 7%.’\n",
    "But do these data give evidence that the coin is biased rather\n",
    "than fair?\n",
    "\n",
    "http://www.greenteapress.com/thinkbayes/thinkbayes.pdf"
   ]
  },
  {
   "cell_type": "markdown",
   "metadata": {},
   "source": [
    "#### Defining Hypotheses: \n",
    "- The probability of a coin showing up head is 0.5 if it is perfectly balanced. Otherwise it can take any value depending on its position and physical characterstics of the coin.\n",
    "- If an **uniform prior** is assumed, then the probability of finding head equally varies from 0 to 1.\n",
    "- So 101 hypotheses are defined - n: from 0 to 100 - each representing n% probability of finding a head."
   ]
  },
  {
   "cell_type": "code",
   "execution_count": 2,
   "metadata": {
    "collapsed": false
   },
   "outputs": [],
   "source": [
    "%matplotlib inline\n",
    "import pandas as pd\n",
    "import matplotlib\n",
    "matplotlib.style.use('ggplot')\n",
    "import matplotlib.pyplot as plt"
   ]
  },
  {
   "cell_type": "code",
   "execution_count": 4,
   "metadata": {
    "collapsed": false,
    "scrolled": false
   },
   "outputs": [
    {
     "data": {
      "text/plain": [
       "<matplotlib.axes._subplots.AxesSubplot at 0x109c21710>"
      ]
     },
     "execution_count": 4,
     "metadata": {},
     "output_type": "execute_result"
    },
    {
     "data": {
      "image/png": "[encoded data removed]",
      "text/plain": [
       "<matplotlib.figure.Figure at 0x106c9a5d0>"
      ]
     },
     "metadata": {},
     "output_type": "display_data"
    }
   ],
   "source": [
    "uniform_prior = lambda n: 1./n\n",
    "range_hyp = range(0,101)\n",
    "df = pd.DataFrame()\n",
    "df['hyp'] = range_hyp\n",
    "df['uniform_prior'] = uniform_prior(len(df))\n",
    "df\n",
    "df.uniform_prior.plot(label = 'uniform_prior', legend = True)"
   ]
  },
  {
   "cell_type": "markdown",
   "metadata": {},
   "source": [
    "- The likelihood is defined as the probability of getting heads 140 times and tails 110 times given the hypothesis."
   ]
  },
  {
   "cell_type": "code",
   "execution_count": 1,
   "metadata": {
    "collapsed": false,
    "scrolled": true
   },
   "outputs": [
    {
     "name": "stdout",
     "output_type": "stream",
     "text": [
      "['T', 'T', 'T', 'T', 'T', 'T', 'T', 'T', 'T', 'T', 'T', 'T', 'T', 'T', 'T', 'T', 'T', 'T', 'T', 'T', 'T', 'T', 'T', 'T', 'T', 'T', 'T', 'T', 'T', 'T', 'T', 'T', 'T', 'T', 'T', 'T', 'T', 'T', 'T', 'T', 'T', 'T', 'T', 'T', 'T', 'T', 'T', 'T', 'T', 'T', 'T', 'T', 'T', 'T', 'T', 'T', 'T', 'T', 'T', 'T', 'T', 'T', 'T', 'T', 'T', 'T', 'T', 'T', 'T', 'T', 'T', 'T', 'T', 'T', 'T', 'T', 'T', 'T', 'T', 'T', 'T', 'T', 'T', 'T', 'T', 'T', 'T', 'T', 'T', 'T', 'T', 'T', 'T', 'T', 'T', 'T', 'T', 'T', 'T', 'T', 'T', 'T', 'T', 'T', 'T', 'T', 'T', 'T', 'T', 'T', 'H', 'H', 'H', 'H', 'H', 'H', 'H', 'H', 'H', 'H', 'H', 'H', 'H', 'H', 'H', 'H', 'H', 'H', 'H', 'H', 'H', 'H', 'H', 'H', 'H', 'H', 'H', 'H', 'H', 'H', 'H', 'H', 'H', 'H', 'H', 'H', 'H', 'H', 'H', 'H', 'H', 'H', 'H', 'H', 'H', 'H', 'H', 'H', 'H', 'H', 'H', 'H', 'H', 'H', 'H', 'H', 'H', 'H', 'H', 'H', 'H', 'H', 'H', 'H', 'H', 'H', 'H', 'H', 'H', 'H', 'H', 'H', 'H', 'H', 'H', 'H', 'H', 'H', 'H', 'H', 'H', 'H', 'H', 'H', 'H', 'H', 'H', 'H', 'H', 'H', 'H', 'H', 'H', 'H', 'H', 'H', 'H', 'H', 'H', 'H', 'H', 'H', 'H', 'H', 'H', 'H', 'H', 'H', 'H', 'H', 'H', 'H', 'H', 'H', 'H', 'H', 'H', 'H', 'H', 'H', 'H', 'H', 'H', 'H', 'H', 'H', 'H', 'H', 'H', 'H', 'H', 'H', 'H', 'H', 'H', 'H', 'H', 'H', 'H', 'H']\n"
     ]
    }
   ],
   "source": [
    "observations = 'T' * 110 + 'H' * 140\n",
    "dataset = list(observations)\n",
    "print dataset"
   ]
  },
  {
   "cell_type": "markdown",
   "metadata": {},
   "source": [
    " - The likelihood for each hypothesis numbered x, is the value x/100 if it is 'Head' or (1 - x/100) if it is 'Tail'\n",
    " - The posterior thus will be the prior times likelihood divided by the normalizing constant.\n",
    " - The normalizing constant is the probability of the data which is the sum of all likelihoods."
   ]
  },
  {
   "cell_type": "code",
   "execution_count": 14,
   "metadata": {
    "collapsed": false,
    "scrolled": false
   },
   "outputs": [
    {
     "data": {
      "text/plain": [
       "0.1274531805839112"
      ]
     },
     "execution_count": 14,
     "metadata": {},
     "output_type": "execute_result"
    },
    {
     "data": {
      "image/png": "[encoded data removed]",
      "text/plain": [
       "<matplotlib.figure.Figure at 0x10a1fcfd0>"
      ]
     },
     "metadata": {},
     "output_type": "display_data"
    }
   ],
   "source": [
    "df['prior_times_likelihood'] = df.uniform_prior\n",
    "\n",
    "calc_likelihood = lambda df, data: df.hyp/100.0 if data is 'H' else (1 - (df.hyp/100.0))\n",
    "\n",
    "for data in dataset:\n",
    "    df.prior_times_likelihood = df.prior_times_likelihood * calc_likelihood(df, data)\n",
    "\n",
    "# posterior equals prior times likelihood/ sum(all likelihoods)\n",
    "df['posterior'] = df.prior_times_likelihood / sum(df.prior_times_likelihood)\n",
    "\n",
    "df.posterior.plot(legend = True, label = 'pdf', title = 'Posterior distribution for uniform prior')\n",
    "#df.boxplot('posterior')\n",
    "df.posterior.loc[56]"
   ]
  },
  {
   "cell_type": "code",
   "execution_count": 12,
   "metadata": {
    "collapsed": false
   },
   "outputs": [
    {
     "data": {
      "text/plain": [
       "count    1.010000e+02\n",
       "mean     9.900990e-03\n",
       "std      2.834711e-02\n",
       "min      0.000000e+00\n",
       "25%      6.481917e-48\n",
       "50%      1.333921e-17\n",
       "75%      2.576620e-05\n",
       "max      1.274532e-01\n",
       "Name: posterior, dtype: float64"
      ]
     },
     "execution_count": 12,
     "metadata": {},
     "output_type": "execute_result"
    }
   ],
   "source": [
    "df.posterior.describe()"
   ]
  },
  {
   "cell_type": "code",
   "execution_count": null,
   "metadata": {
    "collapsed": true
   },
   "outputs": [],
   "source": []
  },
  {
   "cell_type": "markdown",
   "metadata": {},
   "source": [
    "#### Summarizing the posterior distribution"
   ]
  },
  {
   "cell_type": "markdown",
   "metadata": {},
   "source": [
    "- The maximum likelihood finds the most likely value in the probability distribution."
   ]
  },
  {
   "cell_type": "code",
   "execution_count": 82,
   "metadata": {
    "collapsed": false
   },
   "outputs": [
    {
     "data": {
      "text/plain": [
       "56"
      ]
     },
     "execution_count": 82,
     "metadata": {},
     "output_type": "execute_result"
    }
   ],
   "source": [
    "max_likelihood = lambda df_dict: max(df_dict, key=df_dict.get)\n",
    "max_likelihood(df.posterior.to_dict())"
   ]
  },
  {
   "cell_type": "markdown",
   "metadata": {},
   "source": [
    "- Also, the data has 140 heads out of 250 tosses - probability of 56% which is equal to the maximum likelihood."
   ]
  },
  {
   "cell_type": "markdown",
   "metadata": {},
   "source": [
    "- The mean of the posterior distribution is the total sum of the product of the hypotheses and its respective posterior probability."
   ]
  },
  {
   "cell_type": "code",
   "execution_count": 160,
   "metadata": {
    "collapsed": false
   },
   "outputs": [
    {
     "name": "stdout",
     "output_type": "stream",
     "text": [
      "55.9523809524\n"
     ]
    }
   ],
   "source": [
    "def calc_mean(df):\n",
    "    \"\"\"\n",
    "    returns the mean of the posterior distribution\n",
    "    \"\"\"\n",
    "    total = 0\n",
    "    for value, prob in df.iteritems():\n",
    "        total += value * prob\n",
    "    return total\n",
    "print calc_mean(df.posterior)"
   ]
  },
  {
   "cell_type": "markdown",
   "metadata": {},
   "source": [
    "- The mean is 55.95."
   ]
  },
  {
   "cell_type": "markdown",
   "metadata": {},
   "source": [
    "- The median of the posterior is the hypothesis having whose percentile is 50."
   ]
  },
  {
   "cell_type": "code",
   "execution_count": 161,
   "metadata": {
    "collapsed": false
   },
   "outputs": [
    {
     "name": "stdout",
     "output_type": "stream",
     "text": [
      "56\n"
     ]
    }
   ],
   "source": [
    "def calc_hyp_percentile_pdf(df, percentile):\n",
    "    \"\"\"\n",
    "    returns the hypothesis having the respective percentile - pdf\n",
    "    \"\"\"\n",
    "    total = 0\n",
    "    for hyp, prob in df.iteritems():\n",
    "        total += prob\n",
    "        if total >= percentile:\n",
    "            return hyp\n",
    "print calc_hyp_percentile_pdf(df.posterior, .50)"
   ]
  },
  {
   "cell_type": "markdown",
   "metadata": {},
   "source": [
    "- The confidence interval is the range of hypotheses whose percentiles is between 5% and 95% "
   ]
  },
  {
   "cell_type": "code",
   "execution_count": 162,
   "metadata": {
    "collapsed": false
   },
   "outputs": [
    {
     "data": {
      "text/plain": [
       "(51, 61)"
      ]
     },
     "execution_count": 162,
     "metadata": {},
     "output_type": "execute_result"
    }
   ],
   "source": [
    "df_ci = ( calc_hyp_percentile_pdf(df.posterior, .05) , calc_hyp_percentile_pdf(df.posterior, .95) )\n",
    "df_ci"
   ]
  },
  {
   "cell_type": "markdown",
   "metadata": {},
   "source": [
    "#### Alternate way of summarizing the posterior"
   ]
  },
  {
   "cell_type": "markdown",
   "metadata": {},
   "source": [
    "- The confidence intervals can also be calculated using the cumulative distribution(cdf) of the posterior.\n",
    "- The cdf is a distribution that maps the values to its respective percentile ranks."
   ]
  },
  {
   "cell_type": "code",
   "execution_count": 16,
   "metadata": {
    "collapsed": false
   },
   "outputs": [
    {
     "data": {
      "text/plain": [
       "<matplotlib.axes._subplots.AxesSubplot at 0x109c51990>"
      ]
     },
     "execution_count": 16,
     "metadata": {},
     "output_type": "execute_result"
    },
    {
     "data": {
      "image/png": "[encoded data removed]",
      "text/plain": [
       "<matplotlib.figure.Figure at 0x10a2f6650>"
      ]
     },
     "metadata": {},
     "output_type": "display_data"
    }
   ],
   "source": [
    "df_cdf = df.posterior.cumsum()\n",
    "#df_cdf\n",
    "df_cdf.plot(label='cdf', legend=True)"
   ]
  },
  {
   "cell_type": "code",
   "execution_count": 164,
   "metadata": {
    "collapsed": false
   },
   "outputs": [],
   "source": [
    "def calc_hyp_percentile_cdf(df, percentile):\n",
    "    \"\"\"\n",
    "    returns the hypothesis having the respective percentile - cdf\n",
    "    \"\"\"\n",
    "    df_cdf = df.cumsum()\n",
    "    cdf_dict = df_cdf.to_dict()\n",
    "    total = 0\n",
    "    for key, value in cdf_dict.iteritems():\n",
    "        return min(cdf_dict, key=lambda k:abs(percentile - cdf_dict[k]))"
   ]
  },
  {
   "cell_type": "code",
   "execution_count": 165,
   "metadata": {
    "collapsed": false
   },
   "outputs": [
    {
     "data": {
      "text/plain": [
       "(50, 61)"
      ]
     },
     "execution_count": 165,
     "metadata": {},
     "output_type": "execute_result"
    }
   ],
   "source": [
    "df_ci_cdf = ( calc_hyp_percentile_cdf(df.posterior, .05) , calc_hyp_percentile_cdf(df.posterior, .95) )\n",
    "df_ci_cdf"
   ]
  },
  {
   "cell_type": "markdown",
   "metadata": {},
   "source": [
    "- **Since the confidence interval does not have 50% in it, the coin is not fair.**"
   ]
  },
  {
   "cell_type": "markdown",
   "metadata": {},
   "source": [
    "#### Non-Uniform Prior"
   ]
  },
  {
   "cell_type": "code",
   "execution_count": 166,
   "metadata": {
    "collapsed": false
   },
   "outputs": [
    {
     "data": {
      "text/plain": [
       "<matplotlib.axes._subplots.AxesSubplot at 0x112a06cd0>"
      ]
     },
     "execution_count": 166,
     "metadata": {},
     "output_type": "execute_result"
    },
    {
     "data": {
      "image/png": "[encoded data removed]",
      "text/plain": [
       "<matplotlib.figure.Figure at 0x1128045d0>"
      ]
     },
     "metadata": {},
     "output_type": "display_data"
    }
   ],
   "source": [
    "triangular_prior = lambda n: n if n < 51 else 100 - n\n",
    "df_non_uniform = pd.DataFrame()\n",
    "df_non_uniform['hyp'] = range_hyp\n",
    "triangular_prior_range = [triangular_prior(hyp) for hyp in range_hyp ]\n",
    "triangular_prior = [prior/float(sum(triangular_prior_range)) for prior in triangular_prior_range]\n",
    "df_non_uniform['triangular_prior'] = triangular_prior\n",
    "df_non_uniform.triangular_prior.plot(label = 'triangular_prior', legend = True)"
   ]
  },
  {
   "cell_type": "code",
   "execution_count": 185,
   "metadata": {
    "collapsed": false
   },
   "outputs": [
    {
     "data": {
      "text/plain": [
       "<matplotlib.axes._subplots.AxesSubplot at 0x113c4b550>"
      ]
     },
     "execution_count": 185,
     "metadata": {},
     "output_type": "execute_result"
    },
    {
     "data": {
      "image/png": "[encoded data removed]",
      "text/plain": [
       "<matplotlib.figure.Figure at 0x113a3f510>"
      ]
     },
     "metadata": {},
     "output_type": "display_data"
    }
   ],
   "source": [
    "df_non_uniform['prior_times_likelihood'] = df_non_uniform.triangular_prior\n",
    "for data in dataset:\n",
    "    df_non_uniform.prior_times_likelihood = df.prior_times_likelihood * calc_likelihood(df, data)\n",
    "# posterior  = prior * likelihood/ sum(all likelihoods)\n",
    "df_non_uniform['posterior'] = df_non_uniform.prior_times_likelihood / sum(df_non_uniform.prior_times_likelihood) \n",
    "df_non_uniform.posterior.plot(legend = True, label = 'pdf', title = 'Posterior distribution for non-uniform prior')"
   ]
  },
  {
   "cell_type": "code",
   "execution_count": 168,
   "metadata": {
    "collapsed": false
   },
   "outputs": [
    {
     "data": {
      "text/plain": [
       "56"
      ]
     },
     "execution_count": 168,
     "metadata": {},
     "output_type": "execute_result"
    }
   ],
   "source": [
    "max_likelihood(df_non_uniform.posterior.to_dict())"
   ]
  },
  {
   "cell_type": "code",
   "execution_count": 169,
   "metadata": {
    "collapsed": false
   },
   "outputs": [
    {
     "data": {
      "text/plain": [
       "55.731225296442695"
      ]
     },
     "execution_count": 169,
     "metadata": {},
     "output_type": "execute_result"
    }
   ],
   "source": [
    "calc_mean(df_non_uniform.posterior)"
   ]
  },
  {
   "cell_type": "code",
   "execution_count": 170,
   "metadata": {
    "collapsed": false
   },
   "outputs": [
    {
     "data": {
      "text/plain": [
       "56"
      ]
     },
     "execution_count": 170,
     "metadata": {},
     "output_type": "execute_result"
    }
   ],
   "source": [
    "calc_hyp_percentile(df_non_uniform.posterior, .50)"
   ]
  },
  {
   "cell_type": "code",
   "execution_count": 171,
   "metadata": {
    "collapsed": false
   },
   "outputs": [
    {
     "data": {
      "text/plain": [
       "(51, 61)"
      ]
     },
     "execution_count": 171,
     "metadata": {},
     "output_type": "execute_result"
    }
   ],
   "source": [
    "df_non_uniform_ci = ( calc_hyp_percentile(df_non_uniform.posterior, .05) , calc_hyp_percentile(df_non_uniform.posterior, .95) )\n",
    "df_non_uniform_ci"
   ]
  },
  {
   "cell_type": "code",
   "execution_count": 173,
   "metadata": {
    "collapsed": false
   },
   "outputs": [
    {
     "data": {
      "text/plain": [
       "<matplotlib.axes._subplots.AxesSubplot at 0x112dcd210>"
      ]
     },
     "execution_count": 173,
     "metadata": {},
     "output_type": "execute_result"
    },
    {
     "data": {
      "image/png": "[encoded data removed]",
      "text/plain": [
       "<matplotlib.figure.Figure at 0x112e93090>"
      ]
     },
     "metadata": {},
     "output_type": "display_data"
    }
   ],
   "source": [
    "df_non_uniform_cdf = df_non_uniform.posterior.cumsum()\n",
    "df_non_uniform_cdf.plot(label='cdf', legend=True, ylim = (0,1.2))"
   ]
  },
  {
   "cell_type": "code",
   "execution_count": 174,
   "metadata": {
    "collapsed": false
   },
   "outputs": [
    {
     "data": {
      "text/plain": [
       "(50, 60)"
      ]
     },
     "execution_count": 174,
     "metadata": {},
     "output_type": "execute_result"
    }
   ],
   "source": [
    "df_non_uniform_ci_cdf = ( calc_hyp_percentile_cdf(df_non_uniform.posterior, .05) , calc_hyp_percentile_cdf(df_non_uniform.posterior, .95) )\n",
    "df_non_uniform_ci_cdf"
   ]
  },
  {
   "cell_type": "markdown",
   "metadata": {},
   "source": [
    "- Plotting both priors on same scale:"
   ]
  },
  {
   "cell_type": "code",
   "execution_count": 175,
   "metadata": {
    "collapsed": false
   },
   "outputs": [
    {
     "data": {
      "text/plain": [
       "<matplotlib.axes._subplots.AxesSubplot at 0x113010410>"
      ]
     },
     "execution_count": 175,
     "metadata": {},
     "output_type": "execute_result"
    },
    {
     "data": {
      "image/png": "[encoded data removed]",
      "text/plain": [
       "<matplotlib.figure.Figure at 0x10d477b10>"
      ]
     },
     "metadata": {},
     "output_type": "display_data"
    }
   ],
   "source": [
    "df_prior_uniform = pd.DataFrame(df.uniform_prior, columns = ['uniform_prior'])\n",
    "df_prior_triangular = pd.DataFrame(df_non_uniform.triangular_prior, columns = ['triangular_prior'])\n",
    "df_prior_uniform['triangular_prior'] = df_prior_triangular.triangular_prior\n",
    "df_prior_uniform.plot()"
   ]
  },
  {
   "cell_type": "code",
   "execution_count": 186,
   "metadata": {
    "collapsed": false
   },
   "outputs": [
    {
     "data": {
      "text/plain": [
       "<matplotlib.axes._subplots.AxesSubplot at 0x113d717d0>"
      ]
     },
     "execution_count": 186,
     "metadata": {},
     "output_type": "execute_result"
    },
    {
     "data": {
      "image/png": "[encoded data removed]",
      "text/plain": [
       "<matplotlib.figure.Figure at 0x1134ac790>"
      ]
     },
     "metadata": {},
     "output_type": "display_data"
    }
   ],
   "source": [
    "df_posterior_uniform = pd.DataFrame(df.posterior, columns = ['posterior'])\n",
    "df_posterior_triangular = pd.DataFrame(df_non_uniform.posterior, columns = ['posterior'])\n",
    "df_posterior_uniform['non_uniform_posterior'] = df_posterior_triangular.posterior\n",
    "df_posterior_uniform.plot()"
   ]
  },
  {
   "cell_type": "markdown",
   "metadata": {
    "collapsed": true
   },
   "source": [
    "#### Beta Distribution\n",
    " - Intuitive explanation of beta distributions: http://stats.stackexchange.com/questions/47771/what-is-the-intuition-behind-beta-distribution ( explained with a simple example involving baseball batting averages)\n",
    " - This example has been discussed at this notebook: http://nbviewer.ipython.org/github/kramaswamyxu/Notebooks/blob/master/beta_distribution.ipynb in detail"
   ]
  },
  {
   "cell_type": "markdown",
   "metadata": {},
   "source": [
    "#### Key points:"
   ]
  },
  {
   "cell_type": "markdown",
   "metadata": {},
   "source": [
    "- The beta distribution is a continous distribution on the scale of (0,1).\n",
    "- The beta distribution is a conjugate prior - having a beta prior makes the posterior of type beta distribution too.\n",
    "- If the beta prior is a distribution that depends on $ \\alpha $ and $ \\beta $, then the posterior will be a beta distribution on $ \\alpha $ + 140 and $ \\beta $ + 110 for data of 140 heads and 110 tails.\n",
    "- Typically used in bernoulli type examples - those involving successes - can be used hence in this example too."
   ]
  },
  {
   "cell_type": "markdown",
   "metadata": {},
   "source": [
    "- The beta distribution for $ \\alpha $ = 1 and $ \\beta $ = 1 gives an uniform distribution and thus can be used as an uniform prior."
   ]
  },
  {
   "cell_type": "code",
   "execution_count": 192,
   "metadata": {
    "collapsed": false
   },
   "outputs": [],
   "source": [
    "from scipy.stats import beta\n",
    "rv = beta(1, 1)\n",
    "import numpy as np\n",
    "import pandas as pd\n",
    "df['prob'] = np.linspace(0,1, len(df))\n",
    "df['beta_prior'] = rv.pdf(np.linspace(0,1, len(df)))"
   ]
  },
  {
   "cell_type": "code",
   "execution_count": 193,
   "metadata": {
    "collapsed": false
   },
   "outputs": [
    {
     "data": {
      "text/plain": [
       "<matplotlib.legend.Legend at 0x1143e8490>"
      ]
     },
     "execution_count": 193,
     "metadata": {},
     "output_type": "execute_result"
    },
    {
     "data": {
      "image/png": "[encoded data removed]",
      "text/plain": [
       "<matplotlib.figure.Figure at 0x1143dad50>"
      ]
     },
     "metadata": {},
     "output_type": "display_data"
    }
   ],
   "source": [
    "plt.plot(df.prob,df.beta_prior, label = 'beta_prior')\n",
    "plt.legend(loc='upper right')"
   ]
  },
  {
   "cell_type": "code",
   "execution_count": 194,
   "metadata": {
    "collapsed": false
   },
   "outputs": [],
   "source": [
    "alpha_parameter = 1\n",
    "beta_parameter = 1\n",
    "for data in dataset:\n",
    "    if data is 'H':\n",
    "        alpha_parameter += 1\n",
    "    else:\n",
    "        beta_parameter += 1\n",
    "rv_posterior = beta(alpha_parameter, beta_parameter)\n",
    "df['posterior'] = rv_posterior.pdf(np.linspace(0,1, len(df)))"
   ]
  },
  {
   "cell_type": "code",
   "execution_count": 195,
   "metadata": {
    "collapsed": false
   },
   "outputs": [
    {
     "data": {
      "text/plain": [
       "<matplotlib.legend.Legend at 0x1145cf8d0>"
      ]
     },
     "execution_count": 195,
     "metadata": {},
     "output_type": "execute_result"
    },
    {
     "data": {
      "image/png": "[encoded data removed]",
      "text/plain": [
       "<matplotlib.figure.Figure at 0x1145cf2d0>"
      ]
     },
     "metadata": {},
     "output_type": "display_data"
    }
   ],
   "source": [
    "plt.plot(df.prob,df.posterior, label = 'beta_posterior')\n",
    "plt.legend(loc='upper right')"
   ]
  },
  {
   "cell_type": "code",
   "execution_count": 107,
   "metadata": {
    "collapsed": false
   },
   "outputs": [
    {
     "data": {
      "text/plain": [
       "0.55952380952380953"
      ]
     },
     "execution_count": 107,
     "metadata": {},
     "output_type": "execute_result"
    }
   ],
   "source": [
    "rv_posterior.mean()"
   ]
  },
  {
   "cell_type": "code",
   "execution_count": 108,
   "metadata": {
    "collapsed": false
   },
   "outputs": [
    {
     "data": {
      "text/plain": [
       "(0.50790363161299701, 0.61060570158914973)"
      ]
     },
     "execution_count": 108,
     "metadata": {},
     "output_type": "execute_result"
    }
   ],
   "source": [
    "rv_posterior.interval(0.90)"
   ]
  }
 ],
 "metadata": {
  "kernelspec": {
   "display_name": "Python 2",
   "language": "python",
   "name": "python2"
  },
  "language_info": {
   "codemirror_mode": {
    "name": "ipython",
    "version": 2
   },
   "file_extension": ".py",
   "mimetype": "text/x-python",
   "name": "python",
   "nbconvert_exporter": "python",
   "pygments_lexer": "ipython2",
   "version": "2.7.10"
  }
 },
 "nbformat": 4,
 "nbformat_minor": 0
}
