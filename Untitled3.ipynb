{
 "cells": [
  {
   "cell_type": "markdown",
   "metadata": {},
   "source": [
    "##Beta Distribution "
   ]
  },
  {
   "cell_type": "markdown",
   "metadata": {},
   "source": [
    "* Note : The following is simply a reproduction of the brilliant explanation of beta distribution given by David Robinson at http://stats.stackexchange.com/questions/47771/what-is-the-intuition-behind-beta-distribution.\n",
    "* This is just a personal attempt to use an IPython notebook to explain the same and also to improve my python, probability and statistics chops by implementing the beta distributions."
   ]
  },
  {
   "cell_type": "markdown",
   "metadata": {},
   "source": [
    "#### Application of Beta distributions in batting averages"
   ]
  },
  {
   "cell_type": "markdown",
   "metadata": {},
   "source": [
    "* The beta distribution can be best understood by an example of batting averages in baseball.\n",
    "* Imagine we have a situation, where we have to predict the season-long average of a baseball player. We can estimate this by his current average so far - but this will be a poor estimate at the start of a season. For example, a player may have an average of 1.00 if he gets a single in his first bat or can be 0 if he strikes out in his first bat. But a player is unlikely to end up with an average as high of 1.00 or as low of 0.00.\n",
    "* We basically try to estimate the average using **prior expectations**, meaning we use a pre-concieved opinion in our mind already of how much the average will be(in other words, we use a prior). The prior we assume to estimate must be accurate enough - using the prior to estimate too early can lead to a poor estimate, while we find that we can get a better estimate of the average as the season progresses - this is because our notion gets updated with every single time he plays.\n",
    "* This notion can be best represented by a beta distribution - basically a continous distribution of the probablities of the average in this case.\n",
    "* In baseball, an average batting average is around the value of 0.266 and 0.300 is considered to a good batting average. We use this knowledge or *prior* to model our estimation of the baseball average to the end of season.\n",
    "* Usually a player's batting average hovers between 0.21 to 0.35 and is most likely to be around 0.27 - this prior knowledge can be modelled using the beta distribution: $ \\beta $($ \\alpha $,$ \\beta $) where $ \\alpha $ = 81 and $ \\beta $ = 219."
   ]
  },
  {
   "cell_type": "markdown",
   "metadata": {},
   "source": [
    "#### How do we arrive at these parameters?"
   ]
  },
  {
   "cell_type": "markdown",
   "metadata": {},
   "source": [
    "* The mean of a beta distribution is given by $ \\alpha $ / ( $ \\alpha $ + $ \\beta $) - We expect this mean in this case to be around 0.266.\n",
    "* 81/ ( 81 + 219) gives a close enough value of 0.270. \n",
    "* Thus the values of parameters chosen are 81 and 219 respectively."
   ]
  },
  {
   "cell_type": "code",
   "execution_count": 123,
   "metadata": {
    "collapsed": true,
    "slideshow": {
     "slide_type": "-"
    }
   },
   "outputs": [],
   "source": [
    "%matplotlib inline\n",
    "import pandas as pd\n",
    "import matplotlib\n",
    "matplotlib.style.use('ggplot')\n",
    "import matplotlib.pyplot as plt\n",
    "from scipy.stats import beta\n",
    "import numpy as np"
   ]
  },
  {
   "cell_type": "code",
   "execution_count": 161,
   "metadata": {
    "collapsed": false
   },
   "outputs": [],
   "source": [
    "def create_beta_dist(df,alpha_param, beta_param, type_distribution):\n",
    "    \"\"\"\n",
    "    creates a beta prior using the given parametes alpha and beta\n",
    "    \"\"\"\n",
    "    beta_dist = beta(alpha_param, beta_param)\n",
    "    df[type_distribution] = beta_dist.pdf(np.linspace(0,1, len(df)))\n",
    "    return beta_dist, df"
   ]
  },
  {
   "cell_type": "code",
   "execution_count": 172,
   "metadata": {
    "collapsed": false
   },
   "outputs": [],
   "source": [
    "def plot_beta_dist(df, type_distribution):\n",
    "    \"\"\"\n",
    "    plots the beta prior distribution\n",
    "    \"\"\"\n",
    "    if type_distribution is 'beta_prior':\n",
    "        plt.plot(df.prob,df.beta_prior, label = type_distribution)\n",
    "        plt.xlim([0.15, 0.4])\n",
    "        plt.legend(loc='upper right')\n",
    "    else:\n",
    "        plt.plot(df.prob,df.beta_posterior, label = type_distribution)\n",
    "        plt.xlim([0.15, 0.4])\n",
    "        plt.legend(loc='upper right')"
   ]
  },
  {
   "cell_type": "markdown",
   "metadata": {},
   "source": [
    "Defining the range of plays to be from 1 to 600 - the number of times the player is expected to bat throughout a season. \n",
    "This can be any number as we need only the probabilites - which is obtained by normalizing the range to 0 and 1."
   ]
  },
  {
   "cell_type": "code",
   "execution_count": 173,
   "metadata": {
    "collapsed": false
   },
   "outputs": [],
   "source": [
    "range_hyp = range(0,601)\n",
    "df = pd.DataFrame()\n",
    "df['hyp'] = range_hyp\n",
    "df['prob'] = np.linspace(0,1, len(df))"
   ]
  },
  {
   "cell_type": "markdown",
   "metadata": {},
   "source": [
    "Creating a beta distribution instance of parameters 81 and 219."
   ]
  },
  {
   "cell_type": "code",
   "execution_count": 174,
   "metadata": {
    "collapsed": false
   },
   "outputs": [],
   "source": [
    "beta_dist, df =  create_beta_dist(df,81,219,'beta_prior')"
   ]
  },
  {
   "cell_type": "code",
   "execution_count": 175,
   "metadata": {
    "collapsed": false
   },
   "outputs": [
    {
     "data": {
      "image/png": "[encoded data removed]",
      "text/plain": [
       "<matplotlib.figure.Figure at 0x10eedf350>"
      ]
     },
     "metadata": {},
     "output_type": "display_data"
    }
   ],
   "source": [
    "plot_beta_dist(df, 'beta_prior')"
   ]
  },
  {
   "cell_type": "markdown",
   "metadata": {},
   "source": [
    "The above curve represents a beta prior distribution for parameters $ \\alpha $ and $ \\beta $ equal to 81 and 219 respectively. "
   ]
  },
  {
   "cell_type": "markdown",
   "metadata": {},
   "source": [
    "#### Observations from the curve:\n",
    "* The mean of the distribution is observed to be around 0.265.\n",
    "* The entire distribution hovers between 0.20 and 0.35."
   ]
  },
  {
   "cell_type": "code",
   "execution_count": 165,
   "metadata": {
    "collapsed": false
   },
   "outputs": [],
   "source": [
    "get_mean = lambda rv: rv.mean()\n",
    "get_confidence_interval = lambda rv: rv.interval(0.90)"
   ]
  },
  {
   "cell_type": "markdown",
   "metadata": {},
   "source": [
    "* The theoretical mean gives a value of 0.27"
   ]
  },
  {
   "cell_type": "code",
   "execution_count": 176,
   "metadata": {
    "collapsed": false
   },
   "outputs": [
    {
     "name": "stdout",
     "output_type": "stream",
     "text": [
      "0.27\n"
     ]
    }
   ],
   "source": [
    "print get_mean(beta_dist)"
   ]
  },
  {
   "cell_type": "markdown",
   "metadata": {},
   "source": [
    "* The theoretical confidence interval also falls in a similar range."
   ]
  },
  {
   "cell_type": "code",
   "execution_count": 177,
   "metadata": {
    "collapsed": false
   },
   "outputs": [
    {
     "name": "stdout",
     "output_type": "stream",
     "text": [
      "(0.22879015048710477, 0.31295608115033535)\n"
     ]
    }
   ],
   "source": [
    "print get_confidence_interval(beta_dist)"
   ]
  },
  {
   "cell_type": "markdown",
   "metadata": {},
   "source": [
    "Thus, the computed values of mean and confidence interval confirm the above hypotheses."
   ]
  },
  {
   "cell_type": "markdown",
   "metadata": {},
   "source": [
    "### How the beta distribution changes with each update"
   ]
  },
  {
   "cell_type": "markdown",
   "metadata": {},
   "source": [
    "* So right now we have a prior expectation of the player's average to be around 0.27  - this is thus modelled using a beta distribution."
   ]
  },
  {
   "cell_type": "markdown",
   "metadata": {},
   "source": [
    "* Let's assume the player now goes out to play and gets a single hit - his record is 1 play, 1 hit."
   ]
  },
  {
   "cell_type": "markdown",
   "metadata": {},
   "source": [
    "* Now the probablities have to updated - in view of the observations we make. Basically as we keep observing, our estimate starts to change accordingly. ( Note: as of now, before the first observation, our estimate using our prior knowledge is the above obtained curve and its estimates)"
   ]
  },
  {
   "cell_type": "markdown",
   "metadata": {},
   "source": [
    "* Now the parameters are basically 81 + 1 and 219. The observation gives 1 hit and no misses"
   ]
  },
  {
   "cell_type": "code",
   "execution_count": 178,
   "metadata": {
    "collapsed": false
   },
   "outputs": [
    {
     "data": {
      "image/png": "[encoded data removed]",
      "text/plain": [
       "<matplotlib.figure.Figure at 0x10eccfed0>"
      ]
     },
     "metadata": {},
     "output_type": "display_data"
    }
   ],
   "source": [
    "beta_dist, df =  create_beta_dist(df,82,219, 'beta_posterior')\n",
    "plot_beta_dist(df,'beta_posterior')"
   ]
  },
  {
   "cell_type": "code",
   "execution_count": 179,
   "metadata": {
    "collapsed": false
   },
   "outputs": [
    {
     "name": "stdout",
     "output_type": "stream",
     "text": [
      "0.272425249169\n"
     ]
    }
   ],
   "source": [
    "print get_mean(beta_dist)"
   ]
  },
  {
   "cell_type": "code",
   "execution_count": 180,
   "metadata": {
    "collapsed": false
   },
   "outputs": [
    {
     "name": "stdout",
     "output_type": "stream",
     "text": [
      "(0.23115444623570727, 0.31541813007537933)\n"
     ]
    }
   ],
   "source": [
    "print get_confidence_interval(beta_dist)"
   ]
  },
  {
   "cell_type": "markdown",
   "metadata": {},
   "source": [
    "* The above curve shows the updated distribution - it is no longer a 'prior' distribution, it instead becomes a posterior distribution, which updates itself on seeing new data.\n",
    "* Though there isn't visually much of a difference between the above 2 curves, it is obvious from the computed estimates of the curves - mean and confidence interval that the distribution has moved *slightly* towards the right."
   ]
  },
  {
   "cell_type": "markdown",
   "metadata": {},
   "source": [
    "* The mean earlier was 0.270, it has now increased to 0.272 - the increase intuitively is quite obvious too \n",
    "as our estimate of the average will improve as he makes more hits than missed. \n",
    "* Since the observed data is now 1 hit and no miss, the posterior distribution gets updated accordingly reflecting our new(updated) beliefs."
   ]
  },
  {
   "cell_type": "markdown",
   "metadata": {},
   "source": [
    "* The interesting property of beta distributions is that the prior and posterior of a beta distribution is of \n",
    "the same type. That is, if a distribution has a beta prior, then it will have a beta posterior too!\n",
    "* Also, finding the beta posterior is basically equivalent to updating the $ \\alpha $ and $ \\beta $ parameters to reflect the change. "
   ]
  },
  {
   "cell_type": "markdown",
   "metadata": {},
   "source": [
    "* So Beta_posterior = Beta( $ \\alpha $_prior + successes, $ \\beta $_prior + failures)  \n",
    "* Any example which invloves the events of successes and failures can be modelled using beta distribution."
   ]
  },
  {
   "cell_type": "markdown",
   "metadata": {},
   "source": [
    "* Coming back to the baseball example, the success is defined as a hit and the failure is defined as a miss.This means that the beta posterior gets updated according to the number of hits and misses observed every time.\n",
    "* So in this example, Beta_posterior = Beta( $ \\alpha $_prior + hits, $ \\beta $_prior + misses)"
   ]
  },
  {
   "cell_type": "markdown",
   "metadata": {},
   "source": [
    "* As the course of the season goes by, we observe the number of hits and misses. \n",
    "* Say by the half season, the player has 100 hits and 200 misses out of a total 300 plays totally."
   ]
  },
  {
   "cell_type": "markdown",
   "metadata": {},
   "source": [
    "* Intuitively, hour estimate of his final average will improve and we will have a better range of estimate,\n",
    "in other words, the confidence interval observed before will narrow as our beliefs get updated as the season progresses."
   ]
  },
  {
   "cell_type": "code",
   "execution_count": 181,
   "metadata": {
    "collapsed": false
   },
   "outputs": [
    {
     "data": {
      "image/png": "[encoded data removed]",
      "text/plain": [
       "<matplotlib.figure.Figure at 0x10db54210>"
      ]
     },
     "metadata": {},
     "output_type": "display_data"
    }
   ],
   "source": [
    "beta_dist, df =  create_beta_dist(df,182,419, 'beta_posterior')\n",
    "plot_beta_dist(df,'beta_posterior')"
   ]
  },
  {
   "cell_type": "code",
   "execution_count": 182,
   "metadata": {
    "collapsed": false
   },
   "outputs": [
    {
     "name": "stdout",
     "output_type": "stream",
     "text": [
      "0.302828618968\n"
     ]
    }
   ],
   "source": [
    "print get_mean(beta_dist)"
   ]
  },
  {
   "cell_type": "code",
   "execution_count": 183,
   "metadata": {
    "collapsed": false
   },
   "outputs": [
    {
     "name": "stdout",
     "output_type": "stream",
     "text": [
      "(0.27239942630940084, 0.33400448649598991)\n"
     ]
    }
   ],
   "source": [
    "print get_confidence_interval(beta_dist)"
   ]
  },
  {
   "cell_type": "markdown",
   "metadata": {},
   "source": [
    "* As it can be observed, the mean gets increased from 0.27 to 0.30 and the confidence interval gets more accurate."
   ]
  },
  {
   "cell_type": "markdown",
   "metadata": {},
   "source": [
    "* As more data is observed, the curve gets more narrow - our estimate basically becomes better with each update."
   ]
  },
  {
   "cell_type": "code",
   "execution_count": null,
   "metadata": {
    "collapsed": true
   },
   "outputs": [],
   "source": []
  }
 ],
 "metadata": {
  "kernelspec": {
   "display_name": "Python 2",
   "language": "python",
   "name": "python2"
  },
  "language_info": {
   "codemirror_mode": {
    "name": "ipython",
    "version": 2
   },
   "file_extension": ".py",
   "mimetype": "text/x-python",
   "name": "python",
   "nbconvert_exporter": "python",
   "pygments_lexer": "ipython2",
   "version": "2.7.10"
  }
 },
 "nbformat": 4,
 "nbformat_minor": 0
}
