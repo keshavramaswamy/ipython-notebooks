{
 "cells": [
  {
   "cell_type": "markdown",
   "metadata": {},
   "source": [
    "## Contents:\n",
    "\n",
    "* [Introduction](#intro)\n",
    "\n",
    "* [Model 3: To predict 2 different crimes : Part1 and Part 2 crimes](#model3)\n",
    "\n",
    "   * [Feature Set 1: Hour, District, Month](#model3.1)\n",
    "            \n",
    "        * [Measure of individual class precision, recall](#model3.1.1)\n",
    "        \n",
    "            * [Over sampling/ Class Balancing methods](#model3.1.2)\n",
    "                \n",
    "                * [Class balancing method](#model3.1.2.1)\n",
    "                \n",
    "                    * [Measure of individual class precision-recall](#model3.1.2.1.1)\n",
    "        \n",
    "                * [Oversampling](#model3.1.2.2)\n",
    "        \n",
    "                    * [Measure of individual class precision-recall](#model3.1.2.2.1)\n",
    "        \n",
    "            * [Inferences](#model3.1.3)\n",
    "        \n",
    "   * [Feature Set 2: District, Hour, Month, Streetname](#model3.2)\n",
    "        \n",
    "        * [Measure of individual class precision, recall](#model3.2.1)\n",
    "        \n",
    "        * [Over sampling/ Class Balancing methods](#model3.2.2)\n",
    "        \n",
    "             * [Class balancing method](#model3.2.2.1)\n",
    "                \n",
    "                  * [Measure of individual class precision-recall](#model3.2.2.1.1)\n",
    "        \n",
    "             * [Oversampling](#model3.2.2.2)\n",
    "        \n",
    "                  * [Measure of individual class precision-recall](#model3.2.2.2.1)\n",
    "            \n",
    "   * [Inferences](#model3.3)\n",
    "        \n",
    "   * [Possible Improvements](#model3.4)"
   ]
  },
  {
   "cell_type": "markdown",
   "metadata": {},
   "source": [
    "<a id='intro'></a>"
   ]
  },
  {
   "cell_type": "markdown",
   "metadata": {},
   "source": [
    "## Introduction"
   ]
  },
  {
   "cell_type": "code",
   "execution_count": 1,
   "metadata": {
    "collapsed": false
   },
   "outputs": [],
   "source": [
    "%matplotlib inline\n",
    "from bs4 import BeautifulSoup\n",
    "import requests\n",
    "import pandas as pd\n",
    "import matplotlib\n",
    "import math\n",
    "import numpy as np\n",
    "import matplotlib.pyplot as plt\n",
    "matplotlib.style.use('ggplot')\n",
    "import seaborn as sns\n",
    "sns.set(style=\"whitegrid\", color_codes=True)"
   ]
  },
  {
   "cell_type": "code",
   "execution_count": 3,
   "metadata": {
    "collapsed": false
   },
   "outputs": [],
   "source": [
    "from sklearn import preprocessing\n",
    "from sklearn.pipeline import make_pipeline\n",
    "from sklearn.naive_bayes import GaussianNB, MultinomialNB\n",
    "from sklearn import cross_validation, metrics\n",
    "from sklearn import neighbors\n",
    "from sklearn import linear_model\n",
    "from sklearn import svm\n",
    "from sklearn import tree\n",
    "from sklearn.ensemble import RandomForestClassifier"
   ]
  },
  {
   "cell_type": "code",
   "execution_count": 4,
   "metadata": {
    "collapsed": true
   },
   "outputs": [],
   "source": [
    "df_boston = pd.read_pickle('df_boston.pkl')"
   ]
  },
  {
   "cell_type": "code",
   "execution_count": 5,
   "metadata": {
    "collapsed": false
   },
   "outputs": [
    {
     "data": {
      "text/plain": [
       "year                 int64\n",
       "month                int64\n",
       "day_week            object\n",
       "streetname          object\n",
       "hours                int64\n",
       "crime_category      object\n",
       "latitudes          float64\n",
       "longitudes         float64\n",
       "weekday_weekend      int64\n",
       "district            object\n",
       "dtype: object"
      ]
     },
     "execution_count": 5,
     "metadata": {},
     "output_type": "execute_result"
    }
   ],
   "source": [
    "df_boston.dtypes"
   ]
  },
  {
   "cell_type": "markdown",
   "metadata": {},
   "source": [
    "<a id='model3'></a>"
   ]
  },
  {
   "cell_type": "markdown",
   "metadata": {},
   "source": [
    "### Model 3: To predict 2 different crimes : Part1 and Part 2 crimes"
   ]
  },
  {
   "cell_type": "code",
   "execution_count": 30,
   "metadata": {
    "collapsed": false
   },
   "outputs": [],
   "source": [
    "df_boston = pd.read_pickle('df_boston.pkl')"
   ]
  },
  {
   "cell_type": "code",
   "execution_count": 31,
   "metadata": {
    "collapsed": false
   },
   "outputs": [],
   "source": [
    "list_crimes = list(df_boston.crime_category.unique())"
   ]
  },
  {
   "cell_type": "code",
   "execution_count": 32,
   "metadata": {
    "collapsed": true
   },
   "outputs": [],
   "source": [
    "violent_crimes =['HOMICIDE', 'SEX OFFENCES', 'ROBBERY', 'AGGRAVATED ASSAULT']\n",
    "property_crimes = ['BURGLARY', 'LARCENY', 'OTHER LARCENY', 'LARCENY FROM MOTOR VEHICLE','PROPERTY','ARSON','FIRE RELATED REPORTS']\n",
    "part1_crimes = violent_crimes + property_crimes  "
   ]
  },
  {
   "cell_type": "code",
   "execution_count": 33,
   "metadata": {
    "collapsed": false
   },
   "outputs": [],
   "source": [
    "part2_crimes = list(set(list_crimes) - set(part1_crimes))"
   ]
  },
  {
   "cell_type": "code",
   "execution_count": 34,
   "metadata": {
    "collapsed": true
   },
   "outputs": [],
   "source": [
    "df_model3 = df_boston"
   ]
  },
  {
   "cell_type": "code",
   "execution_count": 35,
   "metadata": {
    "collapsed": true
   },
   "outputs": [],
   "source": [
    "def recategorize_part1_part2(df):\n",
    "    list_crimes = list()\n",
    "    for crime in df.crime_category:\n",
    "        if crime in part1_crimes:\n",
    "            list_crimes.append(0)\n",
    "        else:\n",
    "            list_crimes.append(1)\n",
    "    df.crime_category = list_crimes\n",
    "    return df"
   ]
  },
  {
   "cell_type": "code",
   "execution_count": 36,
   "metadata": {
    "collapsed": true
   },
   "outputs": [],
   "source": [
    "df_model3 = recategorize_part1_part2(df_model3)"
   ]
  },
  {
   "cell_type": "code",
   "execution_count": 37,
   "metadata": {
    "collapsed": false
   },
   "outputs": [
    {
     "data": {
      "text/plain": [
       "1    0.682022\n",
       "0    0.317978\n",
       "Name: crime_category, dtype: float64"
      ]
     },
     "execution_count": 37,
     "metadata": {},
     "output_type": "execute_result"
    }
   ],
   "source": [
    "df_model3.crime_category.value_counts(normalize=True)"
   ]
  },
  {
   "cell_type": "code",
   "execution_count": 115,
   "metadata": {
    "collapsed": false
   },
   "outputs": [
    {
     "data": {
      "text/plain": [
       "<matplotlib.axes._subplots.AxesSubplot at 0x7f96a55d4890>"
      ]
     },
     "execution_count": 115,
     "metadata": {},
     "output_type": "execute_result"
    },
    {
     "data": {
      "image/png": "[encoded data removed]",
      "text/plain": [
       "<matplotlib.figure.Figure at 0x7f96e0939290>"
      ]
     },
     "metadata": {},
     "output_type": "display_data"
    }
   ],
   "source": [
    "tmp=pd.DataFrame(df_model3.groupby(['hours','crime_category']).size(), columns=['count'])\n",
    "tmp.reset_index(inplace=True)\n",
    "tmp=tmp.pivot(index='hours',columns='crime_category',values='count')\n",
    "fig, axes = plt.subplots(1,1,figsize=(15,15))\n",
    "tmp.plot(ax=axes,kind='bar', stacked=True)"
   ]
  },
  {
   "cell_type": "markdown",
   "metadata": {},
   "source": [
    "The hours can be recoded in 4 catefories:\n",
    "1. Early Morning Hours\n",
    "2. Peak Hours(12 PM and AM)\n",
    "3. Rest of the hours\n",
    "The hours have been split in this way to reflect the way crime distribution changes wrt the hours."
   ]
  },
  {
   "cell_type": "code",
   "execution_count": 14,
   "metadata": {
    "collapsed": true
   },
   "outputs": [],
   "source": [
    "def bin_hours_model3(df):\n",
    "    list_hours = list()\n",
    "    for hour in df.hours:\n",
    "        if hour in range(1,7):\n",
    "            list_hours.append(0)\n",
    "        elif hour in [12,24]:\n",
    "            list_hours.append(1)\n",
    "        else:\n",
    "            list_hours.append(2)\n",
    "    df.hours = list_hours\n",
    "    return df"
   ]
  },
  {
   "cell_type": "code",
   "execution_count": 117,
   "metadata": {
    "collapsed": false
   },
   "outputs": [
    {
     "data": {
      "text/plain": [
       "<matplotlib.axes._subplots.AxesSubplot at 0x7f96a46cae90>"
      ]
     },
     "execution_count": 117,
     "metadata": {},
     "output_type": "execute_result"
    },
    {
     "data": {
      "image/png": "[encoded data removed]",
      "text/plain": [
       "<matplotlib.figure.Figure at 0x7f96a56c0910>"
      ]
     },
     "metadata": {},
     "output_type": "display_data"
    }
   ],
   "source": [
    "tmp=pd.DataFrame(df_model3.groupby(['day_week','crime_category']).size(), columns=['count'])\n",
    "tmp.reset_index(inplace=True)\n",
    "tmp=tmp.pivot(index='day_week',columns='crime_category',values='count')\n",
    "fig, axes = plt.subplots(1,1,figsize=(15,15))\n",
    "tmp.plot(ax=axes,kind='bar', stacked=True)"
   ]
  },
  {
   "cell_type": "code",
   "execution_count": 118,
   "metadata": {
    "collapsed": false
   },
   "outputs": [
    {
     "data": {
      "text/plain": [
       "<matplotlib.axes._subplots.AxesSubplot at 0x7f96a5464f10>"
      ]
     },
     "execution_count": 118,
     "metadata": {},
     "output_type": "execute_result"
    },
    {
     "data": {
      "image/png": "[encoded data removed]",
      "text/plain": [
       "<matplotlib.figure.Figure at 0x7f96a5641110>"
      ]
     },
     "metadata": {},
     "output_type": "display_data"
    }
   ],
   "source": [
    "tmp=pd.DataFrame(df_model3.groupby(['month','crime_category']).size(), columns=['count'])\n",
    "tmp.reset_index(inplace=True)\n",
    "tmp=tmp.pivot(index='month',columns='crime_category',values='count')\n",
    "fig, axes = plt.subplots(1,1,figsize=(15,15))\n",
    "tmp.plot(ax=axes,kind='bar', stacked=True)"
   ]
  },
  {
   "cell_type": "code",
   "execution_count": 119,
   "metadata": {
    "collapsed": false
   },
   "outputs": [
    {
     "data": {
      "text/plain": [
       "<matplotlib.axes._subplots.AxesSubplot at 0x7f96a58dc150>"
      ]
     },
     "execution_count": 119,
     "metadata": {},
     "output_type": "execute_result"
    },
    {
     "data": {
      "image/png": "[encoded data removed]",
      "text/plain": [
       "<matplotlib.figure.Figure at 0x7f96a588e610>"
      ]
     },
     "metadata": {},
     "output_type": "display_data"
    }
   ],
   "source": [
    "tmp=pd.DataFrame(df_model3.groupby(['district','crime_category']).size(), columns=['count'])\n",
    "tmp.reset_index(inplace=True)\n",
    "tmp=tmp.pivot(index='district',columns='crime_category',values='count')\n",
    "fig, axes = plt.subplots(1,1,figsize=(15,15))\n",
    "tmp.plot(ax=axes,kind='bar', stacked=True)"
   ]
  },
  {
   "cell_type": "code",
   "execution_count": 64,
   "metadata": {
    "collapsed": true
   },
   "outputs": [],
   "source": [
    "df_model3 = df_model3[df_model3['streetname'].isin(top_streets)]"
   ]
  },
  {
   "cell_type": "code",
   "execution_count": 55,
   "metadata": {
    "collapsed": false
   },
   "outputs": [],
   "source": [
    "tmp=pd.DataFrame(df_model3.groupby(['streetname','crime_category']).size(), columns=['count'])\n",
    "tmp.reset_index(inplace=True)\n",
    "tmp=tmp.pivot(index='streetname',columns='crime_category',values='count')"
   ]
  },
  {
   "cell_type": "code",
   "execution_count": 131,
   "metadata": {
    "collapsed": false
   },
   "outputs": [
    {
     "data": {
      "text/plain": [
       "<matplotlib.axes._subplots.AxesSubplot at 0x7f96a5badbd0>"
      ]
     },
     "execution_count": 131,
     "metadata": {},
     "output_type": "execute_result"
    },
    {
     "data": {
      "image/png": "[encoded data removed]",
      "text/plain": [
       "<matplotlib.figure.Figure at 0x7f96a5a91350>"
      ]
     },
     "metadata": {},
     "output_type": "display_data"
    }
   ],
   "source": [
    "fig, axes = plt.subplots(1,1,figsize=(15,15))\n",
    "tmp.plot(ax=axes,kind='bar', stacked=True)"
   ]
  },
  {
   "cell_type": "code",
   "execution_count": 21,
   "metadata": {
    "collapsed": false
   },
   "outputs": [
    {
     "data": {
      "text/plain": [
       "year                 int64\n",
       "month                int64\n",
       "day_week            object\n",
       "streetname          object\n",
       "hours                int64\n",
       "crime_category       int64\n",
       "latitudes          float64\n",
       "longitudes         float64\n",
       "weekday_weekend      int64\n",
       "district            object\n",
       "dtype: object"
      ]
     },
     "execution_count": 21,
     "metadata": {},
     "output_type": "execute_result"
    }
   ],
   "source": [
    "df_boston.dtypes"
   ]
  },
  {
   "cell_type": "code",
   "execution_count": 137,
   "metadata": {
    "collapsed": false
   },
   "outputs": [
    {
     "data": {
      "text/plain": [
       "<matplotlib.axes._subplots.AxesSubplot at 0x7f96a2f4bf90>"
      ]
     },
     "execution_count": 137,
     "metadata": {},
     "output_type": "execute_result"
    },
    {
     "data": {
      "image/png": "[encoded data removed]",
      "text/plain": [
       "<matplotlib.figure.Figure at 0x7f969f6f7410>"
      ]
     },
     "metadata": {},
     "output_type": "display_data"
    }
   ],
   "source": [
    "tmp=pd.DataFrame(df_model3.groupby(['weekday_weekend','crime_category']).size(), columns=['count'])\n",
    "tmp.reset_index(inplace=True)\n",
    "tmp=tmp.pivot(index='weekday_weekend',columns='crime_category',values='count')\n",
    "fig, axes = plt.subplots(1,1,figsize=(15,15))\n",
    "tmp.plot(ax=axes,kind='bar', stacked=True)"
   ]
  },
  {
   "cell_type": "code",
   "execution_count": 138,
   "metadata": {
    "collapsed": false
   },
   "outputs": [
    {
     "data": {
      "text/plain": [
       "year                 int64\n",
       "month                int64\n",
       "day_week            object\n",
       "streetname          object\n",
       "hours                int64\n",
       "crime_category      object\n",
       "latitudes          float64\n",
       "longitudes         float64\n",
       "weekday_weekend      int64\n",
       "district            object\n",
       "dtype: object"
      ]
     },
     "execution_count": 138,
     "metadata": {},
     "output_type": "execute_result"
    }
   ],
   "source": [
    "df_model3.dtypes"
   ]
  },
  {
   "cell_type": "code",
   "execution_count": 69,
   "metadata": {
    "collapsed": false
   },
   "outputs": [],
   "source": [
    "df_model3['season'] = df_model3.month.apply(lambda x:0 if x in [5,6,7,8,9] else 1)"
   ]
  },
  {
   "cell_type": "code",
   "execution_count": 57,
   "metadata": {
    "collapsed": false
   },
   "outputs": [
    {
     "data": {
      "text/plain": [
       "<matplotlib.axes._subplots.AxesSubplot at 0x7f9c19d54f10>"
      ]
     },
     "execution_count": 57,
     "metadata": {},
     "output_type": "execute_result"
    },
    {
     "data": {
      "image/png": "[encoded data removed]",
      "text/plain": [
       "<matplotlib.figure.Figure at 0x7f9c1b63afd0>"
      ]
     },
     "metadata": {},
     "output_type": "display_data"
    }
   ],
   "source": [
    "tmp=pd.DataFrame(df_model3.groupby(['season','crime_category']).size(), columns=['count'])\n",
    "tmp.reset_index(inplace=True)\n",
    "tmp=tmp.pivot(index='season',columns='crime_category',values='count')\n",
    "fig, axes = plt.subplots(1,1,figsize=(15,15))\n",
    "tmp.plot(ax=axes,kind='bar', stacked=True)"
   ]
  },
  {
   "cell_type": "code",
   "execution_count": 15,
   "metadata": {
    "collapsed": false
   },
   "outputs": [
    {
     "data": {
      "text/plain": [
       "year                 int64\n",
       "month                int64\n",
       "day_week            object\n",
       "streetname          object\n",
       "hours                int64\n",
       "crime_category       int64\n",
       "latitudes          float64\n",
       "longitudes         float64\n",
       "weekday_weekend      int64\n",
       "district            object\n",
       "dtype: object"
      ]
     },
     "execution_count": 15,
     "metadata": {},
     "output_type": "execute_result"
    }
   ],
   "source": [
    "df_model3.dtypes"
   ]
  },
  {
   "cell_type": "markdown",
   "metadata": {},
   "source": [
    "* The predictors which seem to have significant predictive power are district, hour, month and the streetname.\n",
    "* Two combinations of sets with these features were built to check the models' performance.\n",
    "* The baseline model of (hour, district, month) was first built foloowed by adding the streetname feature to the model."
   ]
  },
  {
   "cell_type": "markdown",
   "metadata": {},
   "source": [
    "<a id='model3.1'></a>"
   ]
  },
  {
   "cell_type": "markdown",
   "metadata": {},
   "source": [
    "#### Feature Set 1: Hour, District, Month"
   ]
  },
  {
   "cell_type": "code",
   "execution_count": 16,
   "metadata": {
    "collapsed": true
   },
   "outputs": [],
   "source": [
    "def encode_features_model3_set1(df):\n",
    "    df_district = pd.get_dummies(df['district'])\n",
    "    df_month = pd.get_dummies(df['month'])\n",
    "    df_hours = pd.get_dummies(df['hours'])\n",
    "    column_dfs = [df_district,df_month,df_hours]\n",
    "    df_concat = pd.concat(column_dfs,axis=1)\n",
    "    df_concat.columns = ['Brighton','Charlestown',\n",
    "     'Dorchester',\n",
    "     'Downtown',\n",
    "     'East Boston',\n",
    "     'Human Traffic Unit',\n",
    "     'Hyde Park',\n",
    "     'Jamaica Plain',\n",
    "     'Mattapan',\n",
    "     'Roxbury',\n",
    "     'South Boston',\n",
    "     'South End',\n",
    "     'West Roxbury',\n",
    "     'missing_district'] + ['month' + str(i) for i in range(1,13)] + ['hour' + str(i) for i in range(0,3)]\n",
    "    return df_concat"
   ]
  },
  {
   "cell_type": "code",
   "execution_count": 38,
   "metadata": {
    "collapsed": false
   },
   "outputs": [],
   "source": [
    "df_model3_set1 = bin_hours_model3(df_model3)\n",
    "#df_model3_set1 = recode_streetname(df_model3_set1)\n",
    "data_y = df_model3_set1.crime_category\n",
    "df_model3_set1 = encode_features_model3_set1(df_model3_set1)\n",
    "data_x = df_model3_set1"
   ]
  },
  {
   "cell_type": "code",
   "execution_count": 19,
   "metadata": {
    "collapsed": false
   },
   "outputs": [],
   "source": [
    "data_x = np.array(data_x)\n",
    "data_y = np.array(data_y)"
   ]
  },
  {
   "cell_type": "code",
   "execution_count": 21,
   "metadata": {
    "collapsed": true
   },
   "outputs": [],
   "source": [
    "def logistic_score(data_x,data_y,score,C):\n",
    "    log_clf = make_pipeline(linear_model.LogisticRegression(C=C))\n",
    "    log_kf_model2_set1_accuracy = perform_cv(log_clf,data_x,data_y,score)\n",
    "    return log_kf_model2_set1_accuracy"
   ]
  },
  {
   "cell_type": "code",
   "execution_count": 22,
   "metadata": {
    "collapsed": true
   },
   "outputs": [],
   "source": [
    "def rf_score(data_x,data_y,score,number_trees,max_depth):\n",
    "    rf_clf = make_pipeline(RandomForestClassifier(n_estimators=number_trees,max_depth=max_depth))\n",
    "    rf_kf_model2_set1_accuracy = perform_cv(rf_clf,data_x,data_y,score)\n",
    "    return rf_kf_model2_set1_accuracy"
   ]
  },
  {
   "cell_type": "code",
   "execution_count": 23,
   "metadata": {
    "collapsed": true
   },
   "outputs": [],
   "source": [
    "def perform_cv(clf, X, Y, scoring_metric):\n",
    "    kf_scores = list()\n",
    "    scores = cross_validation.cross_val_score(clf, X, Y, cv=5, scoring=scoring_metric)\n",
    "    kf_scores.append(scores)\n",
    "    kf_scores.append(scores.mean())\n",
    "    return kf_scores"
   ]
  },
  {
   "cell_type": "code",
   "execution_count": 27,
   "metadata": {
    "collapsed": true
   },
   "outputs": [],
   "source": [
    "def nb_score(data_x,data_y,score):\n",
    "    nb_clf = make_pipeline(preprocessing.StandardScaler(), GaussianNB())\n",
    "    accuracy = perform_cv(nb_clf,data_x,data_y,score)\n",
    "    return accuracy"
   ]
  },
  {
   "cell_type": "markdown",
   "metadata": {},
   "source": [
    "#### Naive Bayes"
   ]
  },
  {
   "cell_type": "code",
   "execution_count": 50,
   "metadata": {
    "collapsed": false
   },
   "outputs": [
    {
     "data": {
      "text/plain": [
       "[array([ 0.31798851,  0.31797579,  0.31799444,  0.31801309,  0.31806905]),\n",
       " 0.31800817746913868]"
      ]
     },
     "execution_count": 50,
     "metadata": {},
     "output_type": "execute_result"
    }
   ],
   "source": [
    "nb_score(data_x,data_y,'accuracy')"
   ]
  },
  {
   "cell_type": "code",
   "execution_count": 51,
   "metadata": {
    "collapsed": false
   },
   "outputs": [
    {
     "data": {
      "text/plain": [
       "[array([ 0.57777871,  0.48680316,  0.54383842,  0.5355941 ,  0.57722477]),\n",
       " 0.54424783323429105]"
      ]
     },
     "execution_count": 51,
     "metadata": {},
     "output_type": "execute_result"
    }
   ],
   "source": [
    "nb_score(data_x,data_y,'roc_auc')"
   ]
  },
  {
   "cell_type": "markdown",
   "metadata": {},
   "source": [
    "#### Logistic Regression"
   ]
  },
  {
   "cell_type": "code",
   "execution_count": 55,
   "metadata": {
    "collapsed": false
   },
   "outputs": [
    {
     "data": {
      "text/plain": [
       "[array([ 0.68201149,  0.66249464,  0.68118483,  0.67096305,  0.68202421]),\n",
       " 0.67573564376157891]"
      ]
     },
     "execution_count": 55,
     "metadata": {},
     "output_type": "execute_result"
    }
   ],
   "source": [
    "logistic_score(data_x,data_y,'accuracy',0.01)"
   ]
  },
  {
   "cell_type": "code",
   "execution_count": 57,
   "metadata": {
    "collapsed": false
   },
   "outputs": [
    {
     "data": {
      "text/plain": [
       "[array([ 0.57546472,  0.50727854,  0.54221184,  0.53936537,  0.57668727]),\n",
       " 0.54820154780349006]"
      ]
     },
     "execution_count": 57,
     "metadata": {},
     "output_type": "execute_result"
    }
   ],
   "source": [
    "logistic_score(data_x,data_y,'roc_auc',0.01)"
   ]
  },
  {
   "cell_type": "code",
   "execution_count": 30,
   "metadata": {
    "collapsed": false
   },
   "outputs": [
    {
     "data": {
      "text/plain": [
       "[array([ 0.7238069 ,  0.66648063,  0.68700692,  0.68713984,  0.71798737]),\n",
       " 0.69648433100256901]"
      ]
     },
     "execution_count": 30,
     "metadata": {},
     "output_type": "execute_result"
    }
   ],
   "source": [
    "logistic_score(data_x,data_y,'average_precision',0.01)"
   ]
  },
  {
   "cell_type": "code",
   "execution_count": 42,
   "metadata": {
    "collapsed": false
   },
   "outputs": [
    {
     "data": {
      "text/plain": [
       "[array([ 0.81094748,  0.79658235,  0.81036281,  0.80308544,  0.81095647]),\n",
       " 0.80638691083762348]"
      ]
     },
     "execution_count": 42,
     "metadata": {},
     "output_type": "execute_result"
    }
   ],
   "source": [
    "logistic_score(data_x,data_y,'f1',0.01)"
   ]
  },
  {
   "cell_type": "markdown",
   "metadata": {},
   "source": [
    "#### Random Forest"
   ]
  },
  {
   "cell_type": "code",
   "execution_count": 28,
   "metadata": {
    "collapsed": false
   },
   "outputs": [
    {
     "data": {
      "text/plain": [
       "[array([ 0.68143326,  0.66775475,  0.67762213,  0.67088844,  0.68202421]),\n",
       " 0.67594455826878375]"
      ]
     },
     "execution_count": 28,
     "metadata": {},
     "output_type": "execute_result"
    }
   ],
   "source": [
    "rf_score(data_x,data_y,'accuracy',150,20)"
   ]
  },
  {
   "cell_type": "code",
   "execution_count": 29,
   "metadata": {
    "collapsed": false
   },
   "outputs": [
    {
     "data": {
      "text/plain": [
       "[array([ 0.72751696,  0.66047052,  0.69889673,  0.68940723,  0.71703646]),\n",
       " 0.69866558080948682]"
      ]
     },
     "execution_count": 29,
     "metadata": {},
     "output_type": "execute_result"
    }
   ],
   "source": [
    "rf_score(data_x,data_y,'average_precision',150,20)"
   ]
  },
  {
   "cell_type": "code",
   "execution_count": 50,
   "metadata": {
    "collapsed": false
   },
   "outputs": [
    {
     "data": {
      "text/plain": [
       "[array([ 0.80887636,  0.79955604,  0.80452368,  0.80135999,  0.81095647]),\n",
       " 0.8050545082121342]"
      ]
     },
     "execution_count": 50,
     "metadata": {},
     "output_type": "execute_result"
    }
   ],
   "source": [
    "rf_score(data_x,data_y,'f1',150,20)"
   ]
  },
  {
   "cell_type": "code",
   "execution_count": 51,
   "metadata": {
    "collapsed": false
   },
   "outputs": [
    {
     "data": {
      "text/plain": [
       "[array([ 0.57777248,  0.50084505,  0.54561766,  0.54101797,  0.57373974]),\n",
       " 0.5477985777190113]"
      ]
     },
     "execution_count": 51,
     "metadata": {},
     "output_type": "execute_result"
    }
   ],
   "source": [
    "rf_score(data_x,data_y,'roc_auc',150,20)"
   ]
  },
  {
   "cell_type": "code",
   "execution_count": 2,
   "metadata": {
    "collapsed": false
   },
   "outputs": [
    {
     "data": {
      "text/html": [
       "<div>\n",
       "<table border=\"1\" class=\"dataframe\">\n",
       "  <thead>\n",
       "    <tr style=\"text-align: right;\">\n",
       "      <th></th>\n",
       "      <th>roc</th>\n",
       "      <th>accuracy</th>\n",
       "    </tr>\n",
       "    <tr>\n",
       "      <th>algos</th>\n",
       "      <th></th>\n",
       "      <th></th>\n",
       "    </tr>\n",
       "  </thead>\n",
       "  <tbody>\n",
       "    <tr>\n",
       "      <th>Logistic Regression</th>\n",
       "      <td>0.54</td>\n",
       "      <td>0.68</td>\n",
       "    </tr>\n",
       "    <tr>\n",
       "      <th>Random Forests</th>\n",
       "      <td>0.54</td>\n",
       "      <td>0.68</td>\n",
       "    </tr>\n",
       "  </tbody>\n",
       "</table>\n",
       "</div>"
      ],
      "text/plain": [
       "                      roc  accuracy\n",
       "algos                              \n",
       "Logistic Regression  0.54      0.68\n",
       "Random Forests       0.54      0.68"
      ]
     },
     "execution_count": 2,
     "metadata": {},
     "output_type": "execute_result"
    }
   ],
   "source": [
    "df = pd.DataFrame()\n",
    "df['algos'] = ['Logistic Regression','Random Forests']\n",
    "df['roc'] = [0.54,0.54]\n",
    "df['accuracy'] = [0.68,0.68]\n",
    "df.set_index('algos')"
   ]
  },
  {
   "cell_type": "markdown",
   "metadata": {},
   "source": [
    "* Due to class imbalance, all the instances get classified as class 1."
   ]
  },
  {
   "cell_type": "markdown",
   "metadata": {},
   "source": [
    "<a id='model3.1.1'></a>"
   ]
  },
  {
   "cell_type": "markdown",
   "metadata": {},
   "source": [
    "#### Measure of individual class precision, recall"
   ]
  },
  {
   "cell_type": "code",
   "execution_count": null,
   "metadata": {
    "collapsed": true
   },
   "outputs": [],
   "source": [
    "data_x_train, data_x_test, data_y_train, data_y_test = cross_validation.train_test_split(data_x, data_y, test_size=0.3, random_state=0)\n",
    "clf = RandomForestClassifier(n_estimators=150,max_depth=20)\n",
    "clf.fit(data_x_train,data_y_train)\n",
    "expected = data_y_test\n",
    "predicted = clf.predict(data_x_test)"
   ]
  },
  {
   "cell_type": "code",
   "execution_count": 44,
   "metadata": {
    "collapsed": false
   },
   "outputs": [
    {
     "name": "stdout",
     "output_type": "stream",
     "text": [
      "Classification report for classifier Pipeline(steps=[('logisticregression', LogisticRegression(C=0.01, class_weight=None, dual=False, fit_intercept=True,\n",
      "          intercept_scaling=1, max_iter=100, multi_class='ovr', n_jobs=1,\n",
      "          penalty='l2', random_state=None, solver='liblinear', tol=0.0001,\n",
      "          verbose=0, warm_start=False))]):\n",
      "             precision    recall  f1-score   support\n",
      "\n",
      "          0       0.00      0.00      0.00     25681\n",
      "          1       0.68      1.00      0.81     54736\n",
      "\n",
      "avg / total       0.46      0.68      0.55     80417\n",
      "\n",
      "\n",
      "Confusion matrix:\n",
      "[[    0 25681]\n",
      " [    0 54736]]\n"
     ]
    },
    {
     "name": "stderr",
     "output_type": "stream",
     "text": [
      "/cise/homes/ashwin/anaconda2/lib/python2.7/site-packages/sklearn/metrics/classification.py:1074: UndefinedMetricWarning: Precision and F-score are ill-defined and being set to 0.0 in labels with no predicted samples.\n",
      "  'precision', 'predicted', average, warn_for)\n"
     ]
    }
   ],
   "source": [
    "print(\"Classification report for classifier %s:\\n%s\\n\"\n",
    "      % (log_clf, metrics.classification_report(expected, predicted)))\n",
    "print(\"Confusion matrix:\\n%s\" % metrics.confusion_matrix(expected, predicted))"
   ]
  },
  {
   "cell_type": "markdown",
   "metadata": {},
   "source": [
    "* As it can be seen, class 0 has zero precision.\n",
    "* it is better for BPD to have better accuracy for class 0 than class 1 as class 0 are violent crimes."
   ]
  },
  {
   "cell_type": "markdown",
   "metadata": {},
   "source": [
    "<a id='model3.1.2'></a>"
   ]
  },
  {
   "cell_type": "markdown",
   "metadata": {
    "collapsed": true
   },
   "source": [
    "#### Over sampling/ Class Balancing methods"
   ]
  },
  {
   "cell_type": "markdown",
   "metadata": {},
   "source": [
    "<a id='model3.1.2.1'></a>"
   ]
  },
  {
   "cell_type": "markdown",
   "metadata": {},
   "source": [
    "#### Class balancing method"
   ]
  },
  {
   "cell_type": "code",
   "execution_count": 47,
   "metadata": {
    "collapsed": false
   },
   "outputs": [
    {
     "name": "stdout",
     "output_type": "stream",
     "text": [
      "[array([ 0.6277326 ,  0.55447576,  0.60552872,  0.56641361,  0.63789148]), 0.59840843210312367]\n"
     ]
    }
   ],
   "source": [
    "log_clf = make_pipeline(linear_model.LogisticRegression(C=0.01, class_weight='balanced'))\n",
    "log_kf_model2_set1_accuracy = perform_cv(log_clf,data_x,data_y,'accuracy')\n",
    "print log_kf_model2_set1_accuracy"
   ]
  },
  {
   "cell_type": "code",
   "execution_count": 48,
   "metadata": {
    "collapsed": false
   },
   "outputs": [
    {
     "name": "stdout",
     "output_type": "stream",
     "text": [
      "[array([ 0.73063219,  0.6676962 ,  0.70650605,  0.65860859,  0.73937034]), 0.70056267398795002]\n"
     ]
    }
   ],
   "source": [
    "log_clf = make_pipeline(linear_model.LogisticRegression(C=0.01, class_weight='balanced'))\n",
    "log_kf_model2_set1_accuracy = perform_cv(log_clf,data_x,data_y,'f1')\n",
    "print log_kf_model2_set1_accuracy"
   ]
  },
  {
   "cell_type": "markdown",
   "metadata": {},
   "source": [
    "<a id='model3.1.2.1.1'></a>"
   ]
  },
  {
   "cell_type": "markdown",
   "metadata": {},
   "source": [
    "#### Measure of individual class precision-recall"
   ]
  },
  {
   "cell_type": "code",
   "execution_count": 52,
   "metadata": {
    "collapsed": true
   },
   "outputs": [],
   "source": [
    "data_x_train, data_x_test, data_y_train, data_y_test = cross_validation.train_test_split(data_x, data_y, test_size=0.3, random_state=0)\n",
    "clf = linear_model.LogisticRegression(C=0.01, class_weight='balanced')\n",
    "clf.fit(data_x_train,data_y_train)\n",
    "expected = data_y_test\n",
    "predicted = clf.predict(data_x_test)"
   ]
  },
  {
   "cell_type": "code",
   "execution_count": 53,
   "metadata": {
    "collapsed": false
   },
   "outputs": [
    {
     "name": "stdout",
     "output_type": "stream",
     "text": [
      "Classification report for classifier Pipeline(steps=[('logisticregression', LogisticRegression(C=0.01, class_weight='balanced', dual=False,\n",
      "          fit_intercept=True, intercept_scaling=1, max_iter=100,\n",
      "          multi_class='ovr', n_jobs=1, penalty='l2', random_state=None,\n",
      "          solver='liblinear', tol=0.0001, verbose=0, warm_start=False))]):\n",
      "             precision    recall  f1-score   support\n",
      "\n",
      "          0       0.42      0.41      0.41     25681\n",
      "          1       0.73      0.73      0.73     54736\n",
      "\n",
      "avg / total       0.63      0.63      0.63     80417\n",
      "\n",
      "\n",
      "Confusion matrix:\n",
      "[[10495 15186]\n",
      " [14639 40097]]\n"
     ]
    }
   ],
   "source": [
    "print(\"Classification report for classifier %s:\\n%s\\n\"\n",
    "      % (log_clf, metrics.classification_report(expected, predicted)))\n",
    "print(\"Confusion matrix:\\n%s\" % metrics.confusion_matrix(expected, predicted))"
   ]
  },
  {
   "cell_type": "markdown",
   "metadata": {},
   "source": [
    "* Minority class 0 precision improves."
   ]
  },
  {
   "cell_type": "markdown",
   "metadata": {},
   "source": [
    "<a id='model3.1.2.2'></a>"
   ]
  },
  {
   "cell_type": "markdown",
   "metadata": {},
   "source": [
    "#### Oversampling"
   ]
  },
  {
   "cell_type": "code",
   "execution_count": 57,
   "metadata": {
    "collapsed": false
   },
   "outputs": [],
   "source": [
    "from imblearn.over_sampling import RandomOverSampler\n",
    "ros = RandomOverSampler()\n",
    "data_x_resampled, data_y_resampled = ros.fit_sample(data_x, data_y)"
   ]
  },
  {
   "cell_type": "code",
   "execution_count": 58,
   "metadata": {
    "collapsed": false
   },
   "outputs": [
    {
     "name": "stdout",
     "output_type": "stream",
     "text": [
      "[array([ 0.49596598,  0.41702221,  0.46310579,  0.46738595,  0.50808172]), 0.47031232906684173]\n"
     ]
    }
   ],
   "source": [
    "log_clf = make_pipeline(linear_model.LogisticRegression(C=0.01))\n",
    "log_kf_model2_set1_accuracy = perform_cv(log_clf,data_x_resampled,data_y_resampled,'accuracy')\n",
    "print log_kf_model2_set1_accuracy"
   ]
  },
  {
   "cell_type": "code",
   "execution_count": 59,
   "metadata": {
    "collapsed": false
   },
   "outputs": [
    {
     "name": "stdout",
     "output_type": "stream",
     "text": [
      "[array([ 0.49756683,  0.33056969,  0.45736241,  0.40589393,  0.53010254]), 0.44429907914823924]\n"
     ]
    }
   ],
   "source": [
    "log_clf = make_pipeline(linear_model.LogisticRegression(C=0.01))\n",
    "log_kf_model2_set1_accuracy = perform_cv(log_clf,data_x_resampled,data_y_resampled,'f1')\n",
    "print log_kf_model2_set1_accuracy"
   ]
  },
  {
   "cell_type": "markdown",
   "metadata": {},
   "source": [
    "<a id='model3.1.2.2.1'></a>"
   ]
  },
  {
   "cell_type": "markdown",
   "metadata": {},
   "source": [
    "#### Measure of individual class precision-recall"
   ]
  },
  {
   "cell_type": "code",
   "execution_count": 60,
   "metadata": {
    "collapsed": true
   },
   "outputs": [],
   "source": [
    "data_x_train, data_x_test, data_y_train, data_y_test = cross_validation.train_test_split(data_x_resampled, data_y_resampled, test_size=0.3, random_state=0)\n",
    "clf = linear_model.LogisticRegression(C=0.01)\n",
    "clf.fit(data_x_train,data_y_train)\n",
    "expected = data_y_test\n",
    "predicted = clf.predict(data_x_test)"
   ]
  },
  {
   "cell_type": "code",
   "execution_count": 61,
   "metadata": {
    "collapsed": false
   },
   "outputs": [
    {
     "name": "stdout",
     "output_type": "stream",
     "text": [
      "Classification report for classifier Pipeline(steps=[('logisticregression', LogisticRegression(C=0.01, class_weight=None, dual=False, fit_intercept=True,\n",
      "          intercept_scaling=1, max_iter=100, multi_class='ovr', n_jobs=1,\n",
      "          penalty='l2', random_state=None, solver='liblinear', tol=0.0001,\n",
      "          verbose=0, warm_start=False))]):\n",
      "             precision    recall  f1-score   support\n",
      "\n",
      "          0       0.60      0.42      0.49     54565\n",
      "          1       0.56      0.73      0.63     55127\n",
      "\n",
      "avg / total       0.58      0.57      0.56    109692\n",
      "\n",
      "\n",
      "Confusion matrix:\n",
      "[[22691 31874]\n",
      " [15041 40086]]\n"
     ]
    }
   ],
   "source": [
    "print(\"Classification report for classifier %s:\\n%s\\n\"\n",
    "      % (log_clf, metrics.classification_report(expected, predicted)))\n",
    "print(\"Confusion matrix:\\n%s\" % metrics.confusion_matrix(expected, predicted))"
   ]
  },
  {
   "cell_type": "markdown",
   "metadata": {},
   "source": [
    "<a id='model3.1.3'></a>"
   ]
  },
  {
   "cell_type": "markdown",
   "metadata": {},
   "source": [
    "#### Inferences"
   ]
  },
  {
   "cell_type": "markdown",
   "metadata": {},
   "source": [
    "* Logistic Regression and  Random Forests seem suited for this level of classification.\n",
    "* SVM are not tried as they don't generalize well on data more than 100,000 samples and are computationally intensive.\n",
    "* The individual class precision/recall is reduced due to the skewed dataset.\n",
    "* Balancing the classes decreases the overall cross validated accuracy though the individual class precision/recall increases."
   ]
  },
  {
   "cell_type": "markdown",
   "metadata": {},
   "source": [
    "<a id='model3.2'></a>"
   ]
  },
  {
   "cell_type": "markdown",
   "metadata": {},
   "source": [
    "#### Feature Set 2: District, Hour, Month, Streetname"
   ]
  },
  {
   "cell_type": "code",
   "execution_count": 62,
   "metadata": {
    "collapsed": true
   },
   "outputs": [],
   "source": [
    "def encode_features_model3_set2(df):\n",
    "    df_district = pd.get_dummies(df['district'])\n",
    "    df_month = pd.get_dummies(df['month'])\n",
    "    df_hours = pd.get_dummies(df['hours'])\n",
    "    df_streetname = pd.get_dummies(df['streetname'])\n",
    "    column_dfs = [df_district,df_month,df_hours,df_streetname]\n",
    "    df_concat = pd.concat(column_dfs,axis=1)\n",
    "    df_concat.columns = ['Brighton','Charlestown',\n",
    "     'Dorchester',\n",
    "     'Downtown',\n",
    "     'East Boston',\n",
    "     'Human Traffic Unit',\n",
    "     'Hyde Park',\n",
    "     'Jamaica Plain',\n",
    "     'Mattapan',\n",
    "     'Roxbury',\n",
    "     'South Boston',\n",
    "     'South End',\n",
    "     'West Roxbury',\n",
    "     'missing_district'] + ['month' + str(i) for i in range(1,13)]  + ['hour' + str(i) for i in range(0,3)] + ['street' + str(i) for i in range(0,10)]\n",
    "    \n",
    "    return df_concat"
   ]
  },
  {
   "cell_type": "code",
   "execution_count": 63,
   "metadata": {
    "collapsed": true
   },
   "outputs": [],
   "source": [
    "def recode_streetname(df):\n",
    "    list_street = list()\n",
    "    for street in df.streetname:\n",
    "        if street not in top_streets:\n",
    "            list_street.append('other')\n",
    "        else:\n",
    "            list_street.append(street)\n",
    "    df.streetname = list_street\n",
    "    return df"
   ]
  },
  {
   "cell_type": "code",
   "execution_count": 71,
   "metadata": {
    "collapsed": true
   },
   "outputs": [],
   "source": [
    "df_boston = pd.read_pickle('df_boston.pkl')\n",
    "top_streets = list(df_boston.streetname.value_counts()[:9].index)\n",
    "df_model3 = df_boston"
   ]
  },
  {
   "cell_type": "code",
   "execution_count": 72,
   "metadata": {
    "collapsed": true
   },
   "outputs": [],
   "source": [
    "df_model3 = recategorize_part1_part2(df_model3)"
   ]
  },
  {
   "cell_type": "code",
   "execution_count": 73,
   "metadata": {
    "collapsed": false
   },
   "outputs": [],
   "source": [
    "df_model3_set2 = bin_hours_model3(df_model3)\n",
    "df_model3_set2 = recode_streetname(df_model3_set2)\n",
    "data_y = df_model3_set2.crime_category\n",
    "df_model3_set2 = encode_features_model3_set2(df_model3_set2)\n",
    "data_x = df_model3_set2"
   ]
  },
  {
   "cell_type": "markdown",
   "metadata": {},
   "source": [
    "#### Naive Bayes Classifier"
   ]
  },
  {
   "cell_type": "code",
   "execution_count": 75,
   "metadata": {
    "collapsed": false
   },
   "outputs": [
    {
     "data": {
      "text/plain": [
       "[array([ 0.31798851,  0.31756543,  0.31984108,  0.31833019,  0.32178098]),\n",
       " 0.31910123672936513]"
      ]
     },
     "execution_count": 75,
     "metadata": {},
     "output_type": "execute_result"
    }
   ],
   "source": [
    "nb_score(data_x,data_y,'accuracy')"
   ]
  },
  {
   "cell_type": "code",
   "execution_count": 76,
   "metadata": {
    "collapsed": false
   },
   "outputs": [
    {
     "data": {
      "text/plain": [
       "[array([ 0.57562986,  0.50173767,  0.55288   ,  0.54105248,  0.57490138]),\n",
       " 0.54924027752003346]"
      ]
     },
     "execution_count": 76,
     "metadata": {},
     "output_type": "execute_result"
    }
   ],
   "source": [
    "nb_score(data_x,data_y,'roc_auc')"
   ]
  },
  {
   "cell_type": "markdown",
   "metadata": {},
   "source": [
    "#### Logistic Regression"
   ]
  },
  {
   "cell_type": "code",
   "execution_count": 77,
   "metadata": {
    "collapsed": false
   },
   "outputs": [
    {
     "data": {
      "text/plain": [
       "[array([ 0.68408192,  0.66945216,  0.68200556,  0.67088844,  0.68375893]),\n",
       " 0.67803740246620292]"
      ]
     },
     "execution_count": 77,
     "metadata": {},
     "output_type": "execute_result"
    }
   ],
   "source": [
    "logistic_score(data_x,data_y,'accuracy',0.01)"
   ]
  },
  {
   "cell_type": "code",
   "execution_count": 78,
   "metadata": {
    "collapsed": false
   },
   "outputs": [
    {
     "data": {
      "text/plain": [
       "[array([ 0.57598087,  0.50909792,  0.54498789,  0.54151568,  0.57718339]),\n",
       " 0.5497531483613175]"
      ]
     },
     "execution_count": 78,
     "metadata": {},
     "output_type": "execute_result"
    }
   ],
   "source": [
    "logistic_score(data_x,data_y,'roc_auc',0.01)"
   ]
  },
  {
   "cell_type": "code",
   "execution_count": 79,
   "metadata": {
    "collapsed": false
   },
   "outputs": [
    {
     "data": {
      "text/plain": [
       "[array([ 0.72254347,  0.6663378 ,  0.68773413,  0.68837706,  0.71761809]),\n",
       " 0.69652211005637987]"
      ]
     },
     "execution_count": 79,
     "metadata": {},
     "output_type": "execute_result"
    }
   ],
   "source": [
    "logistic_score(data_x,data_y,'average_precision',0.01)"
   ]
  },
  {
   "cell_type": "code",
   "execution_count": 78,
   "metadata": {
    "collapsed": false
   },
   "outputs": [
    {
     "data": {
      "text/plain": [
       "[array([ 0.81021481,  0.79931525,  0.80905873,  0.8005564 ,  0.81000885]),\n",
       " 0.80583080908327598]"
      ]
     },
     "execution_count": 78,
     "metadata": {},
     "output_type": "execute_result"
    }
   ],
   "source": [
    "logistic_score(data_x,data_y,'f1',0.01)"
   ]
  },
  {
   "cell_type": "markdown",
   "metadata": {},
   "source": [
    "#### Random Forests"
   ]
  },
  {
   "cell_type": "code",
   "execution_count": 81,
   "metadata": {
    "collapsed": false
   },
   "outputs": [
    {
     "data": {
      "text/plain": [
       "[array([ 0.68658136,  0.67331331,  0.68513924,  0.67974856,  0.68793718]),\n",
       " 0.6825439309792305]"
      ]
     },
     "execution_count": 81,
     "metadata": {},
     "output_type": "execute_result"
    }
   ],
   "source": [
    "rf_score(data_x,data_y,'accuracy',150,20)"
   ]
  },
  {
   "cell_type": "code",
   "execution_count": 80,
   "metadata": {
    "collapsed": false
   },
   "outputs": [
    {
     "data": {
      "text/plain": [
       "[array([ 0.72644715,  0.66948183,  0.70030968,  0.69773467,  0.72002695]),\n",
       " 0.7028000583895444]"
      ]
     },
     "execution_count": 80,
     "metadata": {},
     "output_type": "execute_result"
    }
   ],
   "source": [
    "rf_score(data_x,data_y,'average_precision',150,20)"
   ]
  },
  {
   "cell_type": "code",
   "execution_count": 79,
   "metadata": {
    "collapsed": false
   },
   "outputs": [
    {
     "data": {
      "text/plain": [
       "[array([ 0.80945314,  0.80127461,  0.80791706,  0.8043503 ,  0.81152734]),\n",
       " 0.80690448844259577]"
      ]
     },
     "execution_count": 79,
     "metadata": {},
     "output_type": "execute_result"
    }
   ],
   "source": [
    "rf_score(data_x,data_y,'f1',150,20)"
   ]
  },
  {
   "cell_type": "code",
   "execution_count": 81,
   "metadata": {
    "collapsed": false
   },
   "outputs": [
    {
     "data": {
      "text/plain": [
       "[array([ 0.58194711,  0.51063263,  0.55094088,  0.54812849,  0.57913345]),\n",
       " 0.55415651225192508]"
      ]
     },
     "execution_count": 81,
     "metadata": {},
     "output_type": "execute_result"
    }
   ],
   "source": [
    "rf_score(data_x,data_y,'roc_auc',150,20)"
   ]
  },
  {
   "cell_type": "code",
   "execution_count": 3,
   "metadata": {
    "collapsed": false
   },
   "outputs": [
    {
     "data": {
      "text/html": [
       "<div>\n",
       "<table border=\"1\" class=\"dataframe\">\n",
       "  <thead>\n",
       "    <tr style=\"text-align: right;\">\n",
       "      <th></th>\n",
       "      <th>roc</th>\n",
       "      <th>accuracy</th>\n",
       "    </tr>\n",
       "    <tr>\n",
       "      <th>algos</th>\n",
       "      <th></th>\n",
       "      <th></th>\n",
       "    </tr>\n",
       "  </thead>\n",
       "  <tbody>\n",
       "    <tr>\n",
       "      <th>Logistic Regression</th>\n",
       "      <td>0.54</td>\n",
       "      <td>0.68</td>\n",
       "    </tr>\n",
       "    <tr>\n",
       "      <th>Random Forests</th>\n",
       "      <td>0.55</td>\n",
       "      <td>0.68</td>\n",
       "    </tr>\n",
       "  </tbody>\n",
       "</table>\n",
       "</div>"
      ],
      "text/plain": [
       "                      roc  accuracy\n",
       "algos                              \n",
       "Logistic Regression  0.54      0.68\n",
       "Random Forests       0.55      0.68"
      ]
     },
     "execution_count": 3,
     "metadata": {},
     "output_type": "execute_result"
    }
   ],
   "source": [
    "df = pd.DataFrame()\n",
    "df['algos'] = ['Logistic Regression','Random Forests']\n",
    "df['roc'] = [0.54,0.55]\n",
    "df['accuracy'] = [0.68,0.68]\n",
    "df.set_index('algos')"
   ]
  },
  {
   "cell_type": "markdown",
   "metadata": {},
   "source": [
    "* Low scores in accuracy and auc-roc due to class imabalance."
   ]
  },
  {
   "cell_type": "markdown",
   "metadata": {},
   "source": [
    "<a id='model3.2.1'></a>"
   ]
  },
  {
   "cell_type": "markdown",
   "metadata": {},
   "source": [
    "#### Measure of individual class precision, recall"
   ]
  },
  {
   "cell_type": "code",
   "execution_count": 74,
   "metadata": {
    "collapsed": true
   },
   "outputs": [],
   "source": [
    "data_x_train, data_x_test, data_y_train, data_y_test = cross_validation.train_test_split(data_x, data_y, test_size=0.3, random_state=0)\n",
    "clf = RandomForestClassifier(n_estimators=150,max_depth=20)\n",
    "clf.fit(data_x_train,data_y_train)\n",
    "expected = data_y_test\n",
    "predicted = clf.predict(data_x_test)"
   ]
  },
  {
   "cell_type": "code",
   "execution_count": 75,
   "metadata": {
    "collapsed": false
   },
   "outputs": [
    {
     "name": "stdout",
     "output_type": "stream",
     "text": [
      "Classification report for classifier Pipeline(steps=[('logisticregression', LogisticRegression(C=0.01, class_weight=None, dual=False, fit_intercept=True,\n",
      "          intercept_scaling=1, max_iter=100, multi_class='ovr', n_jobs=1,\n",
      "          penalty='l2', random_state=None, solver='liblinear', tol=0.0001,\n",
      "          verbose=0, warm_start=False))]):\n",
      "             precision    recall  f1-score   support\n",
      "\n",
      "          0       0.57      0.06      0.11     25681\n",
      "          1       0.69      0.98      0.81     54736\n",
      "\n",
      "avg / total       0.65      0.69      0.59     80417\n",
      "\n",
      "\n",
      "Confusion matrix:\n",
      "[[ 1584 24097]\n",
      " [ 1207 53529]]\n"
     ]
    }
   ],
   "source": [
    "print(\"Classification report for classifier %s:\\n%s\\n\"\n",
    "      % (log_clf, metrics.classification_report(expected, predicted)))\n",
    "print(\"Confusion matrix:\\n%s\" % metrics.confusion_matrix(expected, predicted))"
   ]
  },
  {
   "cell_type": "markdown",
   "metadata": {},
   "source": [
    "<a id='model3.2.2'></a>"
   ]
  },
  {
   "cell_type": "markdown",
   "metadata": {},
   "source": [
    "#### Over sampling/ Class Balancing methods"
   ]
  },
  {
   "cell_type": "markdown",
   "metadata": {},
   "source": [
    "<a id='model3.2.2.1'></a>"
   ]
  },
  {
   "cell_type": "markdown",
   "metadata": {},
   "source": [
    "#### Class balancing method"
   ]
  },
  {
   "cell_type": "code",
   "execution_count": 76,
   "metadata": {
    "collapsed": false
   },
   "outputs": [
    {
     "name": "stdout",
     "output_type": "stream",
     "text": [
      "[array([ 0.62452436,  0.55333793,  0.60355151,  0.561825  ,  0.6347951 ]), 0.59560678023405567]\n"
     ]
    }
   ],
   "source": [
    "log_clf = make_pipeline(linear_model.LogisticRegression(C=0.01, class_weight='balanced'))\n",
    "log_kf_model2_set1_accuracy = perform_cv(log_clf,data_x,data_y,'accuracy')\n",
    "print log_kf_model2_set1_accuracy"
   ]
  },
  {
   "cell_type": "code",
   "execution_count": 77,
   "metadata": {
    "collapsed": false
   },
   "outputs": [
    {
     "name": "stdout",
     "output_type": "stream",
     "text": [
      "[array([ 0.72636072,  0.66559602,  0.70428806,  0.65204189,  0.73535812]), 0.69672896292998443]\n"
     ]
    }
   ],
   "source": [
    "log_clf = make_pipeline(linear_model.LogisticRegression(C=0.01, class_weight='balanced'))\n",
    "log_kf_model2_set1_accuracy = perform_cv(log_clf,data_x,data_y,'f1')\n",
    "print log_kf_model2_set1_accuracy"
   ]
  },
  {
   "cell_type": "markdown",
   "metadata": {},
   "source": [
    "<a id='model3.2.2.1.1'></a>"
   ]
  },
  {
   "cell_type": "markdown",
   "metadata": {},
   "source": [
    "#### Measure of individual class precision-recall"
   ]
  },
  {
   "cell_type": "code",
   "execution_count": 82,
   "metadata": {
    "collapsed": true
   },
   "outputs": [],
   "source": [
    "data_x_train, data_x_test, data_y_train, data_y_test = cross_validation.train_test_split(data_x, data_y, test_size=0.3, random_state=0)\n",
    "clf = linear_model.LogisticRegression(C=0.01, class_weight='balanced')\n",
    "clf.fit(data_x_train,data_y_train)\n",
    "expected = data_y_test\n",
    "predicted = clf.predict(data_x_test)"
   ]
  },
  {
   "cell_type": "code",
   "execution_count": 83,
   "metadata": {
    "collapsed": false
   },
   "outputs": [
    {
     "name": "stdout",
     "output_type": "stream",
     "text": [
      "Classification report for classifier Pipeline(steps=[('logisticregression', LogisticRegression(C=0.01, class_weight='balanced', dual=False,\n",
      "          fit_intercept=True, intercept_scaling=1, max_iter=100,\n",
      "          multi_class='ovr', n_jobs=1, penalty='l2', random_state=None,\n",
      "          solver='liblinear', tol=0.0001, verbose=0, warm_start=False))]):\n",
      "             precision    recall  f1-score   support\n",
      "\n",
      "          0       0.41      0.42      0.42     25681\n",
      "          1       0.73      0.72      0.73     54736\n",
      "\n",
      "avg / total       0.63      0.63      0.63     80417\n",
      "\n",
      "\n",
      "Confusion matrix:\n",
      "[[10669 15012]\n",
      " [15054 39682]]\n"
     ]
    }
   ],
   "source": [
    "print(\"Classification report for classifier %s:\\n%s\\n\"\n",
    "      % (log_clf, metrics.classification_report(expected, predicted)))\n",
    "print(\"Confusion matrix:\\n%s\" % metrics.confusion_matrix(expected, predicted))"
   ]
  },
  {
   "cell_type": "markdown",
   "metadata": {},
   "source": [
    "<a id='model3.2.2.2'></a>"
   ]
  },
  {
   "cell_type": "markdown",
   "metadata": {},
   "source": [
    "#### Oversampling"
   ]
  },
  {
   "cell_type": "code",
   "execution_count": 84,
   "metadata": {
    "collapsed": true
   },
   "outputs": [],
   "source": [
    "from imblearn.over_sampling import RandomOverSampler\n",
    "ros = RandomOverSampler()\n",
    "data_x_resampled, data_y_resampled = ros.fit_sample(data_x, data_y)"
   ]
  },
  {
   "cell_type": "code",
   "execution_count": 85,
   "metadata": {
    "collapsed": false
   },
   "outputs": [
    {
     "name": "stdout",
     "output_type": "stream",
     "text": [
      "[array([ 0.49552839,  0.42257412,  0.46161525,  0.46686632,  0.50287168]), 0.46989114976479601]\n"
     ]
    }
   ],
   "source": [
    "log_clf = make_pipeline(linear_model.LogisticRegression(C=0.01))\n",
    "log_kf_model2_set1_accuracy = perform_cv(log_clf,data_x_resampled,data_y_resampled,'accuracy')\n",
    "print log_kf_model2_set1_accuracy"
   ]
  },
  {
   "cell_type": "code",
   "execution_count": 86,
   "metadata": {
    "collapsed": false
   },
   "outputs": [
    {
     "name": "stdout",
     "output_type": "stream",
     "text": [
      "[array([ 0.49866141,  0.35503284,  0.45397684,  0.40665378,  0.52134299]), 0.44713357215221039]\n"
     ]
    }
   ],
   "source": [
    "log_clf = make_pipeline(linear_model.LogisticRegression(C=0.01))\n",
    "log_kf_model2_set1_accuracy = perform_cv(log_clf,data_x_resampled,data_y_resampled,'f1')\n",
    "print log_kf_model2_set1_accuracy"
   ]
  },
  {
   "cell_type": "markdown",
   "metadata": {},
   "source": [
    "<a id='model3.2.2.2.1'></a>"
   ]
  },
  {
   "cell_type": "markdown",
   "metadata": {},
   "source": [
    "#### Measure of individual class precision-recall"
   ]
  },
  {
   "cell_type": "code",
   "execution_count": 87,
   "metadata": {
    "collapsed": true
   },
   "outputs": [],
   "source": [
    "data_x_train, data_x_test, data_y_train, data_y_test = cross_validation.train_test_split(data_x_resampled, data_y_resampled, test_size=0.3, random_state=0)\n",
    "clf = linear_model.LogisticRegression(C=0.01)\n",
    "clf.fit(data_x_train,data_y_train)\n",
    "expected = data_y_test\n",
    "predicted = clf.predict(data_x_test)"
   ]
  },
  {
   "cell_type": "code",
   "execution_count": 88,
   "metadata": {
    "collapsed": false
   },
   "outputs": [
    {
     "name": "stdout",
     "output_type": "stream",
     "text": [
      "Classification report for classifier Pipeline(steps=[('logisticregression', LogisticRegression(C=0.01, class_weight=None, dual=False, fit_intercept=True,\n",
      "          intercept_scaling=1, max_iter=100, multi_class='ovr', n_jobs=1,\n",
      "          penalty='l2', random_state=None, solver='liblinear', tol=0.0001,\n",
      "          verbose=0, warm_start=False))]):\n",
      "             precision    recall  f1-score   support\n",
      "\n",
      "          0       0.60      0.42      0.49     54565\n",
      "          1       0.56      0.73      0.63     55127\n",
      "\n",
      "avg / total       0.58      0.57      0.56    109692\n",
      "\n",
      "\n",
      "Confusion matrix:\n",
      "[[22762 31803]\n",
      " [15132 39995]]\n"
     ]
    }
   ],
   "source": [
    "print(\"Classification report for classifier %s:\\n%s\\n\"\n",
    "      % (log_clf, metrics.classification_report(expected, predicted)))\n",
    "print(\"Confusion matrix:\\n%s\" % metrics.confusion_matrix(expected, predicted))"
   ]
  },
  {
   "cell_type": "markdown",
   "metadata": {},
   "source": [
    "<a id='model3.3'></a>"
   ]
  },
  {
   "cell_type": "markdown",
   "metadata": {},
   "source": [
    "### Inferences"
   ]
  },
  {
   "cell_type": "markdown",
   "metadata": {},
   "source": [
    "* The second feature set of (Hour, DIstrict, Month, Streetname) gives better results whencompared to the first model.\n",
    "* Class balancing leads to better precision-recall scores compared to the original dataset due to class imbalance."
   ]
  },
  {
   "cell_type": "markdown",
   "metadata": {},
   "source": [
    "<a id='model3.4'></a>"
   ]
  },
  {
   "cell_type": "markdown",
   "metadata": {},
   "source": [
    "#### Possible Improvements:\n",
    "* Other classifiers like SVMs and boosting methods can be tried to check their performance.\n",
    "* More resampling methods can be tried to imrpove the class balance.\n",
    "* The algorithms can be optimized using Grid Search to find the hyper parameters.\n",
    "* Other class collapsing methods can be tried and evaulated."
   ]
  },
  {
   "cell_type": "code",
   "execution_count": null,
   "metadata": {
    "collapsed": true
   },
   "outputs": [],
   "source": []
  }
 ],
 "metadata": {
  "kernelspec": {
   "display_name": "Python 2",
   "language": "python",
   "name": "python2"
  },
  "language_info": {
   "codemirror_mode": {
    "name": "ipython",
    "version": 2
   },
   "file_extension": ".py",
   "mimetype": "text/x-python",
   "name": "python",
   "nbconvert_exporter": "python",
   "pygments_lexer": "ipython2",
   "version": "2.7.12"
  }
 },
 "nbformat": 4,
 "nbformat_minor": 0
}
