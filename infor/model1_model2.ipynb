{
 "cells": [
  {
   "cell_type": "markdown",
   "metadata": {},
   "source": [
    "## Contents:\n",
    "\n",
    "* [Introduction](#intro)\n",
    "\n",
    "* [Learning, Model Selection and Evaulation](#model)\n",
    "\n",
    "    * [Model 1: To predict all original crime categories - no collapsing](#model1)\n",
    "        \n",
    "        * [Feature Set 1 : District, Month, Hours](#m1.1)\n",
    "        \n",
    "        * [Conclusions](#m1.2)\n",
    "        \n",
    "        * [Possible Improvements](#m1.3)\n",
    "    \n",
    "    * [Model 2: To predict only the top 10 crimes](#model2)\n",
    "    \n",
    "        * [Feature Set 1 : District, Month, Hours](#m2.1)\n",
    "    \n",
    "            * [Evaluation Metrics used](#m2.1.1)\n",
    "    \n",
    "            * [Results](#m2.1.2)\n",
    "    \n",
    "        * [Feature Set 2: District, Month, Hours, Weekday/Weekend](#m2.2)\n",
    "            \n",
    "            * [Results](#m2.2.1)\n",
    "        \n",
    "        * [Feature 3 - Add streetname](#m2.3)\n",
    "    \n",
    "            * [Results](#m2.3.1)\n",
    "        \n",
    "        * [Conclusions](#m2.4)\n",
    "    \n",
    "        * [Improvements](#m2.5)"
   ]
  },
  {
   "cell_type": "markdown",
   "metadata": {},
   "source": [
    "<a id='intro'></a>"
   ]
  },
  {
   "cell_type": "markdown",
   "metadata": {},
   "source": [
    "## Introduction"
   ]
  },
  {
   "cell_type": "code",
   "execution_count": 1,
   "metadata": {
    "collapsed": true
   },
   "outputs": [],
   "source": [
    "%matplotlib inline\n",
    "from bs4 import BeautifulSoup\n",
    "import requests\n",
    "import pandas as pd\n",
    "import matplotlib\n",
    "import math\n",
    "import numpy as np\n",
    "import matplotlib.pyplot as plt\n",
    "matplotlib.style.use('ggplot')\n",
    "import seaborn as sns\n",
    "sns.set(style=\"whitegrid\", color_codes=True)"
   ]
  },
  {
   "cell_type": "code",
   "execution_count": 2,
   "metadata": {
    "collapsed": false
   },
   "outputs": [],
   "source": [
    "from sklearn import preprocessing\n",
    "from sklearn.pipeline import make_pipeline\n",
    "from sklearn.naive_bayes import GaussianNB\n",
    "from sklearn import cross_validation\n",
    "from sklearn import neighbors, metrics\n",
    "from sklearn import linear_model\n",
    "from sklearn import svm\n",
    "from sklearn import tree\n",
    "from sklearn.ensemble import RandomForestClassifier"
   ]
  },
  {
   "cell_type": "code",
   "execution_count": 46,
   "metadata": {
    "collapsed": false
   },
   "outputs": [],
   "source": [
    "df_boston = pd.read_pickle('df_boston.pkl')"
   ]
  },
  {
   "cell_type": "markdown",
   "metadata": {},
   "source": [
    "<a id='model'></a>"
   ]
  },
  {
   "cell_type": "markdown",
   "metadata": {},
   "source": [
    "## Learning, Model Selection and Evaulation"
   ]
  },
  {
   "cell_type": "markdown",
   "metadata": {},
   "source": [
    "* Since this is a classification problem, algorithms such as Naive Bayes, Logistic Regressions, Support Vector Machines can be used.\n",
    "* Tree-based and Ensemble methods such as Decision Trees and Random Forests can be used.\n",
    "* Neural Networks can also be used."
   ]
  },
  {
   "cell_type": "markdown",
   "metadata": {},
   "source": [
    "<a id='model1'></a>"
   ]
  },
  {
   "cell_type": "markdown",
   "metadata": {},
   "source": [
    "### Model 1: To predict all original crime categories - no collapsing"
   ]
  },
  {
   "cell_type": "markdown",
   "metadata": {},
   "source": [
    "* From the EDA done, the top 3 predictors of high importance are district, month, hours.\n",
    "* The baseline model was built with these 3 features to get an idea of the features.\n",
    "* The algorithms used were Naive Bayes Classifier, Decision Trees and Random Forests."
   ]
  },
  {
   "cell_type": "markdown",
   "metadata": {},
   "source": [
    "<a id='m1.1'></a>"
   ]
  },
  {
   "cell_type": "markdown",
   "metadata": {},
   "source": [
    "#### Feature Set 1 : District, Month, Hours"
   ]
  },
  {
   "cell_type": "markdown",
   "metadata": {},
   "source": [
    "#### Hours"
   ]
  },
  {
   "cell_type": "markdown",
   "metadata": {},
   "source": [
    "The hours can be recoded in 4 catefories:\n",
    "    1. Early Morning Hours\n",
    "    2. Peak Hours(12 PM and AM)\n",
    "    3. Peak Evening Hours (16-18 Hours)\n",
    "    4. Rest of the hours\n",
    "The hours have been split in this way to reflect the way crime distribution changes wrt the hours."
   ]
  },
  {
   "cell_type": "code",
   "execution_count": 47,
   "metadata": {
    "collapsed": true
   },
   "outputs": [],
   "source": [
    "def bin_hours(df):\n",
    "    list_hours = list()\n",
    "    for hour in df.hours:\n",
    "        if hour in range(1,7):\n",
    "            list_hours.append(0)\n",
    "        elif hour in range(16,19):\n",
    "            list_hours.append(1)\n",
    "        elif hour in [12,24]:\n",
    "            list_hours.append(2)\n",
    "        else:\n",
    "            list_hours.append(3)\n",
    "    df.hours = list_hours\n",
    "    return df"
   ]
  },
  {
   "cell_type": "code",
   "execution_count": 9,
   "metadata": {
    "collapsed": false
   },
   "outputs": [],
   "source": [
    "df_model1_set1 = bin_hours(df_boston)"
   ]
  },
  {
   "cell_type": "markdown",
   "metadata": {},
   "source": [
    "#### Encoding"
   ]
  },
  {
   "cell_type": "code",
   "execution_count": 48,
   "metadata": {
    "collapsed": true
   },
   "outputs": [],
   "source": [
    "def encode_features(df):\n",
    "    df_district = pd.get_dummies(df['district'])\n",
    "    df_month = pd.get_dummies(df['month'])\n",
    "    df_hours = pd.get_dummies(df['hours'])\n",
    "    column_dfs = [df_district,df_month,df_hours]\n",
    "    df_concat = pd.concat(column_dfs,axis=1)\n",
    "    df_concat.columns = ['Brighton','Charlestown',\n",
    "     'Dorchester',\n",
    "     'Downtown',\n",
    "     'East Boston',\n",
    "     'Human Traffic Unit',\n",
    "     'Hyde Park',\n",
    "     'Jamaica Plain',\n",
    "     'Mattapan',\n",
    "     'Roxbury',\n",
    "     'South Boston',\n",
    "     'South End',\n",
    "     'West Roxbury',\n",
    "     'missing_district'] + ['month' + str(i) for i in range(1,13)] + ['hour' + str(i) for i in range(0,4)]\n",
    "    return df_concat"
   ]
  },
  {
   "cell_type": "code",
   "execution_count": 11,
   "metadata": {
    "collapsed": true
   },
   "outputs": [],
   "source": [
    "df_model1_set1 = encode_features(df_model1_set1)"
   ]
  },
  {
   "cell_type": "markdown",
   "metadata": {},
   "source": [
    "#### Learning"
   ]
  },
  {
   "cell_type": "code",
   "execution_count": 49,
   "metadata": {
    "collapsed": true
   },
   "outputs": [],
   "source": [
    "def perform_cv(clf, X, Y, scoring_metric):\n",
    "    kf_scores = list()\n",
    "    scores = cross_validation.cross_val_score(clf, X, Y, cv=5, scoring=scoring_metric)\n",
    "    kf_scores.append(scores)\n",
    "    kf_scores.append(scores.mean())\n",
    "    return kf_scores"
   ]
  },
  {
   "cell_type": "code",
   "execution_count": 13,
   "metadata": {
    "collapsed": true
   },
   "outputs": [],
   "source": [
    "data_x = df_model1_set1\n",
    "data_y = df_boston.crime_category"
   ]
  },
  {
   "cell_type": "markdown",
   "metadata": {},
   "source": [
    "#### Naive Bayes"
   ]
  },
  {
   "cell_type": "code",
   "execution_count": 153,
   "metadata": {
    "collapsed": false
   },
   "outputs": [
    {
     "data": {
      "text/plain": [
       "[array([ 0.00067109,  0.00050347,  0.00026112,  0.00052248,  0.00087723]),\n",
       " 0.00056707634074969063]"
      ]
     },
     "execution_count": 153,
     "metadata": {},
     "output_type": "execute_result"
    }
   ],
   "source": [
    "nb_clf = make_pipeline(preprocessing.StandardScaler(), GaussianNB())\n",
    "nb_kf_model1_set1_accuracy= perform_cv(nb_clf,data_x,data_y,'accuracy')\n",
    "nb_kf_model1_set1_accuracy"
   ]
  },
  {
   "cell_type": "markdown",
   "metadata": {},
   "source": [
    "#### Decision Tree"
   ]
  },
  {
   "cell_type": "code",
   "execution_count": 155,
   "metadata": {
    "collapsed": false,
    "scrolled": false
   },
   "outputs": [
    {
     "data": {
      "text/plain": [
       "[array([ 0.15105138,  0.14201537,  0.14611583,  0.13756041,  0.13546605]),\n",
       " 0.14244180548002977]"
      ]
     },
     "execution_count": 155,
     "metadata": {},
     "output_type": "execute_result"
    }
   ],
   "source": [
    "tree_clf = make_pipeline(preprocessing.StandardScaler(),tree.DecisionTreeClassifier())\n",
    "tree_kf_model1_set1_accuracy = perform_cv(tree_clf,data_x,data_y,'accuracy')\n",
    "tree_kf_model1_set1_accuracy"
   ]
  },
  {
   "cell_type": "markdown",
   "metadata": {},
   "source": [
    "#### Random Forests"
   ]
  },
  {
   "cell_type": "code",
   "execution_count": 15,
   "metadata": {
    "collapsed": true
   },
   "outputs": [],
   "source": [
    "rf_clf = make_pipeline(preprocessing.StandardScaler(),RandomForestClassifier(n_estimators=10))\n",
    "rf_kf_model1_set1_accuracy = perform_cv(rf_clf,data_x,data_y,'accuracy')"
   ]
  },
  {
   "cell_type": "code",
   "execution_count": 16,
   "metadata": {
    "collapsed": false
   },
   "outputs": [
    {
     "data": {
      "text/plain": [
       "[array([ 0.15064126,  0.14125084,  0.14576145,  0.13505999,  0.13421554]),\n",
       " 0.1413858157495162]"
      ]
     },
     "execution_count": 16,
     "metadata": {},
     "output_type": "execute_result"
    }
   ],
   "source": [
    "rf_kf_model1_set1_accuracy"
   ]
  },
  {
   "cell_type": "code",
   "execution_count": 12,
   "metadata": {
    "collapsed": false
   },
   "outputs": [
    {
     "name": "stderr",
     "output_type": "stream",
     "text": [
      "/cise/homes/ashwin/anaconda2/lib/python2.7/site-packages/sklearn/metrics/classification.py:1074: UndefinedMetricWarning: F-score is ill-defined and being set to 0.0 in labels with no predicted samples.\n",
      "  'precision', 'predicted', average, warn_for)\n"
     ]
    }
   ],
   "source": [
    "rf_clf = make_pipeline(preprocessing.StandardScaler(),RandomForestClassifier(n_estimators=150, max_depth=20))\n",
    "rf_kf_model1_set1_f1 = perform_cv(rf_clf,data_x,data_y,'f1_weighted')"
   ]
  },
  {
   "cell_type": "code",
   "execution_count": 13,
   "metadata": {
    "collapsed": false
   },
   "outputs": [
    {
     "data": {
      "text/plain": [
       "[array([ 0.07234724,  0.07383009,  0.07416921,  0.0677333 ,  0.07438393]),\n",
       " 0.072492754506245122]"
      ]
     },
     "execution_count": 13,
     "metadata": {},
     "output_type": "execute_result"
    }
   ],
   "source": [
    "rf_kf_model1_set1_f1"
   ]
  },
  {
   "cell_type": "code",
   "execution_count": 15,
   "metadata": {
    "collapsed": false
   },
   "outputs": [
    {
     "name": "stderr",
     "output_type": "stream",
     "text": [
      "/cise/homes/ashwin/anaconda2/lib/python2.7/site-packages/sklearn/metrics/classification.py:1076: UndefinedMetricWarning: F-score is ill-defined and being set to 0.0 in labels with no true samples.\n",
      "  'recall', 'true', average, warn_for)\n"
     ]
    }
   ],
   "source": [
    "rf_clf = make_pipeline(RandomForestClassifier(n_estimators=150, max_depth=20,class_weight = 'balanced'))\n",
    "rf_kf_model1_set1_f1 = perform_cv(rf_clf,data_x,data_y,'f1_weighted')"
   ]
  },
  {
   "cell_type": "code",
   "execution_count": 16,
   "metadata": {
    "collapsed": false
   },
   "outputs": [
    {
     "data": {
      "text/plain": [
       "[array([ 0.00730455,  0.00304428,  0.00726283,  0.00513344,  0.00974019]),\n",
       " 0.0064970594956120118]"
      ]
     },
     "execution_count": 16,
     "metadata": {},
     "output_type": "execute_result"
    }
   ],
   "source": [
    "rf_kf_model1_set1_f1"
   ]
  },
  {
   "cell_type": "markdown",
   "metadata": {},
   "source": [
    "<a id='m1.2'></a>"
   ]
  },
  {
   "cell_type": "markdown",
   "metadata": {},
   "source": [
    "#### Conclusions:"
   ]
  },
  {
   "cell_type": "markdown",
   "metadata": {},
   "source": [
    "* ** The intial model which tries to predict all classes has very low accuracy. **\n",
    "* ** The labels were too fine-grained and their close similaarity to each other seems to be the reason behind the poor performance of the baseline models built. **\n",
    "* ** Class imbalance can be corrected by oversampling methods and ensemble learners. **"
   ]
  },
  {
   "cell_type": "markdown",
   "metadata": {},
   "source": [
    "<a id='m1.3'></a>"
   ]
  },
  {
   "cell_type": "markdown",
   "metadata": {},
   "source": [
    "#### Possible Improvements:"
   ]
  },
  {
   "cell_type": "markdown",
   "metadata": {},
   "source": [
    "* Additional models can be built by collapsing several of these classes.\n",
    "* Ensemble methods and other computationally intensive can also be tried to improve the performance as required."
   ]
  },
  {
   "cell_type": "markdown",
   "metadata": {},
   "source": [
    "<a id='model2'></a>"
   ]
  },
  {
   "cell_type": "markdown",
   "metadata": {},
   "source": [
    "### Model 2: To predict only the top 10 crimes"
   ]
  },
  {
   "cell_type": "markdown",
   "metadata": {},
   "source": [
    "*  From the EDA done, the top 3 predictors of high importance are district, month, hours."
   ]
  },
  {
   "cell_type": "markdown",
   "metadata": {},
   "source": [
    "* The baseline of the model will be to use only the name of disrict, month and hours as the features. \n",
    "* Additional features can be added if they seem to increase the performance of the model significantly."
   ]
  },
  {
   "cell_type": "markdown",
   "metadata": {},
   "source": [
    "<a id='m2.1'></a>"
   ]
  },
  {
   "cell_type": "markdown",
   "metadata": {},
   "source": [
    "#### Feature Set 1 : District, Month, Hours"
   ]
  },
  {
   "cell_type": "code",
   "execution_count": 22,
   "metadata": {
    "collapsed": false
   },
   "outputs": [],
   "source": [
    "df_model2_set1 = bin_hours(df_boston)"
   ]
  },
  {
   "cell_type": "code",
   "execution_count": 23,
   "metadata": {
    "collapsed": false
   },
   "outputs": [],
   "source": [
    "df_model2_set1 = df_model2_set1.loc[df_model2_set1['crime_category'].isin(list(df_boston.crime_category.value_counts()[:10].index))]"
   ]
  },
  {
   "cell_type": "code",
   "execution_count": 24,
   "metadata": {
    "collapsed": true
   },
   "outputs": [],
   "source": [
    "data_y = df_model2_set1.crime_category"
   ]
  },
  {
   "cell_type": "code",
   "execution_count": 25,
   "metadata": {
    "collapsed": false
   },
   "outputs": [],
   "source": [
    "df_model2_set1 = encode_features(df_model2_set1) ### set1 features"
   ]
  },
  {
   "cell_type": "code",
   "execution_count": 26,
   "metadata": {
    "collapsed": true
   },
   "outputs": [],
   "source": [
    "data_x = df_model2_set1"
   ]
  },
  {
   "cell_type": "markdown",
   "metadata": {},
   "source": [
    "#### Naive Bayes"
   ]
  },
  {
   "cell_type": "code",
   "execution_count": 127,
   "metadata": {
    "collapsed": true
   },
   "outputs": [],
   "source": [
    "nb_clf = make_pipeline(preprocessing.StandardScaler(), GaussianNB())\n",
    "nb_kf_model2_set1_accuracy = perform_cv(nb_clf,data_x,data_y,'accuracy')"
   ]
  },
  {
   "cell_type": "code",
   "execution_count": 128,
   "metadata": {
    "collapsed": false
   },
   "outputs": [
    {
     "data": {
      "text/plain": [
       "[array([ 0.13022738,  0.12803117,  0.13267957,  0.12744526,  0.16275248]),\n",
       " 0.13622717088758451]"
      ]
     },
     "execution_count": 128,
     "metadata": {},
     "output_type": "execute_result"
    }
   ],
   "source": [
    "nb_kf_model2_set1_accuracy"
   ]
  },
  {
   "cell_type": "code",
   "execution_count": 129,
   "metadata": {
    "collapsed": true
   },
   "outputs": [],
   "source": [
    "nb_clf = make_pipeline(preprocessing.StandardScaler(), GaussianNB())\n",
    "nb_kf_model2_set1_logloss = perform_cv(nb_clf,data_x,data_y,'log_loss')"
   ]
  },
  {
   "cell_type": "code",
   "execution_count": 130,
   "metadata": {
    "collapsed": false
   },
   "outputs": [
    {
     "data": {
      "text/plain": [
       "[array([-8.90294717, -8.62602481, -8.6802286 , -9.81271047, -5.49586608]),\n",
       " -8.3035554273031984]"
      ]
     },
     "execution_count": 130,
     "metadata": {},
     "output_type": "execute_result"
    }
   ],
   "source": [
    "nb_kf_model2_set1_logloss"
   ]
  },
  {
   "cell_type": "markdown",
   "metadata": {},
   "source": [
    "#### Logistic Regression"
   ]
  },
  {
   "cell_type": "code",
   "execution_count": 133,
   "metadata": {
    "collapsed": false
   },
   "outputs": [
    {
     "data": {
      "text/plain": [
       "[array([ 0.21794668,  0.20859725,  0.21452425,  0.20781424,  0.21847002]),\n",
       " 0.21347048798609033]"
      ]
     },
     "execution_count": 133,
     "metadata": {},
     "output_type": "execute_result"
    }
   ],
   "source": [
    "log_clf = make_pipeline(linear_model.LogisticRegression(multi_class='multinomial',solver='lbfgs',C=0.01))\n",
    "log_kf_model2_set1_accuracy = perform_cv(log_clf,data_x,data_y,'accuracy')\n",
    "log_kf_model2_set1_accuracy"
   ]
  },
  {
   "cell_type": "code",
   "execution_count": 134,
   "metadata": {
    "collapsed": false
   },
   "outputs": [
    {
     "data": {
      "text/plain": [
       "[array([-2.19763379, -2.23155644, -2.2208301 , -2.24391866, -2.20795114]),\n",
       " -2.2203780255259806]"
      ]
     },
     "execution_count": 134,
     "metadata": {},
     "output_type": "execute_result"
    }
   ],
   "source": [
    "log_clf = make_pipeline(linear_model.LogisticRegression(multi_class='multinomial',solver='lbfgs',C=0.01))\n",
    "log_kf_model2_set1_logloss = perform_cv(log_clf,data_x,data_y,'log_loss')\n",
    "log_kf_model2_set1_logloss"
   ]
  },
  {
   "cell_type": "markdown",
   "metadata": {},
   "source": [
    "#### Decision Trees"
   ]
  },
  {
   "cell_type": "code",
   "execution_count": 135,
   "metadata": {
    "collapsed": false
   },
   "outputs": [
    {
     "data": {
      "text/plain": [
       "[array([ 0.21505804,  0.20149471,  0.20813676,  0.19882839,  0.20587923]),\n",
       " 0.20587942811674975]"
      ]
     },
     "execution_count": 135,
     "metadata": {},
     "output_type": "execute_result"
    }
   ],
   "source": [
    "tree_clf = make_pipeline(tree.DecisionTreeClassifier())\n",
    "tree_kf_model2_set1_accuracy = perform_cv(tree_clf,data_x,data_y,'accuracy')\n",
    "tree_kf_model2_set1_accuracy"
   ]
  },
  {
   "cell_type": "code",
   "execution_count": 136,
   "metadata": {
    "collapsed": false
   },
   "outputs": [
    {
     "data": {
      "text/plain": [
       "[array([-2.27930257, -2.30871192, -2.30774374, -2.32750826, -2.39922025]),\n",
       " -2.3244973487063048]"
      ]
     },
     "execution_count": 136,
     "metadata": {},
     "output_type": "execute_result"
    }
   ],
   "source": [
    "tree_clf = make_pipeline(tree.DecisionTreeClassifier())\n",
    "tree_kf_model2_set1_accuracy = perform_cv(tree_clf,data_x,data_y,'log_loss')\n",
    "tree_kf_model2_set1_accuracy"
   ]
  },
  {
   "cell_type": "markdown",
   "metadata": {},
   "source": [
    "#### Random Forests"
   ]
  },
  {
   "cell_type": "code",
   "execution_count": 138,
   "metadata": {
    "collapsed": false
   },
   "outputs": [
    {
     "data": {
      "text/plain": [
       "[array([ 0.21405099,  0.2013092 ,  0.20702359,  0.19763558,  0.20519005]),\n",
       " 0.20504188269811524]"
      ]
     },
     "execution_count": 138,
     "metadata": {},
     "output_type": "execute_result"
    }
   ],
   "source": [
    "rf_clf = make_pipeline(RandomForestClassifier(n_estimators=150,max_depth=20))\n",
    "rf_kf_model2_set1_accuracy = perform_cv(rf_clf,data_x,data_y,'accuracy')\n",
    "rf_kf_model2_set1_accuracy"
   ]
  },
  {
   "cell_type": "code",
   "execution_count": 141,
   "metadata": {
    "collapsed": false
   },
   "outputs": [
    {
     "data": {
      "text/plain": [
       "[array([-2.21165374, -2.24938181, -2.23379825, -2.25831878, -2.23257672]),\n",
       " -2.2371458602131669]"
      ]
     },
     "execution_count": 141,
     "metadata": {},
     "output_type": "execute_result"
    }
   ],
   "source": [
    "rf_clf = make_pipeline(RandomForestClassifier(n_estimators=150,max_depth=20))\n",
    "rf_kf_model2_set1_accuracy = perform_cv(rf_clf,data_x,data_y,'log_loss')\n",
    "rf_kf_model2_set1_accuracy"
   ]
  },
  {
   "cell_type": "markdown",
   "metadata": {},
   "source": [
    "<a id='m2.1.1'></a>"
   ]
  },
  {
   "cell_type": "markdown",
   "metadata": {},
   "source": [
    "#### Evaluation Metrics used:\n",
    "* As it is a multi-class classification problem, the log-loss will be a better metric to evaluate the algorithms \n",
    "than the traditional accuracy metric which is used.\n",
    "* The log-loss penalizes for any errors.\n",
    "* A better evaulation metric when compared to overall accuracy as that can be poor due to the skewed nature of the \n",
    "class distribution and the multi-class situation.\n",
    "* The models were evaulated under a 5-fold cross validated approach."
   ]
  },
  {
   "cell_type": "markdown",
   "metadata": {},
   "source": [
    "* From the log-losses calculated, Random Forests and Logistic Regression seem to perform well."
   ]
  },
  {
   "cell_type": "markdown",
   "metadata": {},
   "source": [
    "<a id='m2.1.2'></a>"
   ]
  },
  {
   "cell_type": "markdown",
   "metadata": {},
   "source": [
    "#### Results"
   ]
  },
  {
   "cell_type": "code",
   "execution_count": 36,
   "metadata": {
    "collapsed": false
   },
   "outputs": [
    {
     "data": {
      "text/html": [
       "<div>\n",
       "<table border=\"1\" class=\"dataframe\">\n",
       "  <thead>\n",
       "    <tr style=\"text-align: right;\">\n",
       "      <th></th>\n",
       "      <th>acc</th>\n",
       "      <th>log_loss</th>\n",
       "    </tr>\n",
       "    <tr>\n",
       "      <th>algos</th>\n",
       "      <th></th>\n",
       "      <th></th>\n",
       "    </tr>\n",
       "  </thead>\n",
       "  <tbody>\n",
       "    <tr>\n",
       "      <th>Naive Bayes</th>\n",
       "      <td>0.136227</td>\n",
       "      <td>-8.303555</td>\n",
       "    </tr>\n",
       "    <tr>\n",
       "      <th>Logistic Regression</th>\n",
       "      <td>0.213470</td>\n",
       "      <td>-2.220378</td>\n",
       "    </tr>\n",
       "    <tr>\n",
       "      <th>Decision Trees</th>\n",
       "      <td>0.205879</td>\n",
       "      <td>-2.324497</td>\n",
       "    </tr>\n",
       "    <tr>\n",
       "      <th>Random Forests</th>\n",
       "      <td>0.205042</td>\n",
       "      <td>-2.237146</td>\n",
       "    </tr>\n",
       "  </tbody>\n",
       "</table>\n",
       "</div>"
      ],
      "text/plain": [
       "                          acc  log_loss\n",
       "algos                                  \n",
       "Naive Bayes          0.136227 -8.303555\n",
       "Logistic Regression  0.213470 -2.220378\n",
       "Decision Trees       0.205879 -2.324497\n",
       "Random Forests       0.205042 -2.237146"
      ]
     },
     "execution_count": 36,
     "metadata": {},
     "output_type": "execute_result"
    }
   ],
   "source": [
    "df"
   ]
  },
  {
   "cell_type": "markdown",
   "metadata": {},
   "source": [
    "* Naive Bayes: the dependence of the features could be a reason behind its low accuracy and log_loss.\n",
    "* Logistic Regression, Trees and Random Forests seem to be naturally suited to the problem of multi class classification\n",
    "and they tend to do well."
   ]
  },
  {
   "cell_type": "code",
   "execution_count": 26,
   "metadata": {
    "collapsed": true
   },
   "outputs": [],
   "source": [
    "data_x_train, data_x_test, data_y_train, data_y_test = cross_validation.train_test_split(data_x, data_y, test_size=0.1, random_state=0)\n",
    "clf = RandomForestClassifier(n_estimators=250,max_depth=25)\n",
    "clf.fit(data_x_train,data_y_train)\n",
    "expected = data_y_test\n",
    "predicted = clf.predict(data_x_test)"
   ]
  },
  {
   "cell_type": "code",
   "execution_count": 27,
   "metadata": {
    "collapsed": false
   },
   "outputs": [
    {
     "name": "stdout",
     "output_type": "stream",
     "text": [
      "Classification report for classifier RandomForestClassifier(bootstrap=True, class_weight=None, criterion='gini',\n",
      "            max_depth=25, max_features='auto', max_leaf_nodes=None,\n",
      "            min_samples_leaf=1, min_samples_split=2,\n",
      "            min_weight_fraction_leaf=0.0, n_estimators=250, n_jobs=1,\n",
      "            oob_score=False, random_state=None, verbose=0,\n",
      "            warm_start=False):\n",
      "             precision    recall  f1-score   support\n",
      "\n",
      "AUTO VIOLATIONS       0.22      0.75      0.34      3764\n",
      "DRUG CHARGES       0.20      0.06      0.10      1275\n",
      "     INVPER       0.00      0.00      0.00      1311\n",
      "LARCENY FROM MOTOR VEHICLE       0.19      0.01      0.02      1287\n",
      "MEDICAL ASSISTANCE       0.16      0.03      0.05      1847\n",
      "      MVACC       0.05      0.00      0.00      1376\n",
      "OTHER ASSAULTS       0.21      0.05      0.09      1909\n",
      "OTHER LARCENY       0.25      0.39      0.31      2464\n",
      "   PROPERTY       0.18      0.05      0.07      2279\n",
      "  VANDALISM       0.07      0.00      0.00      1353\n",
      "\n",
      "avg / total       0.17      0.22      0.14     18865\n",
      "\n",
      "\n",
      "Confusion matrix:\n",
      "[[2820   70    2   10   57    7   78  607  106    7]\n",
      " [ 887   81    0    6   18    4    9  229   38    3]\n",
      " [ 981   36    0    3   20    5   28  193   43    2]\n",
      " [ 801   25    2   15   23    5   21  357   35    3]\n",
      " [1408   47    0    7   49    6   41  229   56    4]\n",
      " [1052   25    1    4   17    2   30  208   30    7]\n",
      " [1338   35    0    8   27    2  104  318   73    4]\n",
      " [1270   27    0   10   38    4   80  963   62   10]\n",
      " [1472   35    0   10   38    3   59  552  107    3]\n",
      " [1033   28    2    6   19    0   43  187   32    3]]\n"
     ]
    }
   ],
   "source": [
    "print(\"Classification report for classifier %s:\\n%s\\n\"\n",
    "      % (clf, metrics.classification_report(expected, predicted)))\n",
    "print(\"Confusion matrix:\\n%s\" % metrics.confusion_matrix(expected, predicted))"
   ]
  },
  {
   "cell_type": "code",
   "execution_count": 28,
   "metadata": {
    "collapsed": false
   },
   "outputs": [
    {
     "data": {
      "text/plain": [
       "0.21966604823747682"
      ]
     },
     "execution_count": 28,
     "metadata": {},
     "output_type": "execute_result"
    }
   ],
   "source": [
    "metrics.accuracy_score(expected,predicted)"
   ]
  },
  {
   "cell_type": "code",
   "execution_count": 29,
   "metadata": {
    "collapsed": false
   },
   "outputs": [
    {
     "data": {
      "text/plain": [
       "0.13753416152316739"
      ]
     },
     "execution_count": 29,
     "metadata": {},
     "output_type": "execute_result"
    }
   ],
   "source": [
    "metrics.f1_score(expected,predicted,average='weighted')"
   ]
  },
  {
   "cell_type": "markdown",
   "metadata": {},
   "source": [
    "* There is severe class imbalance. \n",
    "* Majority class favoured."
   ]
  },
  {
   "cell_type": "code",
   "execution_count": 22,
   "metadata": {
    "collapsed": false
   },
   "outputs": [],
   "source": [
    "data_x_train, data_x_test, data_y_train, data_y_test = cross_validation.train_test_split(data_x, data_y, test_size=0.1, random_state=0)\n",
    "clf = RandomForestClassifier(n_estimators=250,max_depth=25,class_weight='balanced')\n",
    "clf.fit(data_x_train,data_y_train)\n",
    "expected = data_y_test\n",
    "predicted = clf.predict(data_x_test)"
   ]
  },
  {
   "cell_type": "code",
   "execution_count": 23,
   "metadata": {
    "collapsed": false
   },
   "outputs": [
    {
     "name": "stdout",
     "output_type": "stream",
     "text": [
      "Classification report for classifier RandomForestClassifier(bootstrap=True, class_weight='balanced',\n",
      "            criterion='gini', max_depth=25, max_features='auto',\n",
      "            max_leaf_nodes=None, min_samples_leaf=1, min_samples_split=2,\n",
      "            min_weight_fraction_leaf=0.0, n_estimators=250, n_jobs=1,\n",
      "            oob_score=False, random_state=None, verbose=0,\n",
      "            warm_start=False):\n",
      "             precision    recall  f1-score   support\n",
      "\n",
      "AUTO VIOLATIONS       0.31      0.12      0.17      3764\n",
      "DRUG CHARGES       0.11      0.31      0.16      1275\n",
      "     INVPER       0.09      0.16      0.11      1311\n",
      "LARCENY FROM MOTOR VEHICLE       0.11      0.10      0.11      1287\n",
      "MEDICAL ASSISTANCE       0.14      0.16      0.15      1847\n",
      "      MVACC       0.12      0.14      0.13      1376\n",
      "OTHER ASSAULTS       0.16      0.09      0.11      1909\n",
      "OTHER LARCENY       0.25      0.36      0.30      2464\n",
      "   PROPERTY       0.18      0.06      0.09      2279\n",
      "  VANDALISM       0.09      0.09      0.09      1353\n",
      "\n",
      "avg / total       0.18      0.16      0.15     18865\n",
      "\n",
      "\n",
      "Confusion matrix:\n",
      "[[435 679 442 208 450 351 195 579 154 271]\n",
      " [ 58 389 168  67 155  86  37 184  48  83]\n",
      " [102 291 209  68 144 132  59 167  46  93]\n",
      " [ 78 221  99 129 144 104  53 309  59  91]\n",
      " [134 313 264  93 302 170  96 218  73 184]\n",
      " [111 276 182  83 142 190  78 195  28  91]\n",
      " [118 362 275 104 216 129 166 287  80 172]\n",
      " [108 347 198 193 208 157 141 888  99 125]\n",
      " [149 371 284 122 239 170 128 508 144 164]\n",
      " [107 247 233  73 145 122  86 165  49 126]]\n"
     ]
    }
   ],
   "source": [
    "print(\"Classification report for classifier %s:\\n%s\\n\"\n",
    "      % (clf, metrics.classification_report(expected, predicted)))\n",
    "print(\"Confusion matrix:\\n%s\" % metrics.confusion_matrix(expected, predicted))"
   ]
  },
  {
   "cell_type": "code",
   "execution_count": 24,
   "metadata": {
    "collapsed": false
   },
   "outputs": [
    {
     "data": {
      "text/plain": [
       "0.15785846806254969"
      ]
     },
     "execution_count": 24,
     "metadata": {},
     "output_type": "execute_result"
    }
   ],
   "source": [
    "metrics.accuracy_score(expected,predicted)"
   ]
  },
  {
   "cell_type": "code",
   "execution_count": 25,
   "metadata": {
    "collapsed": false
   },
   "outputs": [
    {
     "data": {
      "text/plain": [
       "0.15213573211333378"
      ]
     },
     "execution_count": 25,
     "metadata": {},
     "output_type": "execute_result"
    }
   ],
   "source": [
    "metrics.f1_score(expected,predicted, average='weighted')"
   ]
  },
  {
   "cell_type": "markdown",
   "metadata": {},
   "source": [
    "** Overall F1 score found to be higher when the classes are balanced. **"
   ]
  },
  {
   "cell_type": "code",
   "execution_count": 27,
   "metadata": {
    "collapsed": false
   },
   "outputs": [
    {
     "name": "stderr",
     "output_type": "stream",
     "text": [
      "/cise/homes/ashwin/anaconda2/lib/python2.7/site-packages/sklearn/metrics/classification.py:1074: UndefinedMetricWarning: F-score is ill-defined and being set to 0.0 in labels with no predicted samples.\n",
      "  'precision', 'predicted', average, warn_for)\n"
     ]
    }
   ],
   "source": [
    "rf_clf = make_pipeline(RandomForestClassifier(n_estimators=250, max_depth=25))\n",
    "rf_metric = perform_cv(rf_clf,data_x,data_y,'f1_weighted')"
   ]
  },
  {
   "cell_type": "code",
   "execution_count": 28,
   "metadata": {
    "collapsed": false
   },
   "outputs": [
    {
     "data": {
      "text/plain": [
       "[array([ 0.12577343,  0.12839257,  0.12833203,  0.12305591,  0.130846  ]),\n",
       " 0.12727998845657487]"
      ]
     },
     "execution_count": 28,
     "metadata": {},
     "output_type": "execute_result"
    }
   ],
   "source": [
    "rf_metric"
   ]
  },
  {
   "cell_type": "code",
   "execution_count": 37,
   "metadata": {
    "collapsed": true
   },
   "outputs": [],
   "source": [
    "from imblearn.over_sampling import RandomOverSampler\n",
    "ros = RandomOverSampler()\n",
    "data_x_resampled, data_y_resampled = ros.fit_sample(data_x, data_y)"
   ]
  },
  {
   "cell_type": "code",
   "execution_count": 38,
   "metadata": {
    "collapsed": true
   },
   "outputs": [],
   "source": [
    "rf_clf = make_pipeline(RandomForestClassifier(n_estimators=250, max_depth=25))\n",
    "rf_metric = perform_cv(rf_clf,data_x_resampled,data_y_resampled,'f1_weighted')"
   ]
  },
  {
   "cell_type": "code",
   "execution_count": 39,
   "metadata": {
    "collapsed": false
   },
   "outputs": [
    {
     "data": {
      "text/plain": [
       "[array([ 0.14424732,  0.13233199,  0.14768532,  0.14506299,  0.15043987]),\n",
       " 0.14395349761942172]"
      ]
     },
     "execution_count": 39,
     "metadata": {},
     "output_type": "execute_result"
    }
   ],
   "source": [
    "rf_metric"
   ]
  },
  {
   "cell_type": "markdown",
   "metadata": {
    "collapsed": true
   },
   "source": [
    "** When Random Oversampling is used, the f1 score is 14.39 compared to earlier scores of 0.12. **"
   ]
  },
  {
   "cell_type": "markdown",
   "metadata": {},
   "source": [
    "<a id='m2.2'></a>"
   ]
  },
  {
   "cell_type": "markdown",
   "metadata": {},
   "source": [
    "#### Feature Set 2: District, Month, Hours, Weekday/Weekend"
   ]
  },
  {
   "cell_type": "markdown",
   "metadata": {},
   "source": [
    " ** The weekday/weekend feature was added to check if it improves the model significantly or not. **"
   ]
  },
  {
   "cell_type": "code",
   "execution_count": 35,
   "metadata": {
    "collapsed": false
   },
   "outputs": [],
   "source": [
    "df_model2_set2 = bin_hours(df_boston)"
   ]
  },
  {
   "cell_type": "code",
   "execution_count": 36,
   "metadata": {
    "collapsed": true
   },
   "outputs": [],
   "source": [
    "def encode_features_set2(df):\n",
    "    df_district = pd.get_dummies(df['district'])\n",
    "    df_month = pd.get_dummies(df['month'])\n",
    "    df_hours = pd.get_dummies(df['hours'])\n",
    "    df_weekday_weekend = pd.DataFrame(df.weekday_weekend)\n",
    "    column_dfs = [df_district,df_month,df_hours,df_weekday_weekend]\n",
    "    df_concat = pd.concat(column_dfs,axis=1)\n",
    "    df_concat.columns = ['Brighton','Charlestown',\n",
    "     'Dorchester',\n",
    "     'Downtown',\n",
    "     'East Boston',\n",
    "     'Human Traffic Unit',\n",
    "     'Hyde Park',\n",
    "     'Jamaica Plain',\n",
    "     'Mattapan',\n",
    "     'Roxbury',\n",
    "     'South Boston',\n",
    "     'South End',\n",
    "     'West Roxbury',\n",
    "     'missing_district'] + ['month' + str(i) for i in range(1,13)] + ['hour' + str(i) for i in range(0,4)] + ['weekday/weekend']\n",
    "    \n",
    "    return df_concat"
   ]
  },
  {
   "cell_type": "code",
   "execution_count": 37,
   "metadata": {
    "collapsed": true
   },
   "outputs": [],
   "source": [
    "df_model2_set2 = df_model2_set2.loc[df_model2_set2['crime_category'].isin(list(df_boston.crime_category.value_counts()[:10].index))]"
   ]
  },
  {
   "cell_type": "code",
   "execution_count": 38,
   "metadata": {
    "collapsed": true
   },
   "outputs": [],
   "source": [
    "data_y = df_model2_set2.crime_category"
   ]
  },
  {
   "cell_type": "code",
   "execution_count": 39,
   "metadata": {
    "collapsed": false
   },
   "outputs": [],
   "source": [
    "df_model2_set2 = encode_features_set2(df_model2_set2)"
   ]
  },
  {
   "cell_type": "code",
   "execution_count": 40,
   "metadata": {
    "collapsed": true
   },
   "outputs": [],
   "source": [
    "data_x = df_model2_set2"
   ]
  },
  {
   "cell_type": "markdown",
   "metadata": {},
   "source": [
    "#### Naive Bayes"
   ]
  },
  {
   "cell_type": "code",
   "execution_count": 138,
   "metadata": {
    "collapsed": false
   },
   "outputs": [
    {
     "data": {
      "text/plain": [
       "[array([ 0.13028038,  0.12800466,  0.13267957,  0.12744526,  0.16171871]),\n",
       " 0.13602571704404545]"
      ]
     },
     "execution_count": 138,
     "metadata": {},
     "output_type": "execute_result"
    }
   ],
   "source": [
    "nb_clf = make_pipeline(preprocessing.StandardScaler(), GaussianNB())\n",
    "nb_kf_model2_set2_accuracy = perform_cv(nb_clf,data_x,data_y,'accuracy')\n",
    "nb_kf_model2_set2_accuracy"
   ]
  },
  {
   "cell_type": "code",
   "execution_count": 139,
   "metadata": {
    "collapsed": false
   },
   "outputs": [
    {
     "data": {
      "text/plain": [
       "[array([-8.89852909, -8.62067851, -8.67557591, -9.80573853, -5.49719724]),\n",
       " -8.2995438563379054]"
      ]
     },
     "execution_count": 139,
     "metadata": {},
     "output_type": "execute_result"
    }
   ],
   "source": [
    "nb_clf = make_pipeline(preprocessing.StandardScaler(), GaussianNB())\n",
    "nb_kf_model2_set2_logloss = perform_cv(nb_clf,data_x,data_y,'log_loss')\n",
    "nb_kf_model2_set2_logloss"
   ]
  },
  {
   "cell_type": "markdown",
   "metadata": {},
   "source": [
    "#### Logistic Regression"
   ]
  },
  {
   "cell_type": "code",
   "execution_count": 142,
   "metadata": {
    "collapsed": false
   },
   "outputs": [
    {
     "data": {
      "text/plain": [
       "[array([ 0.21784067,  0.20706013,  0.21470978,  0.20484546,  0.21809892]),\n",
       " 0.21251099514687546]"
      ]
     },
     "execution_count": 142,
     "metadata": {},
     "output_type": "execute_result"
    }
   ],
   "source": [
    "log_clf = make_pipeline(preprocessing.StandardScaler(),linear_model.LogisticRegression(multi_class='multinomial',solver='lbfgs'))\n",
    "log_kf_model2_set1_accuracy = perform_cv(log_clf,data_x,data_y,'accuracy')\n",
    "log_kf_model2_set1_accuracy"
   ]
  },
  {
   "cell_type": "code",
   "execution_count": 143,
   "metadata": {
    "collapsed": false
   },
   "outputs": [
    {
     "data": {
      "text/plain": [
       "[array([-2.19664151, -2.23263093, -2.22163957, -2.24550365, -2.25884372]),\n",
       " -2.2310518762545426]"
      ]
     },
     "execution_count": 143,
     "metadata": {},
     "output_type": "execute_result"
    }
   ],
   "source": [
    "log_clf = make_pipeline(preprocessing.StandardScaler(),linear_model.LogisticRegression(multi_class='multinomial',solver='lbfgs'))\n",
    "log_kf_model2_set1_logloss = perform_cv(log_clf,data_x,data_y,'log_loss')\n",
    "log_kf_model2_set1_logloss"
   ]
  },
  {
   "cell_type": "markdown",
   "metadata": {},
   "source": [
    "#### Decision Trees"
   ]
  },
  {
   "cell_type": "code",
   "execution_count": 140,
   "metadata": {
    "collapsed": false
   },
   "outputs": [
    {
     "data": {
      "text/plain": [
       "[array([ 0.21304394,  0.1973604 ,  0.20540684,  0.19262578,  0.20823835]),\n",
       " 0.20333506069198731]"
      ]
     },
     "execution_count": 140,
     "metadata": {},
     "output_type": "execute_result"
    }
   ],
   "source": [
    "tree_clf = make_pipeline(preprocessing.StandardScaler(),tree.DecisionTreeClassifier())\n",
    "tree_kf_model2_set2_accuracy = perform_cv(tree_clf,data_x,data_y,'accuracy')\n",
    "tree_kf_model2_set2_accuracy"
   ]
  },
  {
   "cell_type": "code",
   "execution_count": 141,
   "metadata": {
    "collapsed": false
   },
   "outputs": [
    {
     "data": {
      "text/plain": [
       "[array([-2.55140323, -2.59173581, -2.60874564, -2.56879631, -2.67876033]),\n",
       " -2.5998882641967986]"
      ]
     },
     "execution_count": 141,
     "metadata": {},
     "output_type": "execute_result"
    }
   ],
   "source": [
    "tree_clf = make_pipeline(preprocessing.StandardScaler(),tree.DecisionTreeClassifier())\n",
    "tree_kf_model2_set2_logloss = perform_cv(tree_clf,data_x,data_y,'log_loss')\n",
    "tree_kf_model2_set2_logloss"
   ]
  },
  {
   "cell_type": "markdown",
   "metadata": {},
   "source": [
    "#### Random Forests"
   ]
  },
  {
   "cell_type": "code",
   "execution_count": 144,
   "metadata": {
    "collapsed": false
   },
   "outputs": [
    {
     "data": {
      "text/plain": [
       "[array([ 0.20883023,  0.19622081,  0.20291545,  0.19236071,  0.20150559]),\n",
       " 0.20036655967040379]"
      ]
     },
     "execution_count": 144,
     "metadata": {},
     "output_type": "execute_result"
    }
   ],
   "source": [
    "rf_clf = make_pipeline(preprocessing.StandardScaler(),RandomForestClassifier(n_estimators=10))\n",
    "rf_kf_model2_set2_accuracy = perform_cv(rf_clf,data_x,data_y,'accuracy')\n",
    "rf_kf_model2_set2_accuracy"
   ]
  },
  {
   "cell_type": "code",
   "execution_count": 145,
   "metadata": {
    "collapsed": false
   },
   "outputs": [
    {
     "data": {
      "text/plain": [
       "[array([-2.55368367, -2.59701339, -2.61055505, -2.57362798, -2.63737222]),\n",
       " -2.5944504616811095]"
      ]
     },
     "execution_count": 145,
     "metadata": {},
     "output_type": "execute_result"
    }
   ],
   "source": [
    "rf_kf_model2_set2_accuracy = perform_cv(rf_clf,data_x,data_y,'log_loss')\n",
    "rf_kf_model2_set2_accuracy"
   ]
  },
  {
   "cell_type": "markdown",
   "metadata": {},
   "source": [
    "<a id='m2.2.1'></a>"
   ]
  },
  {
   "cell_type": "markdown",
   "metadata": {},
   "source": [
    "#### Results"
   ]
  },
  {
   "cell_type": "code",
   "execution_count": 39,
   "metadata": {
    "collapsed": false
   },
   "outputs": [
    {
     "data": {
      "text/html": [
       "<div>\n",
       "<table border=\"1\" class=\"dataframe\">\n",
       "  <thead>\n",
       "    <tr style=\"text-align: right;\">\n",
       "      <th></th>\n",
       "      <th>acc</th>\n",
       "      <th>log_loss</th>\n",
       "    </tr>\n",
       "    <tr>\n",
       "      <th>algos</th>\n",
       "      <th></th>\n",
       "      <th></th>\n",
       "    </tr>\n",
       "  </thead>\n",
       "  <tbody>\n",
       "    <tr>\n",
       "      <th>Naive Bayes</th>\n",
       "      <td>0.136026</td>\n",
       "      <td>-8.299544</td>\n",
       "    </tr>\n",
       "    <tr>\n",
       "      <th>Logistic Regression</th>\n",
       "      <td>0.212511</td>\n",
       "      <td>-2.231052</td>\n",
       "    </tr>\n",
       "    <tr>\n",
       "      <th>Decision Trees</th>\n",
       "      <td>0.203335</td>\n",
       "      <td>-2.599888</td>\n",
       "    </tr>\n",
       "    <tr>\n",
       "      <th>Random Forests</th>\n",
       "      <td>0.200367</td>\n",
       "      <td>-2.594450</td>\n",
       "    </tr>\n",
       "  </tbody>\n",
       "</table>\n",
       "</div>"
      ],
      "text/plain": [
       "                          acc  log_loss\n",
       "algos                                  \n",
       "Naive Bayes          0.136026 -8.299544\n",
       "Logistic Regression  0.212511 -2.231052\n",
       "Decision Trees       0.203335 -2.599888\n",
       "Random Forests       0.200367 -2.594450"
      ]
     },
     "execution_count": 39,
     "metadata": {},
     "output_type": "execute_result"
    }
   ],
   "source": [
    "df1"
   ]
  },
  {
   "cell_type": "markdown",
   "metadata": {},
   "source": [
    "* The addition of weekday/weekend feature seems to have little improvement over the performance of the Naive Bayes classifier.\n",
    "* The rest of the algorithms seem to have either the same effect or thier performance has decreased."
   ]
  },
  {
   "cell_type": "code",
   "execution_count": 41,
   "metadata": {
    "collapsed": true
   },
   "outputs": [],
   "source": [
    "rf_clf = make_pipeline(RandomForestClassifier(n_estimators=250, max_depth=25))\n",
    "rf_metric = perform_cv(rf_clf,data_x,data_y,'f1_weighted')"
   ]
  },
  {
   "cell_type": "code",
   "execution_count": 42,
   "metadata": {
    "collapsed": false
   },
   "outputs": [
    {
     "data": {
      "text/plain": [
       "[array([ 0.13238057,  0.13121702,  0.13404057,  0.12477081,  0.13792949]),\n",
       " 0.13206769133830684]"
      ]
     },
     "execution_count": 42,
     "metadata": {},
     "output_type": "execute_result"
    }
   ],
   "source": [
    "rf_metric"
   ]
  },
  {
   "cell_type": "code",
   "execution_count": 43,
   "metadata": {
    "collapsed": true
   },
   "outputs": [],
   "source": [
    "from imblearn.over_sampling import RandomOverSampler\n",
    "ros = RandomOverSampler()\n",
    "data_x_resampled, data_y_resampled = ros.fit_sample(data_x, data_y)"
   ]
  },
  {
   "cell_type": "code",
   "execution_count": 44,
   "metadata": {
    "collapsed": true
   },
   "outputs": [],
   "source": [
    "rf_clf = make_pipeline(RandomForestClassifier(n_estimators=250, max_depth=25))\n",
    "rf_metric = perform_cv(rf_clf,data_x_resampled,data_y_resampled,'f1_weighted')"
   ]
  },
  {
   "cell_type": "code",
   "execution_count": 45,
   "metadata": {
    "collapsed": false
   },
   "outputs": [
    {
     "data": {
      "text/plain": [
       "[array([ 0.15022515,  0.13832258,  0.15416032,  0.15525703,  0.16270678]),\n",
       " 0.15213437142591885]"
      ]
     },
     "execution_count": 45,
     "metadata": {},
     "output_type": "execute_result"
    }
   ],
   "source": [
    "rf_metric"
   ]
  },
  {
   "cell_type": "markdown",
   "metadata": {
    "collapsed": true
   },
   "source": [
    "<a id='m2.3'></a>"
   ]
  },
  {
   "cell_type": "markdown",
   "metadata": {},
   "source": [
    "#### Feature 3 - Add streetname"
   ]
  },
  {
   "cell_type": "markdown",
   "metadata": {},
   "source": [
    "* One of the other important features which seem to have the crime distribution varying was the different street names.\n",
    "* This feature was added to the feature set to assess its performance."
   ]
  },
  {
   "cell_type": "code",
   "execution_count": 50,
   "metadata": {
    "collapsed": true
   },
   "outputs": [],
   "source": [
    "top_streets = list(df_boston.streetname.value_counts()[:9].index)"
   ]
  },
  {
   "cell_type": "code",
   "execution_count": 51,
   "metadata": {
    "collapsed": false
   },
   "outputs": [],
   "source": [
    "def recode_streetname(df):\n",
    "    list_street = list()\n",
    "    for street in df.streetname:\n",
    "        if street not in top_streets:\n",
    "            list_street.append('other')\n",
    "        else:\n",
    "            list_street.append(street)\n",
    "    df.streetname = list_street\n",
    "    return df"
   ]
  },
  {
   "cell_type": "code",
   "execution_count": 52,
   "metadata": {
    "collapsed": true
   },
   "outputs": [],
   "source": [
    "df_model2_set3 = bin_hours(df_boston)"
   ]
  },
  {
   "cell_type": "code",
   "execution_count": 53,
   "metadata": {
    "collapsed": true
   },
   "outputs": [],
   "source": [
    "df_model2_set3 = recode_streetname(df_model2_set3)"
   ]
  },
  {
   "cell_type": "code",
   "execution_count": 54,
   "metadata": {
    "collapsed": false
   },
   "outputs": [
    {
     "data": {
      "text/plain": [
       "array(['other', 'WASHINGTON ST', 'MASSACHUSETTS AV', 'BLUE HILL AV',\n",
       "       'COMMONWEALTH AV', 'CENTRE ST', 'DORCHESTER AV', 'TREMONT ST',\n",
       "       'BOYLSTON ST', 'HARRISON AV'], dtype=object)"
      ]
     },
     "execution_count": 54,
     "metadata": {},
     "output_type": "execute_result"
    }
   ],
   "source": [
    "df_model2_set3.streetname.unique()"
   ]
  },
  {
   "cell_type": "code",
   "execution_count": 55,
   "metadata": {
    "collapsed": true
   },
   "outputs": [],
   "source": [
    "def encode_features_set3(df):\n",
    "    df_district = pd.get_dummies(df['district'])\n",
    "    df_month = pd.get_dummies(df['month'])\n",
    "    df_hours = pd.get_dummies(df['hours'])\n",
    "    df_streetname = pd.get_dummies(df['streetname'])\n",
    "    column_dfs = [df_district,df_month,df_hours,df_streetname]\n",
    "    df_concat = pd.concat(column_dfs,axis=1)\n",
    "    df_concat.columns = ['Brighton','Charlestown',\n",
    "     'Dorchester',\n",
    "     'Downtown',\n",
    "     'East Boston',\n",
    "     'Human Traffic Unit',\n",
    "     'Hyde Park',\n",
    "     'Jamaica Plain',\n",
    "     'Mattapan',\n",
    "     'Roxbury',\n",
    "     'South Boston',\n",
    "     'South End',\n",
    "     'West Roxbury',\n",
    "     'missing_district'] + ['month' + str(i) for i in range(1,13)]  + ['hour' + str(i) for i in range(0,4)] + ['street' + str(i) for i in range(0,10)]\n",
    "    \n",
    "    return df_concat"
   ]
  },
  {
   "cell_type": "code",
   "execution_count": 56,
   "metadata": {
    "collapsed": true
   },
   "outputs": [],
   "source": [
    "df_model2_set3 = df_model2_set3.loc[df_model2_set3['crime_category'].isin(list(df_boston.crime_category.value_counts()[:10].index))]"
   ]
  },
  {
   "cell_type": "code",
   "execution_count": 57,
   "metadata": {
    "collapsed": true
   },
   "outputs": [],
   "source": [
    "data_y = df_model2_set3.crime_category"
   ]
  },
  {
   "cell_type": "code",
   "execution_count": 58,
   "metadata": {
    "collapsed": false
   },
   "outputs": [],
   "source": [
    "df_model2_set3 = encode_features_set3(df_model2_set3)"
   ]
  },
  {
   "cell_type": "code",
   "execution_count": 98,
   "metadata": {
    "collapsed": true
   },
   "outputs": [],
   "source": [
    "data_x = df_model2_set3"
   ]
  },
  {
   "cell_type": "markdown",
   "metadata": {},
   "source": [
    "#### Naive Bayes"
   ]
  },
  {
   "cell_type": "code",
   "execution_count": 101,
   "metadata": {
    "collapsed": false
   },
   "outputs": [
    {
     "data": {
      "text/plain": [
       "[array([ 0.13531563,  0.13147643,  0.13578055,  0.12619944,  0.15374013]),\n",
       " 0.13650243342939641]"
      ]
     },
     "execution_count": 101,
     "metadata": {},
     "output_type": "execute_result"
    }
   ],
   "source": [
    "nb_clf = make_pipeline(preprocessing.StandardScaler(), GaussianNB())\n",
    "nb_kf_model2_set3_accuracy = perform_cv(nb_clf,data_x,data_y,'accuracy')\n",
    "nb_kf_model2_set3_accuracy"
   ]
  },
  {
   "cell_type": "code",
   "execution_count": 102,
   "metadata": {
    "collapsed": false
   },
   "outputs": [
    {
     "data": {
      "text/plain": [
       "[array([-8.37463345, -8.34523895, -8.36222727, -9.80426983, -6.83377484]),\n",
       " -8.3440288682091648]"
      ]
     },
     "execution_count": 102,
     "metadata": {},
     "output_type": "execute_result"
    }
   ],
   "source": [
    "nb_clf = make_pipeline(preprocessing.StandardScaler(), GaussianNB())\n",
    "nb_kf_model2_set2_logloss = perform_cv(nb_clf,data_x,data_y,'log_loss')\n",
    "nb_kf_model2_set2_logloss"
   ]
  },
  {
   "cell_type": "markdown",
   "metadata": {},
   "source": [
    "#### Logistic Regression"
   ]
  },
  {
   "cell_type": "code",
   "execution_count": 113,
   "metadata": {
    "collapsed": false
   },
   "outputs": [
    {
     "data": {
      "text/plain": [
       "[array([ 0.22698362,  0.21381814,  0.21910946,  0.20434183,  0.21049144]),\n",
       " 0.2149488997835533]"
      ]
     },
     "execution_count": 113,
     "metadata": {},
     "output_type": "execute_result"
    }
   ],
   "source": [
    "log_clf = make_pipeline(preprocessing.StandardScaler(),linear_model.LogisticRegression(multi_class='multinomial',solver='lbfgs',\n",
    "                                                                                      C=0.01))\n",
    "log_kf_model2_set1_accuracy = perform_cv(log_clf,data_x,data_y,'accuracy')\n",
    "log_kf_model2_set1_accuracy"
   ]
  },
  {
   "cell_type": "code",
   "execution_count": 114,
   "metadata": {
    "collapsed": false
   },
   "outputs": [
    {
     "data": {
      "text/plain": [
       "[array([-2.18034157, -2.21397699, -2.20425417, -2.23154264, -2.22744962]),\n",
       " -2.2115129975593506]"
      ]
     },
     "execution_count": 114,
     "metadata": {},
     "output_type": "execute_result"
    }
   ],
   "source": [
    "log_clf = make_pipeline(preprocessing.StandardScaler(),linear_model.LogisticRegression(multi_class='multinomial',solver='lbfgs',C=0.01))\n",
    "log_kf_model2_set1_logloss = perform_cv(log_clf,data_x,data_y,'log_loss')\n",
    "log_kf_model2_set1_logloss"
   ]
  },
  {
   "cell_type": "markdown",
   "metadata": {},
   "source": [
    "#### Decision Trees"
   ]
  },
  {
   "cell_type": "code",
   "execution_count": 106,
   "metadata": {
    "collapsed": false
   },
   "outputs": [
    {
     "data": {
      "text/plain": [
       "[array([ 0.22197488,  0.20634458,  0.20784522,  0.20397074,  0.19996819]),\n",
       " 0.20802071997067645]"
      ]
     },
     "execution_count": 106,
     "metadata": {},
     "output_type": "execute_result"
    }
   ],
   "source": [
    "tree_clf = make_pipeline(preprocessing.StandardScaler(),tree.DecisionTreeClassifier())\n",
    "tree_kf_model2_set2_accuracy = perform_cv(tree_clf,data_x,data_y,'accuracy')\n",
    "tree_kf_model2_set2_accuracy"
   ]
  },
  {
   "cell_type": "code",
   "execution_count": 107,
   "metadata": {
    "collapsed": false
   },
   "outputs": [
    {
     "data": {
      "text/plain": [
       "[array([-3.08381026, -3.08200062, -3.1006632 , -3.1554863 , -3.19063663]),\n",
       " -3.1225194021165485]"
      ]
     },
     "execution_count": 107,
     "metadata": {},
     "output_type": "execute_result"
    }
   ],
   "source": [
    "tree_clf = make_pipeline(preprocessing.StandardScaler(),tree.DecisionTreeClassifier())\n",
    "tree_kf_model2_set2_logloss = perform_cv(tree_clf,data_x,data_y,'log_loss')\n",
    "tree_kf_model2_set2_logloss"
   ]
  },
  {
   "cell_type": "markdown",
   "metadata": {},
   "source": [
    "#### Random Forests"
   ]
  },
  {
   "cell_type": "code",
   "execution_count": 119,
   "metadata": {
    "collapsed": false
   },
   "outputs": [
    {
     "data": {
      "text/plain": [
       "[array([ 0.21911274,  0.20451594,  0.20596342,  0.20078991,  0.19715846]),\n",
       " 0.2055080932663087]"
      ]
     },
     "execution_count": 119,
     "metadata": {},
     "output_type": "execute_result"
    }
   ],
   "source": [
    "rf_clf = make_pipeline(RandomForestClassifier(n_estimators=150))\n",
    "rf_kf_model2_set2_accuracy = perform_cv(rf_clf,data_x,data_y,'accuracy')\n",
    "rf_kf_model2_set2_accuracy"
   ]
  },
  {
   "cell_type": "code",
   "execution_count": 142,
   "metadata": {
    "collapsed": false
   },
   "outputs": [
    {
     "data": {
      "text/plain": [
       "[array([-2.21154344, -2.24972586, -2.23364411, -2.25875862, -2.23279917]),\n",
       " -2.237294239461471]"
      ]
     },
     "execution_count": 142,
     "metadata": {},
     "output_type": "execute_result"
    }
   ],
   "source": [
    "rf_clf = make_pipeline(RandomForestClassifier(n_estimators=150,max_depth=20))\n",
    "rf_kf_model2_set2_logloss = perform_cv(rf_clf,data_x,data_y,'log_loss')\n",
    "rf_kf_model2_set2_logloss"
   ]
  },
  {
   "cell_type": "markdown",
   "metadata": {},
   "source": [
    "<a id='m2.3.1'></a>"
   ]
  },
  {
   "cell_type": "markdown",
   "metadata": {},
   "source": [
    "#### Results:"
   ]
  },
  {
   "cell_type": "code",
   "execution_count": 42,
   "metadata": {
    "collapsed": false
   },
   "outputs": [
    {
     "data": {
      "text/html": [
       "<div>\n",
       "<table border=\"1\" class=\"dataframe\">\n",
       "  <thead>\n",
       "    <tr style=\"text-align: right;\">\n",
       "      <th></th>\n",
       "      <th>acc</th>\n",
       "      <th>log_loss</th>\n",
       "    </tr>\n",
       "    <tr>\n",
       "      <th>algos</th>\n",
       "      <th></th>\n",
       "      <th></th>\n",
       "    </tr>\n",
       "  </thead>\n",
       "  <tbody>\n",
       "    <tr>\n",
       "      <th>Naive Bayes</th>\n",
       "      <td>0.136502</td>\n",
       "      <td>-8.344029</td>\n",
       "    </tr>\n",
       "    <tr>\n",
       "      <th>Logistic Regression</th>\n",
       "      <td>0.214949</td>\n",
       "      <td>-2.211513</td>\n",
       "    </tr>\n",
       "    <tr>\n",
       "      <th>Decision Trees</th>\n",
       "      <td>0.208021</td>\n",
       "      <td>-3.122519</td>\n",
       "    </tr>\n",
       "    <tr>\n",
       "      <th>Random Forests</th>\n",
       "      <td>0.205508</td>\n",
       "      <td>-2.237294</td>\n",
       "    </tr>\n",
       "  </tbody>\n",
       "</table>\n",
       "</div>"
      ],
      "text/plain": [
       "                          acc  log_loss\n",
       "algos                                  \n",
       "Naive Bayes          0.136502 -8.344029\n",
       "Logistic Regression  0.214949 -2.211513\n",
       "Decision Trees       0.208021 -3.122519\n",
       "Random Forests       0.205508 -2.237294"
      ]
     },
     "execution_count": 42,
     "metadata": {},
     "output_type": "execute_result"
    }
   ],
   "source": [
    "df2"
   ]
  },
  {
   "cell_type": "code",
   "execution_count": 59,
   "metadata": {
    "collapsed": true
   },
   "outputs": [],
   "source": [
    "rf_clf = make_pipeline(RandomForestClassifier(n_estimators=250, max_depth=25))\n",
    "rf_metric = perform_cv(rf_clf,data_x,data_y,'f1_weighted')"
   ]
  },
  {
   "cell_type": "code",
   "execution_count": 60,
   "metadata": {
    "collapsed": false
   },
   "outputs": [
    {
     "data": {
      "text/plain": [
       "[array([ 0.13238849,  0.13135357,  0.13379536,  0.12576837,  0.13564412]),\n",
       " 0.13178998078736587]"
      ]
     },
     "execution_count": 60,
     "metadata": {},
     "output_type": "execute_result"
    }
   ],
   "source": [
    "rf_metric"
   ]
  },
  {
   "cell_type": "code",
   "execution_count": 61,
   "metadata": {
    "collapsed": true
   },
   "outputs": [],
   "source": [
    "from imblearn.over_sampling import RandomOverSampler\n",
    "ros = RandomOverSampler()\n",
    "data_x_resampled, data_y_resampled = ros.fit_sample(data_x, data_y)"
   ]
  },
  {
   "cell_type": "code",
   "execution_count": 63,
   "metadata": {
    "collapsed": true
   },
   "outputs": [],
   "source": [
    "rf_clf = make_pipeline(RandomForestClassifier(n_estimators=250, max_depth=25))\n",
    "rf_metric = perform_cv(rf_clf,data_x_resampled,data_y_resampled,'f1_weighted')"
   ]
  },
  {
   "cell_type": "code",
   "execution_count": 64,
   "metadata": {
    "collapsed": false
   },
   "outputs": [
    {
     "data": {
      "text/plain": [
       "[array([ 0.15252381,  0.13945765,  0.15484835,  0.15829368,  0.1606082 ]),\n",
       " 0.1531463386132203]"
      ]
     },
     "execution_count": 64,
     "metadata": {},
     "output_type": "execute_result"
    }
   ],
   "source": [
    "rf_metric"
   ]
  },
  {
   "cell_type": "markdown",
   "metadata": {},
   "source": [
    "* The Logistic Regression and the Random Forest model seem to dp better with this feature set also.\n",
    "* The Decision Tree generally tends to overfit as the model becomes complex, which could be a reason behind the increase in\n",
    "log loss from the earlier results."
   ]
  },
  {
   "cell_type": "markdown",
   "metadata": {},
   "source": [
    "* Other features like Weapon Count, Year and Latitudes/Longitudes were not used as they either had too many missing values or \n",
    "they failed to add any significant improvement over the model.\n",
    "* The feature set of (District Name, Streetname, Hour, Month) looks to be the best possible feature set for this model."
   ]
  },
  {
   "cell_type": "markdown",
   "metadata": {},
   "source": [
    "<a id='m2.4'></a>"
   ]
  },
  {
   "cell_type": "markdown",
   "metadata": {},
   "source": [
    "#### Conclusions:"
   ]
  },
  {
   "cell_type": "markdown",
   "metadata": {},
   "source": [
    "* The NB classifier delivers poor results due to the highly skewed nature of the multi class distribution as well as\n",
    "the dependence of features.\n",
    "* The Decision Trees tends to do well on such categorical features, although it overfits when the complexity of the \n",
    "model increases.\n",
    "* The Random Forests, being an ensemble learning algorithm, suits itself well to the categorical nature of the dataset and\n",
    "is able to scale up well with the model complexity.\n",
    "* The Logistic Regression also has a high performance due to the multinomial version used and it's natural tendency to\n",
    "output probablities which goes well with the log-loss.\n",
    "5. Oversampling improves the f1 score of the models built."
   ]
  },
  {
   "cell_type": "markdown",
   "metadata": {},
   "source": [
    "<a id='m2.5'></a>"
   ]
  },
  {
   "cell_type": "markdown",
   "metadata": {},
   "source": [
    "#### Possible Improvements:"
   ]
  },
  {
   "cell_type": "markdown",
   "metadata": {},
   "source": [
    "1. The Random Forest model and Logistic Regressions can be optimized further by grid search and finding the hyperparameters.\n",
    "2. Other ensmble methods like Boosting algorithms can be used which could increase the performance of the classification.\n",
    "3. Neural networks can also be used. But these 2 algorithms can get computationaly expensive at the expense of performance.\n",
    "4. The class labels can be collapsed in various other means to explore thhe behaviours of such models."
   ]
  },
  {
   "cell_type": "code",
   "execution_count": null,
   "metadata": {
    "collapsed": true
   },
   "outputs": [],
   "source": []
  }
 ],
 "metadata": {
  "kernelspec": {
   "display_name": "Python [Root]",
   "language": "python",
   "name": "Python [Root]"
  },
  "language_info": {
   "codemirror_mode": {
    "name": "ipython",
    "version": 2
   },
   "file_extension": ".py",
   "mimetype": "text/x-python",
   "name": "python",
   "nbconvert_exporter": "python",
   "pygments_lexer": "ipython2",
   "version": "2.7.12"
  }
 },
 "nbformat": 4,
 "nbformat_minor": 0
}
