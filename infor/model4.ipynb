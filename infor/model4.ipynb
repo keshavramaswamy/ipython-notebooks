{
 "cells": [
  {
   "cell_type": "markdown",
   "metadata": {},
   "source": [
    "## Contents:\n",
    "\n",
    "* [Introduction](#intro)\n",
    "\n",
    "* [Model 4: Predict crimes as Violent/Property/Part 2 crimes](#model4)\n",
    "\n",
    "   * [Feature Set 1: Hour, District, Month](#model4.1)\n",
    "            \n",
    "        * [Measure of individual class precision, recall](#model4.2)\n",
    "        \n",
    "            * [Over sampling/ Class Balancing methods](#model4.3)\n",
    "                \n",
    "                * [Class balancing method](#model4.4)\n",
    "                \n",
    "                    * [Measure of individual class precision-recall](#model4.5)\n",
    "        \n",
    "                * [Oversampling](#model4.6)\n",
    "        \n",
    "                    * [Measure of individual class precision-recall](#model4.7)\n",
    "        \n",
    "            * [Inferences](#model4.8)\n",
    "        \n",
    "   * [Feature Set 2: District, Hour, Month, Streetname](#model4.9)\n",
    "        \n",
    "        * [Measure of individual class precision, recall](#model4.10)\n",
    "        \n",
    "        * [Over sampling/ Class Balancing methods](#model4.11)\n",
    "        \n",
    "             * [Class balancing method](#model4.12)\n",
    "        \n",
    "             * [Oversampling](#model4.13)\n",
    "        \n",
    "                  * [Measure of individual class precision-recall](#model4.14)\n",
    "            \n",
    "   * [Grid Search](#model4.15)\n",
    "        \n",
    "   * [Possible Improvements](#model4.16)"
   ]
  },
  {
   "cell_type": "markdown",
   "metadata": {},
   "source": [
    "<a id='intro'></a>"
   ]
  },
  {
   "cell_type": "code",
   "execution_count": 6,
   "metadata": {
    "collapsed": true
   },
   "outputs": [],
   "source": [
    "%matplotlib inline\n",
    "from bs4 import BeautifulSoup\n",
    "import requests\n",
    "import pandas as pd\n",
    "import matplotlib\n",
    "import math\n",
    "import numpy as np\n",
    "import matplotlib.pyplot as plt\n",
    "matplotlib.style.use('ggplot')\n",
    "import seaborn as sns\n",
    "sns.set(style=\"whitegrid\", color_codes=True)"
   ]
  },
  {
   "cell_type": "code",
   "execution_count": null,
   "metadata": {
    "collapsed": true
   },
   "outputs": [],
   "source": [
    "from sklearn import preprocessing\n",
    "from sklearn.pipeline import make_pipeline\n",
    "from sklearn.naive_bayes import GaussianNB, MultinomialNB\n",
    "from sklearn import cross_validation, metrics\n",
    "from sklearn import neighbors\n",
    "from sklearn import linear_model\n",
    "from sklearn import svm\n",
    "from sklearn.tree import DecisionTreeClassifier\n",
    "from sklearn import tree\n",
    "from sklearn.ensemble import RandomForestClassifier"
   ]
  },
  {
   "cell_type": "code",
   "execution_count": 5,
   "metadata": {
    "collapsed": false
   },
   "outputs": [],
   "source": [
    "df_boston = pd.read_pickle('df_boston.pkl')"
   ]
  },
  {
   "cell_type": "markdown",
   "metadata": {},
   "source": [
    "<a id='model4'></a>"
   ]
  },
  {
   "cell_type": "markdown",
   "metadata": {},
   "source": [
    "###  Model 4: Predict crimes as Violent/Property/Part 2 crimes"
   ]
  },
  {
   "cell_type": "markdown",
   "metadata": {},
   "source": [
    "* The crimes were collapsed into 3 categories and a model was built to evaluate it."
   ]
  },
  {
   "cell_type": "markdown",
   "metadata": {},
   "source": [
    "1. Violent Crimes\n",
    "2. Property crimes\n",
    "3. Part 2 crimes"
   ]
  },
  {
   "cell_type": "code",
   "execution_count": 6,
   "metadata": {
    "collapsed": true
   },
   "outputs": [],
   "source": [
    "violent_crimes =['HOMICIDE', 'SEX OFFENCES', 'ROBBERY', 'AGGRAVATED ASSAULT']\n",
    "property_crimes = ['BURGLARY', 'LARCENY', 'OTHER LARCENY', 'LARCENY FROM MOTOR VEHICLE','PROPERTY','ARSON','FIRE RELATED REPORTS'] "
   ]
  },
  {
   "cell_type": "code",
   "execution_count": 7,
   "metadata": {
    "collapsed": true
   },
   "outputs": [],
   "source": [
    "df_model4 = df_boston"
   ]
  },
  {
   "cell_type": "code",
   "execution_count": 8,
   "metadata": {
    "collapsed": false
   },
   "outputs": [],
   "source": [
    "list_crimes = list()\n",
    "for crime in df_model4.crime_category:\n",
    "    if crime in violent_crimes:\n",
    "        list_crimes.append(0)\n",
    "    elif crime in property_crimes:\n",
    "        list_crimes.append(1)\n",
    "    else:\n",
    "        list_crimes.append(2)\n",
    "df_model4.crime_category = list_crimes"
   ]
  },
  {
   "cell_type": "code",
   "execution_count": 9,
   "metadata": {
    "collapsed": false
   },
   "outputs": [
    {
     "data": {
      "text/plain": [
       "2    0.682022\n",
       "1    0.272611\n",
       "0    0.045367\n",
       "Name: crime_category, dtype: float64"
      ]
     },
     "execution_count": 9,
     "metadata": {},
     "output_type": "execute_result"
    }
   ],
   "source": [
    "df_model4.crime_category.value_counts(normalize=True)"
   ]
  },
  {
   "cell_type": "markdown",
   "metadata": {},
   "source": [
    "only 4% of the crimes are classified as violent crimes. 27% of them are property related. Rest are part 2 crimes."
   ]
  },
  {
   "cell_type": "code",
   "execution_count": 13,
   "metadata": {
    "collapsed": false
   },
   "outputs": [
    {
     "data": {
      "text/plain": [
       "<matplotlib.axes._subplots.AxesSubplot at 0x7f8756d68110>"
      ]
     },
     "execution_count": 13,
     "metadata": {},
     "output_type": "execute_result"
    },
    {
     "data": {
      "image/png": "[encoded data removed]",
      "text/plain": [
       "<matplotlib.figure.Figure at 0x7f8758657110>"
      ]
     },
     "metadata": {},
     "output_type": "display_data"
    }
   ],
   "source": [
    "tmp=pd.DataFrame(df_model4.groupby(['hours','crime_category']).size(), columns=['count'])\n",
    "tmp.reset_index(inplace=True)\n",
    "tmp=tmp.pivot(index='hours',columns='crime_category',values='count')\n",
    "fig, axes = plt.subplots(1,1,figsize=(15,15))\n",
    "tmp.plot(ax=axes,kind='bar', stacked=True)"
   ]
  },
  {
   "cell_type": "code",
   "execution_count": 15,
   "metadata": {
    "collapsed": false
   },
   "outputs": [
    {
     "data": {
      "text/plain": [
       "<matplotlib.axes._subplots.AxesSubplot at 0x7f87583b1b10>"
      ]
     },
     "execution_count": 15,
     "metadata": {},
     "output_type": "execute_result"
    },
    {
     "data": {
      "image/png": "[encoded data removed]",
      "text/plain": [
       "<matplotlib.figure.Figure at 0x7f87586571d0>"
      ]
     },
     "metadata": {},
     "output_type": "display_data"
    }
   ],
   "source": [
    "tmp=pd.DataFrame(df_model4.groupby(['day_week','crime_category']).size(), columns=['count'])\n",
    "tmp.reset_index(inplace=True)\n",
    "tmp=tmp.pivot(index='day_week',columns='crime_category',values='count')\n",
    "fig, axes = plt.subplots(1,1,figsize=(15,15))\n",
    "tmp.plot(ax=axes,kind='bar', stacked=True)"
   ]
  },
  {
   "cell_type": "code",
   "execution_count": 17,
   "metadata": {
    "collapsed": false
   },
   "outputs": [
    {
     "data": {
      "text/plain": [
       "<matplotlib.axes._subplots.AxesSubplot at 0x7f8758437fd0>"
      ]
     },
     "execution_count": 17,
     "metadata": {},
     "output_type": "execute_result"
    },
    {
     "data": {
      "image/png": "[encoded data removed]",
      "text/plain": [
       "<matplotlib.figure.Figure at 0x7f87566d0310>"
      ]
     },
     "metadata": {},
     "output_type": "display_data"
    }
   ],
   "source": [
    "tmp=pd.DataFrame(df_model4.groupby(['month','crime_category']).size(), columns=['count'])\n",
    "tmp.reset_index(inplace=True)\n",
    "tmp=tmp.pivot(index='month',columns='crime_category',values='count')\n",
    "fig, axes = plt.subplots(1,1,figsize=(15,15))\n",
    "tmp.plot(ax=axes,kind='bar', stacked=True)"
   ]
  },
  {
   "cell_type": "code",
   "execution_count": 18,
   "metadata": {
    "collapsed": false
   },
   "outputs": [
    {
     "data": {
      "text/plain": [
       "<matplotlib.axes._subplots.AxesSubplot at 0x7f875808a550>"
      ]
     },
     "execution_count": 18,
     "metadata": {},
     "output_type": "execute_result"
    },
    {
     "data": {
      "image/png": "[encoded data removed]",
      "text/plain": [
       "<matplotlib.figure.Figure at 0x7f8757da34d0>"
      ]
     },
     "metadata": {},
     "output_type": "display_data"
    }
   ],
   "source": [
    "tmp=pd.DataFrame(df_model4.groupby(['district','crime_category']).size(), columns=['count'])\n",
    "tmp.reset_index(inplace=True)\n",
    "tmp=tmp.pivot(index='district',columns='crime_category',values='count')\n",
    "fig, axes = plt.subplots(1,1,figsize=(15,15))\n",
    "tmp.plot(ax=axes,kind='bar', stacked=True)"
   ]
  },
  {
   "cell_type": "code",
   "execution_count": 19,
   "metadata": {
    "collapsed": false
   },
   "outputs": [
    {
     "data": {
      "text/plain": [
       "<matplotlib.axes._subplots.AxesSubplot at 0x7f8757bf7b90>"
      ]
     },
     "execution_count": 19,
     "metadata": {},
     "output_type": "execute_result"
    },
    {
     "data": {
      "image/png": "[encoded data removed]",
      "text/plain": [
       "<matplotlib.figure.Figure at 0x7f87585ca950>"
      ]
     },
     "metadata": {},
     "output_type": "display_data"
    }
   ],
   "source": [
    "tmp=pd.DataFrame(df_model4.groupby(['weekday_weekend','crime_category']).size(), columns=['count'])\n",
    "tmp.reset_index(inplace=True)\n",
    "tmp=tmp.pivot(index='weekday_weekend',columns='crime_category',values='count')\n",
    "fig, axes = plt.subplots(1,1,figsize=(15,15))\n",
    "tmp.plot(ax=axes,kind='bar', stacked=True)"
   ]
  },
  {
   "cell_type": "code",
   "execution_count": 23,
   "metadata": {
    "collapsed": false
   },
   "outputs": [
    {
     "data": {
      "text/plain": [
       "<matplotlib.axes._subplots.AxesSubplot at 0x7f8757d14c90>"
      ]
     },
     "execution_count": 23,
     "metadata": {},
     "output_type": "execute_result"
    },
    {
     "data": {
      "image/png": "[encoded data removed]",
      "text/plain": [
       "<matplotlib.figure.Figure at 0x7f8757f1ecd0>"
      ]
     },
     "metadata": {},
     "output_type": "display_data"
    }
   ],
   "source": [
    "top_streets = list(df_boston.streetname.value_counts()[:9].index)\n",
    "df_model4 = df_model4[df_model4['streetname'].isin(top_streets)]\n",
    "tmp=pd.DataFrame(df_model4.groupby(['streetname','crime_category']).size(), columns=['count'])\n",
    "tmp.reset_index(inplace=True)\n",
    "tmp=tmp.pivot(index='streetname',columns='crime_category',values='count')\n",
    "fig, axes = plt.subplots(1,1,figsize=(15,15))\n",
    "tmp.plot(ax=axes,kind='bar', stacked=True)"
   ]
  },
  {
   "cell_type": "markdown",
   "metadata": {},
   "source": [
    "<a id='model4.1'></a>"
   ]
  },
  {
   "cell_type": "markdown",
   "metadata": {},
   "source": [
    "#### Feature Set 1: District, Hour, Month"
   ]
  },
  {
   "cell_type": "code",
   "execution_count": 10,
   "metadata": {
    "collapsed": true
   },
   "outputs": [],
   "source": [
    "def encode_features_model4_set1(df):\n",
    "    df_district = pd.get_dummies(df['district'])\n",
    "    df_month = pd.get_dummies(df['month'])\n",
    "    df_hours = pd.get_dummies(df['hours'])\n",
    "    column_dfs = [df_district,df_month,df_hours]\n",
    "    df_concat = pd.concat(column_dfs,axis=1)\n",
    "    df_concat.columns = ['Brighton','Charlestown',\n",
    "     'Dorchester',\n",
    "     'Downtown',\n",
    "     'East Boston',\n",
    "     'Human Traffic Unit',\n",
    "     'Hyde Park',\n",
    "     'Jamaica Plain',\n",
    "     'Mattapan',\n",
    "     'Roxbury',\n",
    "     'South Boston',\n",
    "     'South End',\n",
    "     'West Roxbury',\n",
    "     'missing_district'] + ['month' + str(i) for i in range(1,13)] + ['hour' + str(i) for i in range(0,3)]\n",
    "    return df_concat"
   ]
  },
  {
   "cell_type": "code",
   "execution_count": 11,
   "metadata": {
    "collapsed": true
   },
   "outputs": [],
   "source": [
    "def bin_hours_model4(df):\n",
    "    list_hours = list()\n",
    "    for hour in df.hours:\n",
    "        if hour in range(1,7):\n",
    "            list_hours.append(0)\n",
    "        elif hour in [12,24]:\n",
    "            list_hours.append(1)\n",
    "        else:\n",
    "            list_hours.append(2)\n",
    "    df.hours = list_hours\n",
    "    return df"
   ]
  },
  {
   "cell_type": "code",
   "execution_count": 12,
   "metadata": {
    "collapsed": false
   },
   "outputs": [],
   "source": [
    "df_model4_set1 = bin_hours_model4(df_model4)\n",
    "data_y = df_model4_set1.crime_category\n",
    "df_model4_set1 = encode_features_model4_set1(df_model4_set1)\n",
    "data_x = df_model4_set1"
   ]
  },
  {
   "cell_type": "code",
   "execution_count": 13,
   "metadata": {
    "collapsed": true
   },
   "outputs": [],
   "source": [
    "def perform_cv(clf, X, Y, scoring_metric):\n",
    "    kf_scores = list()\n",
    "    scores = cross_validation.cross_val_score(clf, X, Y, cv=5, scoring=scoring_metric)\n",
    "    kf_scores.append(scores)\n",
    "    kf_scores.append(scores.mean())\n",
    "    return kf_scores"
   ]
  },
  {
   "cell_type": "code",
   "execution_count": 14,
   "metadata": {
    "collapsed": true
   },
   "outputs": [],
   "source": [
    "def logistic_score(data_x,data_y,score,C):\n",
    "    log_clf = make_pipeline(linear_model.LogisticRegression(multi_class='multinomial',solver='lbfgs',C=C))\n",
    "    log_kf_model2_set1_accuracy = perform_cv(log_clf,data_x,data_y,score)\n",
    "    return log_kf_model2_set1_accuracy"
   ]
  },
  {
   "cell_type": "code",
   "execution_count": 15,
   "metadata": {
    "collapsed": true
   },
   "outputs": [],
   "source": [
    "def rf_score(data_x,data_y,score,number_trees,max_depth):\n",
    "    rf_clf = make_pipeline(RandomForestClassifier(n_estimators=number_trees,max_depth=max_depth))\n",
    "    rf_kf_model2_set1_accuracy = perform_cv(rf_clf,data_x,data_y,score)\n",
    "    return rf_kf_model2_set1_accuracy"
   ]
  },
  {
   "cell_type": "markdown",
   "metadata": {},
   "source": [
    "#### Logistic Regression"
   ]
  },
  {
   "cell_type": "code",
   "execution_count": 16,
   "metadata": {
    "collapsed": false
   },
   "outputs": [
    {
     "data": {
      "text/plain": [
       "[array([ 0.68201149,  0.67294025,  0.68202421,  0.67668949,  0.68202421]),\n",
       " 0.67913793060569672]"
      ]
     },
     "execution_count": 16,
     "metadata": {},
     "output_type": "execute_result"
    }
   ],
   "source": [
    "logistic_score(data_x,data_y,'accuracy',0.01)"
   ]
  },
  {
   "cell_type": "code",
   "execution_count": 18,
   "metadata": {
    "collapsed": false
   },
   "outputs": [
    {
     "data": {
      "text/plain": [
       "[array([-0.74143992, -0.76676755, -0.75030271, -0.75116526, -0.74109375]),\n",
       " -0.75015383763467025]"
      ]
     },
     "execution_count": 18,
     "metadata": {},
     "output_type": "execute_result"
    }
   ],
   "source": [
    "logistic_score(data_x,data_y,'log_loss',0.01)"
   ]
  },
  {
   "cell_type": "markdown",
   "metadata": {},
   "source": [
    "#### Random Forests"
   ]
  },
  {
   "cell_type": "code",
   "execution_count": 19,
   "metadata": {
    "collapsed": false
   },
   "outputs": [
    {
     "data": {
      "text/plain": [
       "[array([ 0.68201149,  0.67445114,  0.68202421,  0.67182108,  0.68202421]),\n",
       " 0.67846642662330503]"
      ]
     },
     "execution_count": 19,
     "metadata": {},
     "output_type": "execute_result"
    }
   ],
   "source": [
    "rf_score(data_x,data_y,'accuracy',150,20)"
   ]
  },
  {
   "cell_type": "code",
   "execution_count": 20,
   "metadata": {
    "collapsed": false
   },
   "outputs": [
    {
     "data": {
      "text/plain": [
       "[array([-0.74089366, -0.76896178, -0.75150978, -0.75241038, -0.74419865]),\n",
       " -0.75159484885604222]"
      ]
     },
     "execution_count": 20,
     "metadata": {},
     "output_type": "execute_result"
    }
   ],
   "source": [
    "rf_score(data_x,data_y,'log_loss',150,20)"
   ]
  },
  {
   "cell_type": "code",
   "execution_count": 21,
   "metadata": {
    "collapsed": false
   },
   "outputs": [
    {
     "data": {
      "text/html": [
       "<div>\n",
       "<table border=\"1\" class=\"dataframe\">\n",
       "  <thead>\n",
       "    <tr style=\"text-align: right;\">\n",
       "      <th></th>\n",
       "      <th>acc</th>\n",
       "      <th>log_loss</th>\n",
       "    </tr>\n",
       "    <tr>\n",
       "      <th>alg</th>\n",
       "      <th></th>\n",
       "      <th></th>\n",
       "    </tr>\n",
       "  </thead>\n",
       "  <tbody>\n",
       "    <tr>\n",
       "      <th>Logistic Regression</th>\n",
       "      <td>0.679138</td>\n",
       "      <td>-0.750150</td>\n",
       "    </tr>\n",
       "    <tr>\n",
       "      <th>Random Forests</th>\n",
       "      <td>0.678466</td>\n",
       "      <td>-0.751595</td>\n",
       "    </tr>\n",
       "  </tbody>\n",
       "</table>\n",
       "</div>"
      ],
      "text/plain": [
       "                          acc  log_loss\n",
       "alg                                    \n",
       "Logistic Regression  0.679138 -0.750150\n",
       "Random Forests       0.678466 -0.751595"
      ]
     },
     "execution_count": 21,
     "metadata": {},
     "output_type": "execute_result"
    }
   ],
   "source": [
    "df = pd.DataFrame()\n",
    "df['acc'] = [0.67913793060569672,0.67846642662330503]\n",
    "df['log_loss'] = [ -0.75015,-0.751594848856]\n",
    "df['alg'] = ['Logistic Regression','Random Forests']\n",
    "df.set_index('alg')"
   ]
  },
  {
   "cell_type": "markdown",
   "metadata": {},
   "source": [
    "* The log loss reported by both the algorithms are close to zero which is indicative of the good performance of the classifier in terms of the loss metric.\n",
    "* The accuracies reported by the classifier are around 64% each.\n",
    "* Why log-loss? - penalizes the false classifications. Depends on the probability assigned to each class than the most likely class, measures the accuracy in that sense. Ideal classifier has log loss of 0.\n",
    "* Why accuracy 68% ? Due to class imbalance, the majority class dominates the classification. "
   ]
  },
  {
   "cell_type": "markdown",
   "metadata": {},
   "source": [
    "<a id='model4.2'></a>"
   ]
  },
  {
   "cell_type": "markdown",
   "metadata": {},
   "source": [
    "#### Measure of individual class precision, recall"
   ]
  },
  {
   "cell_type": "code",
   "execution_count": 22,
   "metadata": {
    "collapsed": true
   },
   "outputs": [],
   "source": [
    "data_x_train, data_x_test, data_y_train, data_y_test = cross_validation.train_test_split(data_x, data_y, test_size=0.3, random_state=0)\n",
    "clf = RandomForestClassifier(n_estimators=150,max_depth=20)\n",
    "clf.fit(data_x_train,data_y_train)\n",
    "expected = data_y_test\n",
    "predicted = clf.predict(data_x_test)"
   ]
  },
  {
   "cell_type": "code",
   "execution_count": 24,
   "metadata": {
    "collapsed": false
   },
   "outputs": [
    {
     "name": "stdout",
     "output_type": "stream",
     "text": [
      "Classification report for classifier RandomForestClassifier(bootstrap=True, class_weight=None, criterion='gini',\n",
      "            max_depth=20, max_features='auto', max_leaf_nodes=None,\n",
      "            min_samples_leaf=1, min_samples_split=2,\n",
      "            min_weight_fraction_leaf=0.0, n_estimators=150, n_jobs=1,\n",
      "            oob_score=False, random_state=None, verbose=0,\n",
      "            warm_start=False):\n",
      "             precision    recall  f1-score   support\n",
      "\n",
      "          0       0.00      0.00      0.00      3615\n",
      "          1       0.00      0.00      0.00     22066\n",
      "          2       0.68      1.00      0.81     54736\n",
      "\n",
      "avg / total       0.46      0.68      0.55     80417\n",
      "\n",
      "\n",
      "Confusion matrix:\n",
      "[[    0     0  3615]\n",
      " [    0     0 22066]\n",
      " [    0     0 54736]]\n"
     ]
    },
    {
     "name": "stderr",
     "output_type": "stream",
     "text": [
      "/cise/homes/ashwin/anaconda2/lib/python2.7/site-packages/sklearn/metrics/classification.py:1074: UndefinedMetricWarning: Precision and F-score are ill-defined and being set to 0.0 in labels with no predicted samples.\n",
      "  'precision', 'predicted', average, warn_for)\n"
     ]
    }
   ],
   "source": [
    "print(\"Classification report for classifier %s:\\n%s\\n\"\n",
    "      % (clf, metrics.classification_report(expected, predicted)))\n",
    "print(\"Confusion matrix:\\n%s\" % metrics.confusion_matrix(expected, predicted))"
   ]
  },
  {
   "cell_type": "markdown",
   "metadata": {},
   "source": [
    "* As it can be seen from the confusion matrix, all the samples are assigned to class 2."
   ]
  },
  {
   "cell_type": "markdown",
   "metadata": {},
   "source": [
    "* The priority here is to have a greater precision in predicting class 0/1 crimes as they are part 1 crimes - more the sort of crime\n",
    "whose prediction the BPD is more interested in."
   ]
  },
  {
   "cell_type": "markdown",
   "metadata": {},
   "source": [
    "<a id='model4.3'></a>"
   ]
  },
  {
   "cell_type": "markdown",
   "metadata": {},
   "source": [
    "#### Class Balancing/Oversampling"
   ]
  },
  {
   "cell_type": "markdown",
   "metadata": {},
   "source": [
    "<a id='model4.4'></a>"
   ]
  },
  {
   "cell_type": "markdown",
   "metadata": {},
   "source": [
    "#### Class balancing method"
   ]
  },
  {
   "cell_type": "code",
   "execution_count": 25,
   "metadata": {
    "collapsed": false
   },
   "outputs": [
    {
     "name": "stdout",
     "output_type": "stream",
     "text": [
      "[array([ 0.64269193,  0.62625208,  0.64540859,  0.63337748,  0.65203037]), 0.63995208934011816]\n"
     ]
    }
   ],
   "source": [
    "log_clf = make_pipeline(linear_model.LogisticRegression(C=0.01, class_weight='balanced'))\n",
    "log_kf_model2_set1_accuracy = perform_cv(log_clf,data_x,data_y,'accuracy')\n",
    "print log_kf_model2_set1_accuracy"
   ]
  },
  {
   "cell_type": "code",
   "execution_count": 26,
   "metadata": {
    "collapsed": false
   },
   "outputs": [
    {
     "name": "stderr",
     "output_type": "stream",
     "text": [
      "/cise/homes/ashwin/anaconda2/lib/python2.7/site-packages/sklearn/metrics/classification.py:756: DeprecationWarning: The default `weighted` averaging is deprecated, and from version 0.18, use of precision, recall or F-score with multiclass or multilabel data or pos_label=None will result in an exception. Please set an explicit value for `average`, one of (None, 'micro', 'macro', 'weighted', 'samples'). In cross validation use, for instance, scoring=\"f1_weighted\" instead of scoring=\"f1\".\n",
      "  sample_weight=sample_weight)\n",
      "/cise/homes/ashwin/anaconda2/lib/python2.7/site-packages/sklearn/metrics/classification.py:756: DeprecationWarning: The default `weighted` averaging is deprecated, and from version 0.18, use of precision, recall or F-score with multiclass or multilabel data or pos_label=None will result in an exception. Please set an explicit value for `average`, one of (None, 'micro', 'macro', 'weighted', 'samples'). In cross validation use, for instance, scoring=\"f1_weighted\" instead of scoring=\"f1\".\n",
      "  sample_weight=sample_weight)\n",
      "/cise/homes/ashwin/anaconda2/lib/python2.7/site-packages/sklearn/metrics/classification.py:756: DeprecationWarning: The default `weighted` averaging is deprecated, and from version 0.18, use of precision, recall or F-score with multiclass or multilabel data or pos_label=None will result in an exception. Please set an explicit value for `average`, one of (None, 'micro', 'macro', 'weighted', 'samples'). In cross validation use, for instance, scoring=\"f1_weighted\" instead of scoring=\"f1\".\n",
      "  sample_weight=sample_weight)\n",
      "/cise/homes/ashwin/anaconda2/lib/python2.7/site-packages/sklearn/metrics/classification.py:756: DeprecationWarning: The default `weighted` averaging is deprecated, and from version 0.18, use of precision, recall or F-score with multiclass or multilabel data or pos_label=None will result in an exception. Please set an explicit value for `average`, one of (None, 'micro', 'macro', 'weighted', 'samples'). In cross validation use, for instance, scoring=\"f1_weighted\" instead of scoring=\"f1\".\n",
      "  sample_weight=sample_weight)\n"
     ]
    },
    {
     "name": "stdout",
     "output_type": "stream",
     "text": [
      "[array([ 0.61478989,  0.59987227,  0.60492404,  0.60835449,  0.61320683]), 0.60822950703857059]\n"
     ]
    },
    {
     "name": "stderr",
     "output_type": "stream",
     "text": [
      "/cise/homes/ashwin/anaconda2/lib/python2.7/site-packages/sklearn/metrics/classification.py:756: DeprecationWarning: The default `weighted` averaging is deprecated, and from version 0.18, use of precision, recall or F-score with multiclass or multilabel data or pos_label=None will result in an exception. Please set an explicit value for `average`, one of (None, 'micro', 'macro', 'weighted', 'samples'). In cross validation use, for instance, scoring=\"f1_weighted\" instead of scoring=\"f1\".\n",
      "  sample_weight=sample_weight)\n",
      "/cise/homes/ashwin/anaconda2/lib/python2.7/site-packages/sklearn/metrics/classification.py:1074: UndefinedMetricWarning: F-score is ill-defined and being set to 0.0 in labels with no predicted samples.\n",
      "  'precision', 'predicted', average, warn_for)\n"
     ]
    }
   ],
   "source": [
    "log_clf = make_pipeline(linear_model.LogisticRegression(C=0.01, class_weight='balanced'))\n",
    "log_kf_model2_set1_accuracy = perform_cv(log_clf,data_x,data_y,'f1')\n",
    "print log_kf_model2_set1_accuracy"
   ]
  },
  {
   "cell_type": "markdown",
   "metadata": {},
   "source": [
    "<a id='model4.5'></a>"
   ]
  },
  {
   "cell_type": "markdown",
   "metadata": {},
   "source": [
    "#### Measure of individual class precision-recall"
   ]
  },
  {
   "cell_type": "code",
   "execution_count": 27,
   "metadata": {
    "collapsed": true
   },
   "outputs": [],
   "source": [
    "data_x_train, data_x_test, data_y_train, data_y_test = cross_validation.train_test_split(data_x, data_y, test_size=0.3, random_state=0)\n",
    "clf = linear_model.LogisticRegression(C=0.01, class_weight='balanced')\n",
    "clf.fit(data_x_train,data_y_train)\n",
    "expected = data_y_test\n",
    "predicted = clf.predict(data_x_test)"
   ]
  },
  {
   "cell_type": "code",
   "execution_count": 28,
   "metadata": {
    "collapsed": false
   },
   "outputs": [
    {
     "name": "stdout",
     "output_type": "stream",
     "text": [
      "Classification report for classifier Pipeline(steps=[('logisticregression', LogisticRegression(C=0.01, class_weight='balanced', dual=False,\n",
      "          fit_intercept=True, intercept_scaling=1, max_iter=100,\n",
      "          multi_class='ovr', n_jobs=1, penalty='l2', random_state=None,\n",
      "          solver='liblinear', tol=0.0001, verbose=0, warm_start=False))]):\n",
      "             precision    recall  f1-score   support\n",
      "\n",
      "          0       0.11      0.00      0.01      3615\n",
      "          1       0.41      0.31      0.35     22066\n",
      "          2       0.72      0.83      0.77     54736\n",
      "\n",
      "avg / total       0.60      0.65      0.62     80417\n",
      "\n",
      "\n",
      "Confusion matrix:\n",
      "[[   11   726  2878]\n",
      " [   31  6862 15173]\n",
      " [   58  9296 45382]]\n"
     ]
    }
   ],
   "source": [
    "print(\"Classification report for classifier %s:\\n%s\\n\"\n",
    "      % (log_clf, metrics.classification_report(expected, predicted)))\n",
    "print(\"Confusion matrix:\\n%s\" % metrics.confusion_matrix(expected, predicted))"
   ]
  },
  {
   "cell_type": "markdown",
   "metadata": {},
   "source": [
    "* Balancing class weights seems to improve the classfications for class 0/1 better.\n",
    "* The precision for class 0 improves by 11% and for class 1, it improves by 41%"
   ]
  },
  {
   "cell_type": "markdown",
   "metadata": {},
   "source": [
    "<a id='model4.6'></a>"
   ]
  },
  {
   "cell_type": "markdown",
   "metadata": {},
   "source": [
    "#### Oversampling"
   ]
  },
  {
   "cell_type": "code",
   "execution_count": 29,
   "metadata": {
    "collapsed": true
   },
   "outputs": [],
   "source": [
    "from imblearn.over_sampling import RandomOverSampler\n",
    "ros = RandomOverSampler()\n",
    "data_x_resampled, data_y_resampled = ros.fit_sample(data_x, data_y)"
   ]
  },
  {
   "cell_type": "code",
   "execution_count": 30,
   "metadata": {
    "collapsed": false
   },
   "outputs": [
    {
     "name": "stdout",
     "output_type": "stream",
     "text": [
      "[array([ 0.35756482,  0.34286001,  0.34864894,  0.34175692,  0.35395471]), 0.34895707982350582]\n"
     ]
    }
   ],
   "source": [
    "log_clf = make_pipeline(linear_model.LogisticRegression(C=0.01))\n",
    "log_kf_model2_set1_accuracy = perform_cv(log_clf,data_x_resampled,data_y_resampled,'accuracy')\n",
    "print log_kf_model2_set1_accuracy"
   ]
  },
  {
   "cell_type": "code",
   "execution_count": 31,
   "metadata": {
    "collapsed": false
   },
   "outputs": [
    {
     "name": "stderr",
     "output_type": "stream",
     "text": [
      "/cise/homes/ashwin/anaconda2/lib/python2.7/site-packages/sklearn/metrics/classification.py:756: DeprecationWarning: The default `weighted` averaging is deprecated, and from version 0.18, use of precision, recall or F-score with multiclass or multilabel data or pos_label=None will result in an exception. Please set an explicit value for `average`, one of (None, 'micro', 'macro', 'weighted', 'samples'). In cross validation use, for instance, scoring=\"f1_weighted\" instead of scoring=\"f1\".\n",
      "  sample_weight=sample_weight)\n",
      "/cise/homes/ashwin/anaconda2/lib/python2.7/site-packages/sklearn/metrics/classification.py:756: DeprecationWarning: The default `weighted` averaging is deprecated, and from version 0.18, use of precision, recall or F-score with multiclass or multilabel data or pos_label=None will result in an exception. Please set an explicit value for `average`, one of (None, 'micro', 'macro', 'weighted', 'samples'). In cross validation use, for instance, scoring=\"f1_weighted\" instead of scoring=\"f1\".\n",
      "  sample_weight=sample_weight)\n",
      "/cise/homes/ashwin/anaconda2/lib/python2.7/site-packages/sklearn/metrics/classification.py:756: DeprecationWarning: The default `weighted` averaging is deprecated, and from version 0.18, use of precision, recall or F-score with multiclass or multilabel data or pos_label=None will result in an exception. Please set an explicit value for `average`, one of (None, 'micro', 'macro', 'weighted', 'samples'). In cross validation use, for instance, scoring=\"f1_weighted\" instead of scoring=\"f1\".\n",
      "  sample_weight=sample_weight)\n",
      "/cise/homes/ashwin/anaconda2/lib/python2.7/site-packages/sklearn/metrics/classification.py:756: DeprecationWarning: The default `weighted` averaging is deprecated, and from version 0.18, use of precision, recall or F-score with multiclass or multilabel data or pos_label=None will result in an exception. Please set an explicit value for `average`, one of (None, 'micro', 'macro', 'weighted', 'samples'). In cross validation use, for instance, scoring=\"f1_weighted\" instead of scoring=\"f1\".\n",
      "  sample_weight=sample_weight)\n"
     ]
    },
    {
     "name": "stdout",
     "output_type": "stream",
     "text": [
      "[array([ 0.3429252 ,  0.32772262,  0.33738882,  0.31646484,  0.34415675]), 0.33373164393758642]\n"
     ]
    },
    {
     "name": "stderr",
     "output_type": "stream",
     "text": [
      "/cise/homes/ashwin/anaconda2/lib/python2.7/site-packages/sklearn/metrics/classification.py:756: DeprecationWarning: The default `weighted` averaging is deprecated, and from version 0.18, use of precision, recall or F-score with multiclass or multilabel data or pos_label=None will result in an exception. Please set an explicit value for `average`, one of (None, 'micro', 'macro', 'weighted', 'samples'). In cross validation use, for instance, scoring=\"f1_weighted\" instead of scoring=\"f1\".\n",
      "  sample_weight=sample_weight)\n"
     ]
    }
   ],
   "source": [
    "log_clf = make_pipeline(linear_model.LogisticRegression(C=0.01))\n",
    "log_kf_model2_set1_accuracy = perform_cv(log_clf,data_x_resampled,data_y_resampled,'f1')\n",
    "print log_kf_model2_set1_accuracy"
   ]
  },
  {
   "cell_type": "markdown",
   "metadata": {},
   "source": [
    "<a id='model4.7'></a>"
   ]
  },
  {
   "cell_type": "markdown",
   "metadata": {},
   "source": [
    "#### Measure of individual class precision-recall"
   ]
  },
  {
   "cell_type": "code",
   "execution_count": 32,
   "metadata": {
    "collapsed": true
   },
   "outputs": [],
   "source": [
    "data_x_train, data_x_test, data_y_train, data_y_test = cross_validation.train_test_split(data_x_resampled, data_y_resampled, test_size=0.3, random_state=0)\n",
    "clf = linear_model.LogisticRegression(C=0.01)\n",
    "clf.fit(data_x_train,data_y_train)\n",
    "expected = data_y_test\n",
    "predicted = clf.predict(data_x_test)"
   ]
  },
  {
   "cell_type": "code",
   "execution_count": 33,
   "metadata": {
    "collapsed": false
   },
   "outputs": [
    {
     "name": "stdout",
     "output_type": "stream",
     "text": [
      "Classification report for classifier Pipeline(steps=[('logisticregression', LogisticRegression(C=0.01, class_weight=None, dual=False, fit_intercept=True,\n",
      "          intercept_scaling=1, max_iter=100, multi_class='ovr', n_jobs=1,\n",
      "          penalty='l2', random_state=None, solver='liblinear', tol=0.0001,\n",
      "          verbose=0, warm_start=False))]):\n",
      "             precision    recall  f1-score   support\n",
      "\n",
      "          0       0.43      0.49      0.46     54924\n",
      "          1       0.45      0.42      0.43     54757\n",
      "          2       0.40      0.37      0.39     54857\n",
      "\n",
      "avg / total       0.43      0.43      0.43    164538\n",
      "\n",
      "\n",
      "Confusion matrix:\n",
      "[[27111 13771 14042]\n",
      " [16133 23044 15580]\n",
      " [20108 14608 20141]]\n"
     ]
    }
   ],
   "source": [
    "print(\"Classification report for classifier %s:\\n%s\\n\"\n",
    "      % (log_clf, metrics.classification_report(expected, predicted)))\n",
    "print(\"Confusion matrix:\\n%s\" % metrics.confusion_matrix(expected, predicted))"
   ]
  },
  {
   "cell_type": "markdown",
   "metadata": {},
   "source": [
    "* Oversampling improves it even more - the class 0 precision is improved by 43% while the class 1 precision improves by 45%."
   ]
  },
  {
   "cell_type": "markdown",
   "metadata": {},
   "source": [
    "<a id='model4.8'></a>"
   ]
  },
  {
   "cell_type": "markdown",
   "metadata": {},
   "source": [
    "#### Inferences:"
   ]
  },
  {
   "cell_type": "markdown",
   "metadata": {},
   "source": [
    "* The class imbalance seems to cause low precision-recall across classes.\n",
    "* Oversampling the minor classes looks to improve the precision-recall scores for the classes."
   ]
  },
  {
   "cell_type": "markdown",
   "metadata": {},
   "source": [
    "<a id='model4.9'></a>"
   ]
  },
  {
   "cell_type": "markdown",
   "metadata": {},
   "source": [
    "#### Feature Set 2: Add StreetNames"
   ]
  },
  {
   "cell_type": "code",
   "execution_count": 34,
   "metadata": {
    "collapsed": true
   },
   "outputs": [],
   "source": [
    "def encode_features_model4_set2(df):\n",
    "    df_district = pd.get_dummies(df['district'])\n",
    "    df_month = pd.get_dummies(df['month'])\n",
    "    df_hours = pd.get_dummies(df['hours'])\n",
    "    df_streetname = pd.get_dummies(df['streetname'])\n",
    "    column_dfs = [df_district,df_month,df_hours,df_streetname]\n",
    "    df_concat = pd.concat(column_dfs,axis=1)\n",
    "    df_concat.columns = ['Brighton','Charlestown',\n",
    "     'Dorchester',\n",
    "     'Downtown',\n",
    "     'East Boston',\n",
    "     'Human Traffic Unit',\n",
    "     'Hyde Park',\n",
    "     'Jamaica Plain',\n",
    "     'Mattapan',\n",
    "     'Roxbury',\n",
    "     'South Boston',\n",
    "     'South End',\n",
    "     'West Roxbury',\n",
    "     'missing_district'] + ['month' + str(i) for i in range(1,13)]  + ['hour' + str(i) for i in range(0,3)] + ['street' + str(i) for i in range(0,10)]\n",
    "    \n",
    "    return df_concat"
   ]
  },
  {
   "cell_type": "code",
   "execution_count": 35,
   "metadata": {
    "collapsed": true
   },
   "outputs": [],
   "source": [
    "def recode_streetname(df):\n",
    "    list_street = list()\n",
    "    for street in df.streetname:\n",
    "        if street not in top_streets:\n",
    "            list_street.append('other')\n",
    "        else:\n",
    "            list_street.append(street)\n",
    "    df.streetname = list_street\n",
    "    return df"
   ]
  },
  {
   "cell_type": "code",
   "execution_count": 36,
   "metadata": {
    "collapsed": true
   },
   "outputs": [],
   "source": [
    "df_boston = pd.read_pickle('df_boston.pkl')\n",
    "top_streets = list(df_boston.streetname.value_counts()[:9].index)"
   ]
  },
  {
   "cell_type": "code",
   "execution_count": 37,
   "metadata": {
    "collapsed": true
   },
   "outputs": [],
   "source": [
    "df_model4 = df_boston\n",
    "list_crimes = list()\n",
    "for crime in df_model4.crime_category:\n",
    "    if crime in violent_crimes:\n",
    "        list_crimes.append(0)\n",
    "    elif crime in property_crimes:\n",
    "        list_crimes.append(1)\n",
    "    else:\n",
    "        list_crimes.append(2)\n",
    "df_model4.crime_category = list_crimes"
   ]
  },
  {
   "cell_type": "code",
   "execution_count": 40,
   "metadata": {
    "collapsed": false
   },
   "outputs": [],
   "source": [
    "df_model4_set2 = bin_hours_model4(df_model4)\n",
    "df_model4_set2 = recode_streetname(df_model4_set2)\n",
    "data_y = df_model4_set2.crime_category\n",
    "df_model4_set2 = encode_features_model4_set2(df_model4_set2)\n",
    "data_x = df_model4_set2"
   ]
  },
  {
   "cell_type": "markdown",
   "metadata": {},
   "source": [
    "#### Logistic Regression"
   ]
  },
  {
   "cell_type": "code",
   "execution_count": 41,
   "metadata": {
    "collapsed": false
   },
   "outputs": [
    {
     "data": {
      "text/plain": [
       "[array([ 0.68436171,  0.67864804,  0.68334857,  0.67562627,  0.68465427]),\n",
       " 0.68132777093615093]"
      ]
     },
     "execution_count": 41,
     "metadata": {},
     "output_type": "execute_result"
    }
   ],
   "source": [
    "logistic_score(data_x,data_y,'accuracy',0.01)"
   ]
  },
  {
   "cell_type": "code",
   "execution_count": 42,
   "metadata": {
    "collapsed": false
   },
   "outputs": [
    {
     "data": {
      "text/plain": [
       "[array([-0.7401262 , -0.76506603, -0.74830222, -0.75032265, -0.74006204]),\n",
       " -0.74877582673958309]"
      ]
     },
     "execution_count": 42,
     "metadata": {},
     "output_type": "execute_result"
    }
   ],
   "source": [
    "logistic_score(data_x,data_y,'log_loss',0.01)"
   ]
  },
  {
   "cell_type": "markdown",
   "metadata": {},
   "source": [
    "#### Random Forests"
   ]
  },
  {
   "cell_type": "code",
   "execution_count": 43,
   "metadata": {
    "collapsed": false
   },
   "outputs": [
    {
     "data": {
      "text/plain": [
       "[array([ 0.68549952,  0.68107291,  0.68659417,  0.68073716,  0.68597862]),\n",
       " 0.68397647684424823]"
      ]
     },
     "execution_count": 43,
     "metadata": {},
     "output_type": "execute_result"
    }
   ],
   "source": [
    "rf_score(data_x,data_y,'accuracy',150,20)"
   ]
  },
  {
   "cell_type": "code",
   "execution_count": 44,
   "metadata": {
    "collapsed": false
   },
   "outputs": [
    {
     "data": {
      "text/plain": [
       "[array([-0.74107096, -0.76718698, -0.75015533, -0.75166558, -0.74366043]),\n",
       " -0.75074785527059384]"
      ]
     },
     "execution_count": 44,
     "metadata": {},
     "output_type": "execute_result"
    }
   ],
   "source": [
    "rf_score(data_x,data_y,'log_loss',150,20)"
   ]
  },
  {
   "cell_type": "code",
   "execution_count": 7,
   "metadata": {
    "collapsed": false
   },
   "outputs": [
    {
     "data": {
      "text/html": [
       "<div>\n",
       "<table border=\"1\" class=\"dataframe\">\n",
       "  <thead>\n",
       "    <tr style=\"text-align: right;\">\n",
       "      <th></th>\n",
       "      <th>accuracy</th>\n",
       "      <th>log_loss</th>\n",
       "    </tr>\n",
       "    <tr>\n",
       "      <th>algos</th>\n",
       "      <th></th>\n",
       "      <th></th>\n",
       "    </tr>\n",
       "  </thead>\n",
       "  <tbody>\n",
       "    <tr>\n",
       "      <th>Logistic Regressions</th>\n",
       "      <td>0.681328</td>\n",
       "      <td>-0.748775</td>\n",
       "    </tr>\n",
       "    <tr>\n",
       "      <th>Random Forests</th>\n",
       "      <td>0.683976</td>\n",
       "      <td>-0.750748</td>\n",
       "    </tr>\n",
       "  </tbody>\n",
       "</table>\n",
       "</div>"
      ],
      "text/plain": [
       "                      accuracy  log_loss\n",
       "algos                                   \n",
       "Logistic Regressions  0.681328 -0.748775\n",
       "Random Forests        0.683976 -0.750748"
      ]
     },
     "execution_count": 7,
     "metadata": {},
     "output_type": "execute_result"
    }
   ],
   "source": [
    "df = pd.DataFrame()\n",
    "df['algos'] = ['Logistic Regressions','Random Forests']\n",
    "df['accuracy'] = [0.6813277,0.68397647]\n",
    "df['log_loss'] = [-0.748775,-0.7507478552]\n",
    "df.set_index('algos')"
   ]
  },
  {
   "cell_type": "markdown",
   "metadata": {},
   "source": [
    "* A small improvement in the log loss for the logistic regression is shown with the inclusion of the streetname as a feature.\n",
    "* The log loss shows us that the class probabilities are on the edge even though they get assigned to class 2 completely."
   ]
  },
  {
   "cell_type": "markdown",
   "metadata": {},
   "source": [
    "<a id='model4.10'></a>"
   ]
  },
  {
   "cell_type": "markdown",
   "metadata": {},
   "source": [
    "#### Measure of individual class precision-recall"
   ]
  },
  {
   "cell_type": "code",
   "execution_count": 45,
   "metadata": {
    "collapsed": false
   },
   "outputs": [],
   "source": [
    "data_x_train, data_x_test, data_y_train, data_y_test = cross_validation.train_test_split(data_x, data_y, test_size=0.3, random_state=0)\n",
    "clf = RandomForestClassifier(n_estimators=150,max_depth=20)\n",
    "clf.fit(data_x_train,data_y_train)\n",
    "expected = data_y_test\n",
    "predicted = clf.predict(data_x_test)"
   ]
  },
  {
   "cell_type": "code",
   "execution_count": 46,
   "metadata": {
    "collapsed": false
   },
   "outputs": [
    {
     "name": "stdout",
     "output_type": "stream",
     "text": [
      "Classification report for classifier RandomForestClassifier(bootstrap=True, class_weight=None, criterion='gini',\n",
      "            max_depth=20, max_features='auto', max_leaf_nodes=None,\n",
      "            min_samples_leaf=1, min_samples_split=2,\n",
      "            min_weight_fraction_leaf=0.0, n_estimators=150, n_jobs=1,\n",
      "            oob_score=False, random_state=None, verbose=0,\n",
      "            warm_start=False):\n",
      "             precision    recall  f1-score   support\n",
      "\n",
      "          0       0.24      0.00      0.01      3615\n",
      "          1       0.57      0.05      0.10     22066\n",
      "          2       0.69      0.98      0.81     54736\n",
      "\n",
      "avg / total       0.63      0.68      0.58     80417\n",
      "\n",
      "\n",
      "Confusion matrix:\n",
      "[[   14    67  3534]\n",
      " [   19  1186 20861]\n",
      " [   25   840 53871]]\n"
     ]
    }
   ],
   "source": [
    "print(\"Classification report for classifier %s:\\n%s\\n\"\n",
    "      % (clf, metrics.classification_report(expected, predicted)))\n",
    "print(\"Confusion matrix:\\n%s\" % metrics.confusion_matrix(expected, predicted))"
   ]
  },
  {
   "cell_type": "markdown",
   "metadata": {},
   "source": [
    "* With the inclusion of streetname, the model makes a better classification for class 0 and 1 while due to class imbalance, the \n",
    "majority class gets all the instances labelled to."
   ]
  },
  {
   "cell_type": "markdown",
   "metadata": {},
   "source": [
    "<a id='model4.11'></a>"
   ]
  },
  {
   "cell_type": "markdown",
   "metadata": {},
   "source": [
    "#### Class Balancing/Oversampling"
   ]
  },
  {
   "cell_type": "markdown",
   "metadata": {},
   "source": [
    "<a id='model4.12'></a>"
   ]
  },
  {
   "cell_type": "markdown",
   "metadata": {},
   "source": [
    "#### Class balancing method"
   ]
  },
  {
   "cell_type": "code",
   "execution_count": 47,
   "metadata": {
    "collapsed": false
   },
   "outputs": [
    {
     "name": "stdout",
     "output_type": "stream",
     "text": [
      "[array([ 0.65024621,  0.63388111,  0.6532055 ,  0.6374065 ,  0.65538789]), 0.64602544162125863]\n"
     ]
    }
   ],
   "source": [
    "log_clf = make_pipeline(linear_model.LogisticRegression(C=0.01, class_weight='balanced'))\n",
    "log_kf_model2_set1_accuracy = perform_cv(log_clf,data_x,data_y,'accuracy')\n",
    "print log_kf_model2_set1_accuracy"
   ]
  },
  {
   "cell_type": "code",
   "execution_count": 48,
   "metadata": {
    "collapsed": false
   },
   "outputs": [
    {
     "name": "stderr",
     "output_type": "stream",
     "text": [
      "/cise/homes/ashwin/anaconda2/lib/python2.7/site-packages/sklearn/metrics/classification.py:756: DeprecationWarning: The default `weighted` averaging is deprecated, and from version 0.18, use of precision, recall or F-score with multiclass or multilabel data or pos_label=None will result in an exception. Please set an explicit value for `average`, one of (None, 'micro', 'macro', 'weighted', 'samples'). In cross validation use, for instance, scoring=\"f1_weighted\" instead of scoring=\"f1\".\n",
      "  sample_weight=sample_weight)\n",
      "/cise/homes/ashwin/anaconda2/lib/python2.7/site-packages/sklearn/metrics/classification.py:756: DeprecationWarning: The default `weighted` averaging is deprecated, and from version 0.18, use of precision, recall or F-score with multiclass or multilabel data or pos_label=None will result in an exception. Please set an explicit value for `average`, one of (None, 'micro', 'macro', 'weighted', 'samples'). In cross validation use, for instance, scoring=\"f1_weighted\" instead of scoring=\"f1\".\n",
      "  sample_weight=sample_weight)\n",
      "/cise/homes/ashwin/anaconda2/lib/python2.7/site-packages/sklearn/metrics/classification.py:756: DeprecationWarning: The default `weighted` averaging is deprecated, and from version 0.18, use of precision, recall or F-score with multiclass or multilabel data or pos_label=None will result in an exception. Please set an explicit value for `average`, one of (None, 'micro', 'macro', 'weighted', 'samples'). In cross validation use, for instance, scoring=\"f1_weighted\" instead of scoring=\"f1\".\n",
      "  sample_weight=sample_weight)\n",
      "/cise/homes/ashwin/anaconda2/lib/python2.7/site-packages/sklearn/metrics/classification.py:756: DeprecationWarning: The default `weighted` averaging is deprecated, and from version 0.18, use of precision, recall or F-score with multiclass or multilabel data or pos_label=None will result in an exception. Please set an explicit value for `average`, one of (None, 'micro', 'macro', 'weighted', 'samples'). In cross validation use, for instance, scoring=\"f1_weighted\" instead of scoring=\"f1\".\n",
      "  sample_weight=sample_weight)\n"
     ]
    },
    {
     "name": "stdout",
     "output_type": "stream",
     "text": [
      "[array([ 0.61530604,  0.59994455,  0.61072028,  0.61080476,  0.61301274]), 0.60995767381437938]\n"
     ]
    },
    {
     "name": "stderr",
     "output_type": "stream",
     "text": [
      "/cise/homes/ashwin/anaconda2/lib/python2.7/site-packages/sklearn/metrics/classification.py:756: DeprecationWarning: The default `weighted` averaging is deprecated, and from version 0.18, use of precision, recall or F-score with multiclass or multilabel data or pos_label=None will result in an exception. Please set an explicit value for `average`, one of (None, 'micro', 'macro', 'weighted', 'samples'). In cross validation use, for instance, scoring=\"f1_weighted\" instead of scoring=\"f1\".\n",
      "  sample_weight=sample_weight)\n"
     ]
    }
   ],
   "source": [
    "log_clf = make_pipeline(linear_model.LogisticRegression(C=0.01, class_weight='balanced'))\n",
    "log_kf_model2_set1_accuracy = perform_cv(log_clf,data_x,data_y,'f1')\n",
    "print log_kf_model2_set1_accuracy"
   ]
  },
  {
   "cell_type": "markdown",
   "metadata": {},
   "source": [
    "<a id='model4.13'></a>"
   ]
  },
  {
   "cell_type": "markdown",
   "metadata": {},
   "source": [
    "#### Oversampling"
   ]
  },
  {
   "cell_type": "code",
   "execution_count": 49,
   "metadata": {
    "collapsed": true
   },
   "outputs": [],
   "source": [
    "from imblearn.over_sampling import RandomOverSampler\n",
    "ros = RandomOverSampler()\n",
    "data_x_resampled, data_y_resampled = ros.fit_sample(data_x, data_y)"
   ]
  },
  {
   "cell_type": "code",
   "execution_count": 50,
   "metadata": {
    "collapsed": false
   },
   "outputs": [
    {
     "name": "stdout",
     "output_type": "stream",
     "text": [
      "[array([ 0.36333552,  0.35805711,  0.36252416,  0.34431864,  0.36316231]), 0.35827954636618892]\n"
     ]
    }
   ],
   "source": [
    "log_clf = make_pipeline(linear_model.LogisticRegression(C=0.01))\n",
    "log_kf_model2_set1_accuracy = perform_cv(log_clf,data_x_resampled,data_y_resampled,'accuracy')\n",
    "print log_kf_model2_set1_accuracy"
   ]
  },
  {
   "cell_type": "code",
   "execution_count": 51,
   "metadata": {
    "collapsed": false
   },
   "outputs": [
    {
     "name": "stderr",
     "output_type": "stream",
     "text": [
      "/cise/homes/ashwin/anaconda2/lib/python2.7/site-packages/sklearn/metrics/classification.py:756: DeprecationWarning: The default `weighted` averaging is deprecated, and from version 0.18, use of precision, recall or F-score with multiclass or multilabel data or pos_label=None will result in an exception. Please set an explicit value for `average`, one of (None, 'micro', 'macro', 'weighted', 'samples'). In cross validation use, for instance, scoring=\"f1_weighted\" instead of scoring=\"f1\".\n",
      "  sample_weight=sample_weight)\n",
      "/cise/homes/ashwin/anaconda2/lib/python2.7/site-packages/sklearn/metrics/classification.py:756: DeprecationWarning: The default `weighted` averaging is deprecated, and from version 0.18, use of precision, recall or F-score with multiclass or multilabel data or pos_label=None will result in an exception. Please set an explicit value for `average`, one of (None, 'micro', 'macro', 'weighted', 'samples'). In cross validation use, for instance, scoring=\"f1_weighted\" instead of scoring=\"f1\".\n",
      "  sample_weight=sample_weight)\n",
      "/cise/homes/ashwin/anaconda2/lib/python2.7/site-packages/sklearn/metrics/classification.py:756: DeprecationWarning: The default `weighted` averaging is deprecated, and from version 0.18, use of precision, recall or F-score with multiclass or multilabel data or pos_label=None will result in an exception. Please set an explicit value for `average`, one of (None, 'micro', 'macro', 'weighted', 'samples'). In cross validation use, for instance, scoring=\"f1_weighted\" instead of scoring=\"f1\".\n",
      "  sample_weight=sample_weight)\n",
      "/cise/homes/ashwin/anaconda2/lib/python2.7/site-packages/sklearn/metrics/classification.py:756: DeprecationWarning: The default `weighted` averaging is deprecated, and from version 0.18, use of precision, recall or F-score with multiclass or multilabel data or pos_label=None will result in an exception. Please set an explicit value for `average`, one of (None, 'micro', 'macro', 'weighted', 'samples'). In cross validation use, for instance, scoring=\"f1_weighted\" instead of scoring=\"f1\".\n",
      "  sample_weight=sample_weight)\n"
     ]
    },
    {
     "name": "stdout",
     "output_type": "stream",
     "text": [
      "[array([ 0.34549342,  0.34109767,  0.34946639,  0.32117974,  0.35077345]), 0.34160213314535243]\n"
     ]
    },
    {
     "name": "stderr",
     "output_type": "stream",
     "text": [
      "/cise/homes/ashwin/anaconda2/lib/python2.7/site-packages/sklearn/metrics/classification.py:756: DeprecationWarning: The default `weighted` averaging is deprecated, and from version 0.18, use of precision, recall or F-score with multiclass or multilabel data or pos_label=None will result in an exception. Please set an explicit value for `average`, one of (None, 'micro', 'macro', 'weighted', 'samples'). In cross validation use, for instance, scoring=\"f1_weighted\" instead of scoring=\"f1\".\n",
      "  sample_weight=sample_weight)\n"
     ]
    }
   ],
   "source": [
    "log_clf = make_pipeline(linear_model.LogisticRegression(C=0.01))\n",
    "log_kf_model2_set1_accuracy = perform_cv(log_clf,data_x_resampled,data_y_resampled,'f1')\n",
    "print log_kf_model2_set1_accuracy"
   ]
  },
  {
   "cell_type": "markdown",
   "metadata": {},
   "source": [
    "<a id='model4.14'></a>"
   ]
  },
  {
   "cell_type": "markdown",
   "metadata": {},
   "source": [
    "#### Measure of individual class precision-recall"
   ]
  },
  {
   "cell_type": "code",
   "execution_count": 52,
   "metadata": {
    "collapsed": true
   },
   "outputs": [],
   "source": [
    "data_x_train, data_x_test, data_y_train, data_y_test = cross_validation.train_test_split(data_x_resampled, data_y_resampled, test_size=0.3, random_state=0)\n",
    "clf = linear_model.LogisticRegression(C=0.01)\n",
    "clf.fit(data_x_train,data_y_train)\n",
    "expected = data_y_test\n",
    "predicted = clf.predict(data_x_test)"
   ]
  },
  {
   "cell_type": "code",
   "execution_count": 53,
   "metadata": {
    "collapsed": false
   },
   "outputs": [
    {
     "name": "stdout",
     "output_type": "stream",
     "text": [
      "Classification report for classifier Pipeline(steps=[('logisticregression', LogisticRegression(C=0.01, class_weight=None, dual=False, fit_intercept=True,\n",
      "          intercept_scaling=1, max_iter=100, multi_class='ovr', n_jobs=1,\n",
      "          penalty='l2', random_state=None, solver='liblinear', tol=0.0001,\n",
      "          verbose=0, warm_start=False))]):\n",
      "             precision    recall  f1-score   support\n",
      "\n",
      "          0       0.44      0.51      0.47     54924\n",
      "          1       0.46      0.41      0.43     54757\n",
      "          2       0.40      0.38      0.39     54857\n",
      "\n",
      "avg / total       0.43      0.43      0.43    164538\n",
      "\n",
      "\n",
      "Confusion matrix:\n",
      "[[28078 12184 14662]\n",
      " [16370 22516 15871]\n",
      " [19804 14405 20648]]\n"
     ]
    }
   ],
   "source": [
    "print(\"Classification report for classifier %s:\\n%s\\n\"\n",
    "      % (log_clf, metrics.classification_report(expected, predicted)))\n",
    "print(\"Confusion matrix:\\n%s\" % metrics.confusion_matrix(expected, predicted))"
   ]
  },
  {
   "cell_type": "markdown",
   "metadata": {},
   "source": [
    "#### Inferences:"
   ]
  },
  {
   "cell_type": "markdown",
   "metadata": {},
   "source": [
    "* The class imbalance seems to cause low precision-recall across classes.\n",
    "* Oversampling the minor classes looks to improve the precision-recall scores for the classes.\n",
    "* The addition of the street feature looks to have improved the performance."
   ]
  },
  {
   "cell_type": "markdown",
   "metadata": {},
   "source": [
    "<a id='model4.15'></a>"
   ]
  },
  {
   "cell_type": "markdown",
   "metadata": {},
   "source": [
    "#### Grid Search"
   ]
  },
  {
   "cell_type": "code",
   "execution_count": 96,
   "metadata": {
    "collapsed": false
   },
   "outputs": [],
   "source": [
    "from sklearn.grid_search import GridSearchCV"
   ]
  },
  {
   "cell_type": "code",
   "execution_count": null,
   "metadata": {
    "collapsed": false
   },
   "outputs": [],
   "source": [
    "data_x_train, data_x_test, data_y_train, data_y_test = cross_validation.train_test_split(data_x_resampled, data_y_resampled, test_size=0.3, random_state=0)\n",
    "parameters = {'n_estimators':[200, 225, 250], 'max_depth':[20,25]}\n",
    "scores = ['precision','recall','f1']\n",
    "rf = RandomForestClassifier()\n",
    "for score in scores:\n",
    "    clf = GridSearchCV(rf, parameters, cv=5,\n",
    "                       scoring='%s_weighted' % score)\n",
    "    clf.fit(data_x_train, data_y_train)\n",
    "    print(\"Best parameters set found on development set:\")\n",
    "    print()\n",
    "    print(clf.best_params_)\n",
    "    print()\n",
    "    print(\"Grid scores on development set:\")\n",
    "    print()\n",
    "    for params, mean_score, scores in clf.grid_scores_:\n",
    "        print(\"%0.3f (+/-%0.03f) for %r\"\n",
    "              % (mean_score, scores.std() * 2, params))\n",
    "    print()\n",
    "\n",
    "    print(\"Detailed classification report:\")\n",
    "    print()\n",
    "    print(\"The model is trained on the full development set.\")\n",
    "    print(\"The scores are computed on the full evaluation set.\")\n",
    "    print()\n",
    "    y_true, y_pred = data_y_test, clf.predict(data_x_test)\n",
    "    print(metrics.classification_report(y_true, y_pred))\n",
    "    print()\n"
   ]
  },
  {
   "cell_type": "markdown",
   "metadata": {},
   "source": [
    "Grid Search to find the best hyper parameter of random forest is performed: (250,25)"
   ]
  },
  {
   "cell_type": "code",
   "execution_count": 55,
   "metadata": {
    "collapsed": false
   },
   "outputs": [],
   "source": [
    "data_x_train, data_x_test, data_y_train, data_y_test = cross_validation.train_test_split(data_x_resampled, data_y_resampled, test_size=0.3, random_state=0)\n",
    "clf = RandomForestClassifier(n_estimators=250,max_depth=25)\n",
    "clf.fit(data_x_train,data_y_train)\n",
    "expected = data_y_test\n",
    "predicted = clf.predict(data_x_test)"
   ]
  },
  {
   "cell_type": "code",
   "execution_count": 56,
   "metadata": {
    "collapsed": false
   },
   "outputs": [
    {
     "name": "stdout",
     "output_type": "stream",
     "text": [
      "Classification report for classifier RandomForestClassifier(bootstrap=True, class_weight=None, criterion='gini',\n",
      "            max_depth=25, max_features='auto', max_leaf_nodes=None,\n",
      "            min_samples_leaf=1, min_samples_split=2,\n",
      "            min_weight_fraction_leaf=0.0, n_estimators=250, n_jobs=1,\n",
      "            oob_score=False, random_state=None, verbose=0,\n",
      "            warm_start=False):\n",
      "             precision    recall  f1-score   support\n",
      "\n",
      "          0       0.46      0.56      0.50     54924\n",
      "          1       0.48      0.41      0.44     54757\n",
      "          2       0.42      0.37      0.39     54857\n",
      "\n",
      "avg / total       0.45      0.45      0.45    164538\n",
      "\n",
      "\n",
      "Confusion matrix:\n",
      "[[31010 11051 12863]\n",
      " [16402 22582 15773]\n",
      " [20556 13849 20452]]\n"
     ]
    }
   ],
   "source": [
    "print(\"Classification report for classifier %s:\\n%s\\n\"\n",
    "      % (clf, metrics.classification_report(expected, predicted)))\n",
    "print(\"Confusion matrix:\\n%s\" % metrics.confusion_matrix(expected, predicted))"
   ]
  },
  {
   "cell_type": "markdown",
   "metadata": {},
   "source": [
    "The average precision, recall and f1 has improved when compared to the earlier parameters."
   ]
  },
  {
   "cell_type": "markdown",
   "metadata": {},
   "source": [
    "<a id='model4.16'></a>"
   ]
  },
  {
   "cell_type": "markdown",
   "metadata": {},
   "source": [
    "#### Possible Improvements:"
   ]
  },
  {
   "cell_type": "markdown",
   "metadata": {},
   "source": [
    "* One hot encode classes to see improvements.\n",
    "* Boosted trees and neural networks to improve performance.\n",
    "* Experiment sampling techinques to improve class imbalance."
   ]
  },
  {
   "cell_type": "code",
   "execution_count": null,
   "metadata": {
    "collapsed": true
   },
   "outputs": [],
   "source": []
  },
  {
   "cell_type": "code",
   "execution_count": null,
   "metadata": {
    "collapsed": true
   },
   "outputs": [],
   "source": []
  },
  {
   "cell_type": "code",
   "execution_count": null,
   "metadata": {
    "collapsed": true
   },
   "outputs": [],
   "source": []
  }
 ],
 "metadata": {
  "kernelspec": {
   "display_name": "Python 2",
   "language": "python",
   "name": "python2"
  },
  "language_info": {
   "codemirror_mode": {
    "name": "ipython",
    "version": 2
   },
   "file_extension": ".py",
   "mimetype": "text/x-python",
   "name": "python",
   "nbconvert_exporter": "python",
   "pygments_lexer": "ipython2",
   "version": "2.7.12"
  }
 },
 "nbformat": 4,
 "nbformat_minor": 0
}
