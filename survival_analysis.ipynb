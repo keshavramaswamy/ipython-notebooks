{
 "cells": [
  {
   "cell_type": "markdown",
   "metadata": {},
   "source": [
    "###Survival Analysis"
   ]
  },
  {
   "cell_type": "markdown",
   "metadata": {},
   "source": [
    "* This notebook is about the application of Survival Analysis in cricket - to analyze the career lengths of players."
   ]
  },
  {
   "cell_type": "markdown",
   "metadata": {},
   "source": [
    "* Survival Analysis has been described in length by various resources, the following are the major soruces I used to\n",
    "understand the concept:\n",
    "    * Allen B. Downy's book on exploratory data analysis in Python includes a great chapter on survival curves, hazard functions, Kaplan–Meier estimators etc. \n",
    "    \n",
    "    http://greenteapress.com/thinkstats2/thinkstats2.pdf \n",
    "    \n",
    "    * Econometrics Academy's notes on survival analysis http://sites.google.com/site/econometricsacademy/econometrics-models/survival-analysis\n",
    "     \n",
    "    * Cam Davidson-Pilon's documentation on the lifelines python library on survival analysis.\n",
    "    \n",
    "         http://lifelines.readthedocs.org/en/latest/Quickstart.html"
   ]
  },
  {
   "cell_type": "markdown",
   "metadata": {},
   "source": [
    "* Survival Analyis is used in areas where the time duration of a sample of observations is analysed until an event of death occurs.\n",
    "* This has great use in mechanical engineering where the lifetime of a tool/product is analyzed, medical sciences where \n",
    "the lifetime of cancer patients is analyzed etc.\n",
    "* This is an attempt to extend this statistical concept into the field of cricket - to analyze the career lengths of players."
   ]
  },
  {
   "cell_type": "markdown",
   "metadata": {},
   "source": [
    "* The event of death in this case is the event when players retire from active cricket.\n",
    "* I have tried to analyze all the players who have played ODI cricket. \n",
    "* The reason Test cricket wasn't chosen is due to the fact there is too much noise in the data due to the careers of the players marred due to the World Wars, Apartheid Crisis, Kerry Packer's cricket series etc."
   ]
  },
  {
   "cell_type": "markdown",
   "metadata": {},
   "source": [
    "- There isn't any readily available data when it comes to cricket yet - ESPNCricinfo still doesn't provide an API to use its StatsGuru database machine - so I had to scrape the data from the Statsguru webpages to acquire the data."
   ]
  },
  {
   "cell_type": "code",
   "execution_count": 4,
   "metadata": {
    "collapsed": true
   },
   "outputs": [],
   "source": [
    "%matplotlib inline\n",
    "from bs4 import BeautifulSoup\n",
    "import requests\n",
    "import pandas as pd\n",
    "import lifelines\n",
    "import matplotlib\n",
    "import numpy as np\n",
    "import matplotlib.pyplot as plt\n",
    "matplotlib.style.use('ggplot')"
   ]
  },
  {
   "cell_type": "markdown",
   "metadata": {},
   "source": [
    "#### Scraping\n",
    "The following method scrapes the required data from the webpages. "
   ]
  },
  {
   "cell_type": "code",
   "execution_count": 14,
   "metadata": {
    "collapsed": true
   },
   "outputs": [],
   "source": [
    "statsguru_query_url = 'http://stats.espncricinfo.com/ci/engine/stats/index.html?class=2;filter=advanced;orderby=runs;page=1;size=200;template=results;type=batting'"
   ]
  },
  {
   "cell_type": "code",
   "execution_count": 15,
   "metadata": {
    "collapsed": true
   },
   "outputs": [],
   "source": [
    "def scrape_data(page_count):\n",
    "    \"\"\"\n",
    "    scrapes the required data present in the form of a table from the given url\n",
    "    :param url: page of the ESPNCricinfo Stats URL query\n",
    "    :return: the raw unicode text\n",
    "    \"\"\"\n",
    "    url = statsguru_query_url\n",
    "    complete_url = url.partition('page=1')[0] + \"page=\" + str(page_count) + url.partition('page=1')[-1]\n",
    "    r = requests.get(complete_url)\n",
    "    data = r.text\n",
    "    soup = BeautifulSoup(data)\n",
    "    table = soup.find_all('table')\n",
    "    return table[2].text"
   ]
  },
  {
   "cell_type": "markdown",
   "metadata": {},
   "source": [
    "#### Data Cleaning\n",
    "Once the data is scraped, it has to be cleaned - stripping of the whitespaces and other noisy data to get it into a proper structure"
   ]
  },
  {
   "cell_type": "code",
   "execution_count": 16,
   "metadata": {
    "collapsed": true
   },
   "outputs": [],
   "source": [
    "def clean_data(text):\n",
    "    \"\"\"\n",
    "    cleans the data removing all whitespaces and other data\n",
    "    :param text: table text of each page\n",
    "    :return: cleaned text  \n",
    "    \"\"\"\n",
    "    text = text.split('\\n')\n",
    "    text.remove(u'Overall figures')\n",
    "    return text"
   ]
  },
  {
   "cell_type": "markdown",
   "metadata": {},
   "source": [
    "#### Data Transformation\n",
    "The data is now transformed accordingly to make get the data into a structure with which it can effectively be modelled.\n",
    "A series of methods and transformations are done to make a dataframe, fit for modelling."
   ]
  },
  {
   "cell_type": "code",
   "execution_count": 73,
   "metadata": {
    "collapsed": true
   },
   "outputs": [],
   "source": [
    "def create_data():\n",
    "    \"\"\"\n",
    "    scrapes the data, cleans it and transforms the data to load into a pandas dataframe\n",
    "    \"\"\"\n",
    "    page_count = 12\n",
    "    df = pd.DataFrame()\n",
    "    get_list_columns = lambda text, start_index, end_index: [str(unicode_text)\n",
    "                                                                for unicode_text in text][start_index:end_index]\n",
    "    get_data_rows = lambda text, start_index: text[start_index:]\n",
    "    remove_all_occurences = lambda data, item: [x for x in data if x != item]\n",
    "    get_list_rows = lambda data: [data[index: index + 13] for index, row in enumerate(data) if index % 13 == 0]\n",
    "    for page in range(1, page_count + 1):\n",
    "        raw_text = scrape_data(page)\n",
    "        clean_text = clean_data(raw_text)\n",
    "        list_columns = get_list_columns(clean_text, 3, 16)\n",
    "        data_rows = get_data_rows(clean_text, 16)\n",
    "        data_rows = remove_all_occurences(data_rows, u'')\n",
    "        list_rows = get_list_rows(data_rows)\n",
    "        df_new = pd.DataFrame(list_rows, columns=list_columns)\n",
    "        if len(df) == 0:\n",
    "            df = df_new\n",
    "        else:\n",
    "            df = pd.concat([df, df_new])\n",
    "    return df"
   ]
  },
  {
   "cell_type": "code",
   "execution_count": 21,
   "metadata": {
    "collapsed": false
   },
   "outputs": [],
   "source": [
    "df_full = create_data()\n",
    "df_full = df_full.reset_index(drop=True)"
   ]
  },
  {
   "cell_type": "markdown",
   "metadata": {},
   "source": [
    "* The scraped data is stored in the form of a pandas dataframe."
   ]
  },
  {
   "cell_type": "code",
   "execution_count": 75,
   "metadata": {
    "collapsed": false
   },
   "outputs": [
    {
     "data": {
      "text/plain": [
       "2244"
      ]
     },
     "execution_count": 75,
     "metadata": {},
     "output_type": "execute_result"
    }
   ],
   "source": [
    "len(df_full)"
   ]
  },
  {
   "cell_type": "markdown",
   "metadata": {},
   "source": [
    "* There are totally 2244 players who have played ODI cricket since its inception in the 1970s."
   ]
  },
  {
   "cell_type": "markdown",
   "metadata": {},
   "source": [
    "* The following displays the first five rows of the data.\n",
    "* The data is by default sorted by the amount of runs scored."
   ]
  },
  {
   "cell_type": "code",
   "execution_count": 76,
   "metadata": {
    "collapsed": false
   },
   "outputs": [
    {
     "data": {
      "text/html": [
       "<div style=\"max-height:1000px;max-width:1500px;overflow:auto;\">\n",
       "<table border=\"1\" class=\"dataframe\">\n",
       "  <thead>\n",
       "    <tr style=\"text-align: right;\">\n",
       "      <th></th>\n",
       "      <th>player</th>\n",
       "      <th>span</th>\n",
       "      <th>mat</th>\n",
       "      <th>inns</th>\n",
       "      <th>not_outs</th>\n",
       "      <th>runs</th>\n",
       "      <th>high_score</th>\n",
       "      <th>ave</th>\n",
       "      <th>bf</th>\n",
       "      <th>sr</th>\n",
       "      <th>n_100</th>\n",
       "      <th>n_50</th>\n",
       "      <th>n_0</th>\n",
       "    </tr>\n",
       "  </thead>\n",
       "  <tbody>\n",
       "    <tr>\n",
       "      <th>0</th>\n",
       "      <td>SR Tendulkar (India)</td>\n",
       "      <td>1989-2012</td>\n",
       "      <td>463</td>\n",
       "      <td>452</td>\n",
       "      <td>41</td>\n",
       "      <td>18426</td>\n",
       "      <td>200*</td>\n",
       "      <td>44.83</td>\n",
       "      <td>21367</td>\n",
       "      <td>86.23</td>\n",
       "      <td>49</td>\n",
       "      <td>96</td>\n",
       "      <td>20</td>\n",
       "    </tr>\n",
       "    <tr>\n",
       "      <th>1</th>\n",
       "      <td>KC Sangakkara (Asia/ICC/SL)</td>\n",
       "      <td>2000-2015</td>\n",
       "      <td>404</td>\n",
       "      <td>380</td>\n",
       "      <td>41</td>\n",
       "      <td>14234</td>\n",
       "      <td>169</td>\n",
       "      <td>41.98</td>\n",
       "      <td>18048</td>\n",
       "      <td>78.86</td>\n",
       "      <td>25</td>\n",
       "      <td>93</td>\n",
       "      <td>15</td>\n",
       "    </tr>\n",
       "    <tr>\n",
       "      <th>2</th>\n",
       "      <td>RT Ponting (Aus/ICC)</td>\n",
       "      <td>1995-2012</td>\n",
       "      <td>375</td>\n",
       "      <td>365</td>\n",
       "      <td>39</td>\n",
       "      <td>13704</td>\n",
       "      <td>164</td>\n",
       "      <td>42.03</td>\n",
       "      <td>17046</td>\n",
       "      <td>80.39</td>\n",
       "      <td>30</td>\n",
       "      <td>82</td>\n",
       "      <td>20</td>\n",
       "    </tr>\n",
       "    <tr>\n",
       "      <th>3</th>\n",
       "      <td>ST Jayasuriya (Asia/SL)</td>\n",
       "      <td>1989-2011</td>\n",
       "      <td>445</td>\n",
       "      <td>433</td>\n",
       "      <td>18</td>\n",
       "      <td>13430</td>\n",
       "      <td>189</td>\n",
       "      <td>32.36</td>\n",
       "      <td>14725</td>\n",
       "      <td>91.20</td>\n",
       "      <td>28</td>\n",
       "      <td>68</td>\n",
       "      <td>34</td>\n",
       "    </tr>\n",
       "    <tr>\n",
       "      <th>4</th>\n",
       "      <td>DPMD Jayawardene (Asia/SL)</td>\n",
       "      <td>1998-2015</td>\n",
       "      <td>448</td>\n",
       "      <td>418</td>\n",
       "      <td>39</td>\n",
       "      <td>12650</td>\n",
       "      <td>144</td>\n",
       "      <td>33.37</td>\n",
       "      <td>16020</td>\n",
       "      <td>78.96</td>\n",
       "      <td>19</td>\n",
       "      <td>77</td>\n",
       "      <td>28</td>\n",
       "    </tr>\n",
       "  </tbody>\n",
       "</table>\n",
       "</div>"
      ],
      "text/plain": [
       "                        player       span  mat inns not_outs   runs  \\\n",
       "0         SR Tendulkar (India)  1989-2012  463  452       41  18426   \n",
       "1  KC Sangakkara (Asia/ICC/SL)  2000-2015  404  380       41  14234   \n",
       "2         RT Ponting (Aus/ICC)  1995-2012  375  365       39  13704   \n",
       "3      ST Jayasuriya (Asia/SL)  1989-2011  445  433       18  13430   \n",
       "4   DPMD Jayawardene (Asia/SL)  1998-2015  448  418       39  12650   \n",
       "\n",
       "  high_score    ave     bf     sr n_100 n_50 n_0  \n",
       "0       200*  44.83  21367  86.23    49   96  20  \n",
       "1        169  41.98  18048  78.86    25   93  15  \n",
       "2        164  42.03  17046  80.39    30   82  20  \n",
       "3        189  32.36  14725  91.20    28   68  34  \n",
       "4        144  33.37  16020  78.96    19   77  28  "
      ]
     },
     "execution_count": 76,
     "metadata": {},
     "output_type": "execute_result"
    }
   ],
   "source": [
    "df_full.head()"
   ]
  },
  {
   "cell_type": "markdown",
   "metadata": {},
   "source": [
    "Renaming the columns to access them easier"
   ]
  },
  {
   "cell_type": "code",
   "execution_count": 82,
   "metadata": {
    "collapsed": false
   },
   "outputs": [],
   "source": [
    "df_full.columns = ['player', 'span', 'mat', 'inns', 'not_outs', 'runs', 'high_score', 'ave', 'bf', 'sr', 'n_100', 'n_50', 'n_0']"
   ]
  },
  {
   "cell_type": "markdown",
   "metadata": {},
   "source": [
    "Extracting only two columns - the name of the player and the span(duration of career) from the original dataframe"
   ]
  },
  {
   "cell_type": "code",
   "execution_count": 214,
   "metadata": {
    "collapsed": true
   },
   "outputs": [],
   "source": [
    "df_span = df_full[['player','span']]"
   ]
  },
  {
   "cell_type": "code",
   "execution_count": 215,
   "metadata": {
    "collapsed": false
   },
   "outputs": [
    {
     "data": {
      "text/html": [
       "<div style=\"max-height:1000px;max-width:1500px;overflow:auto;\">\n",
       "<table border=\"1\" class=\"dataframe\">\n",
       "  <thead>\n",
       "    <tr style=\"text-align: right;\">\n",
       "      <th></th>\n",
       "      <th>player</th>\n",
       "      <th>span</th>\n",
       "    </tr>\n",
       "  </thead>\n",
       "  <tbody>\n",
       "    <tr>\n",
       "      <th>0</th>\n",
       "      <td>SR Tendulkar (India)</td>\n",
       "      <td>1989-2012</td>\n",
       "    </tr>\n",
       "    <tr>\n",
       "      <th>1</th>\n",
       "      <td>KC Sangakkara (Asia/ICC/SL)</td>\n",
       "      <td>2000-2015</td>\n",
       "    </tr>\n",
       "    <tr>\n",
       "      <th>2</th>\n",
       "      <td>RT Ponting (Aus/ICC)</td>\n",
       "      <td>1995-2012</td>\n",
       "    </tr>\n",
       "    <tr>\n",
       "      <th>3</th>\n",
       "      <td>ST Jayasuriya (Asia/SL)</td>\n",
       "      <td>1989-2011</td>\n",
       "    </tr>\n",
       "    <tr>\n",
       "      <th>4</th>\n",
       "      <td>DPMD Jayawardene (Asia/SL)</td>\n",
       "      <td>1998-2015</td>\n",
       "    </tr>\n",
       "  </tbody>\n",
       "</table>\n",
       "</div>"
      ],
      "text/plain": [
       "                        player       span\n",
       "0         SR Tendulkar (India)  1989-2012\n",
       "1  KC Sangakkara (Asia/ICC/SL)  2000-2015\n",
       "2         RT Ponting (Aus/ICC)  1995-2012\n",
       "3      ST Jayasuriya (Asia/SL)  1989-2011\n",
       "4   DPMD Jayawardene (Asia/SL)  1998-2015"
      ]
     },
     "execution_count": 215,
     "metadata": {},
     "output_type": "execute_result"
    }
   ],
   "source": [
    "df_span.head()"
   ]
  },
  {
   "cell_type": "markdown",
   "metadata": {},
   "source": [
    "Adding two new columns - career_start_date and career_end_date, both created from the column span"
   ]
  },
  {
   "cell_type": "code",
   "execution_count": 216,
   "metadata": {
    "collapsed": true
   },
   "outputs": [],
   "source": [
    "# disables warning\n",
    "pd.options.mode.chained_assignment = None\n",
    "df_span['career_start_date'] = [int(span.partition('-')[0]) for span in df_span.span]\n",
    "df_span['career_end_date'] = [int(span.partition('-')[-1]) for span in df_span.span]"
   ]
  },
  {
   "cell_type": "code",
   "execution_count": 217,
   "metadata": {
    "collapsed": false
   },
   "outputs": [
    {
     "data": {
      "text/html": [
       "<div style=\"max-height:1000px;max-width:1500px;overflow:auto;\">\n",
       "<table border=\"1\" class=\"dataframe\">\n",
       "  <thead>\n",
       "    <tr style=\"text-align: right;\">\n",
       "      <th></th>\n",
       "      <th>player</th>\n",
       "      <th>span</th>\n",
       "      <th>career_start_date</th>\n",
       "      <th>career_end_date</th>\n",
       "    </tr>\n",
       "  </thead>\n",
       "  <tbody>\n",
       "    <tr>\n",
       "      <th>0</th>\n",
       "      <td>SR Tendulkar (India)</td>\n",
       "      <td>1989-2012</td>\n",
       "      <td>1989</td>\n",
       "      <td>2012</td>\n",
       "    </tr>\n",
       "    <tr>\n",
       "      <th>1</th>\n",
       "      <td>KC Sangakkara (Asia/ICC/SL)</td>\n",
       "      <td>2000-2015</td>\n",
       "      <td>2000</td>\n",
       "      <td>2015</td>\n",
       "    </tr>\n",
       "    <tr>\n",
       "      <th>2</th>\n",
       "      <td>RT Ponting (Aus/ICC)</td>\n",
       "      <td>1995-2012</td>\n",
       "      <td>1995</td>\n",
       "      <td>2012</td>\n",
       "    </tr>\n",
       "    <tr>\n",
       "      <th>3</th>\n",
       "      <td>ST Jayasuriya (Asia/SL)</td>\n",
       "      <td>1989-2011</td>\n",
       "      <td>1989</td>\n",
       "      <td>2011</td>\n",
       "    </tr>\n",
       "    <tr>\n",
       "      <th>4</th>\n",
       "      <td>DPMD Jayawardene (Asia/SL)</td>\n",
       "      <td>1998-2015</td>\n",
       "      <td>1998</td>\n",
       "      <td>2015</td>\n",
       "    </tr>\n",
       "  </tbody>\n",
       "</table>\n",
       "</div>"
      ],
      "text/plain": [
       "                        player       span  career_start_date  career_end_date\n",
       "0         SR Tendulkar (India)  1989-2012               1989             2012\n",
       "1  KC Sangakkara (Asia/ICC/SL)  2000-2015               2000             2015\n",
       "2         RT Ponting (Aus/ICC)  1995-2012               1995             2012\n",
       "3      ST Jayasuriya (Asia/SL)  1989-2011               1989             2011\n",
       "4   DPMD Jayawardene (Asia/SL)  1998-2015               1998             2015"
      ]
     },
     "execution_count": 217,
     "metadata": {},
     "output_type": "execute_result"
    }
   ],
   "source": [
    "df_span.head()"
   ]
  },
  {
   "cell_type": "markdown",
   "metadata": {},
   "source": [
    "Adding another column - 'career_length' which is obtained from subtracting the above two columns"
   ]
  },
  {
   "cell_type": "code",
   "execution_count": 218,
   "metadata": {
    "collapsed": false
   },
   "outputs": [],
   "source": [
    "calc_career_length = lambda df: [row.career_end_date - row.career_start_date + 1 for index, row in df.iterrows()]\n",
    "df_span['career_length'] = calc_career_length(df_span)"
   ]
  },
  {
   "cell_type": "code",
   "execution_count": 219,
   "metadata": {
    "collapsed": false
   },
   "outputs": [
    {
     "data": {
      "text/html": [
       "<div style=\"max-height:1000px;max-width:1500px;overflow:auto;\">\n",
       "<table border=\"1\" class=\"dataframe\">\n",
       "  <thead>\n",
       "    <tr style=\"text-align: right;\">\n",
       "      <th></th>\n",
       "      <th>player</th>\n",
       "      <th>span</th>\n",
       "      <th>career_start_date</th>\n",
       "      <th>career_end_date</th>\n",
       "      <th>career_length</th>\n",
       "    </tr>\n",
       "  </thead>\n",
       "  <tbody>\n",
       "    <tr>\n",
       "      <th>0</th>\n",
       "      <td>SR Tendulkar (India)</td>\n",
       "      <td>1989-2012</td>\n",
       "      <td>1989</td>\n",
       "      <td>2012</td>\n",
       "      <td>24</td>\n",
       "    </tr>\n",
       "    <tr>\n",
       "      <th>1</th>\n",
       "      <td>KC Sangakkara (Asia/ICC/SL)</td>\n",
       "      <td>2000-2015</td>\n",
       "      <td>2000</td>\n",
       "      <td>2015</td>\n",
       "      <td>16</td>\n",
       "    </tr>\n",
       "    <tr>\n",
       "      <th>2</th>\n",
       "      <td>RT Ponting (Aus/ICC)</td>\n",
       "      <td>1995-2012</td>\n",
       "      <td>1995</td>\n",
       "      <td>2012</td>\n",
       "      <td>18</td>\n",
       "    </tr>\n",
       "    <tr>\n",
       "      <th>3</th>\n",
       "      <td>ST Jayasuriya (Asia/SL)</td>\n",
       "      <td>1989-2011</td>\n",
       "      <td>1989</td>\n",
       "      <td>2011</td>\n",
       "      <td>23</td>\n",
       "    </tr>\n",
       "    <tr>\n",
       "      <th>4</th>\n",
       "      <td>DPMD Jayawardene (Asia/SL)</td>\n",
       "      <td>1998-2015</td>\n",
       "      <td>1998</td>\n",
       "      <td>2015</td>\n",
       "      <td>18</td>\n",
       "    </tr>\n",
       "  </tbody>\n",
       "</table>\n",
       "</div>"
      ],
      "text/plain": [
       "                        player       span  career_start_date  career_end_date  \\\n",
       "0         SR Tendulkar (India)  1989-2012               1989             2012   \n",
       "1  KC Sangakkara (Asia/ICC/SL)  2000-2015               2000             2015   \n",
       "2         RT Ponting (Aus/ICC)  1995-2012               1995             2012   \n",
       "3      ST Jayasuriya (Asia/SL)  1989-2011               1989             2011   \n",
       "4   DPMD Jayawardene (Asia/SL)  1998-2015               1998             2015   \n",
       "\n",
       "   career_length  \n",
       "0             24  \n",
       "1             16  \n",
       "2             18  \n",
       "3             23  \n",
       "4             18  "
      ]
     },
     "execution_count": 219,
     "metadata": {},
     "output_type": "execute_result"
    }
   ],
   "source": [
    "df_span.head()"
   ]
  },
  {
   "cell_type": "markdown",
   "metadata": {},
   "source": [
    "The country of the player has not been represented, though it has been included within the player's name. Having \n",
    "the country as a column can be quite useful."
   ]
  },
  {
   "cell_type": "code",
   "execution_count": 220,
   "metadata": {
    "collapsed": false
   },
   "outputs": [],
   "source": [
    "get_name = lambda player : [each_player.partition(' (')[0] for each_player in player]\n",
    "df_span['name'] = get_name(df_span.player)"
   ]
  },
  {
   "cell_type": "code",
   "execution_count": 221,
   "metadata": {
    "collapsed": true
   },
   "outputs": [],
   "source": [
    "get_country = lambda player: [each_player[each_player.index('(')+1:each_player.index(')')] for each_player in player]\n",
    "df_span['country'] = get_country(df_span.player)"
   ]
  },
  {
   "cell_type": "markdown",
   "metadata": {},
   "source": [
    "* Certain players however have played for more than 1 team - Asia/ ICC etc. Such countries don't make any change and\n",
    "have to be removed.\n",
    "* Certain players like Kepler Wessels, Eoin Morgan have played for more than 1 country - for sake of simplicity, \n",
    "such players are ignored as their career lengths will be longer - forming outliers."
   ]
  },
  {
   "cell_type": "code",
   "execution_count": 222,
   "metadata": {
    "collapsed": false
   },
   "outputs": [],
   "source": [
    "remove_forward_slash = lambda country: [each_country.replace('/', '') for each_country in country]\n",
    "df_span['country'] = remove_forward_slash(df_span.country)"
   ]
  },
  {
   "cell_type": "markdown",
   "metadata": {},
   "source": [
    "Considering players belonging to the 'Full members' of ICC as the associate countries' data may be noisy, creating outliers"
   ]
  },
  {
   "cell_type": "code",
   "execution_count": 223,
   "metadata": {
    "collapsed": false
   },
   "outputs": [],
   "source": [
    "list_countries = lambda country : ['India' if 'India' in each_country\n",
    "                 else 'SL' if 'SL' in each_country\n",
    "                 else 'SA' if 'SA' in each_country\n",
    "                 else 'Aus' if 'Aus' in each_country\n",
    "                 else 'Pak' if 'Pak' in each_country\n",
    "                 else 'WI' if 'WI' in each_country\n",
    "                 else 'NZ' if 'NZ' in each_country\n",
    "                 else 'Zim' if 'Zim' in each_country\n",
    "                 else 'Eng' if 'Eng' in each_country\n",
    "                 else 'Ban' if 'Ban' in each_country\n",
    "                 else None for each_country in country]\n",
    "df_span['country'] =  list_countries(df_span.country)"
   ]
  },
  {
   "cell_type": "code",
   "execution_count": 224,
   "metadata": {
    "collapsed": false
   },
   "outputs": [],
   "source": [
    "df_span = df_span[df_span.country.notnull()]"
   ]
  },
  {
   "cell_type": "code",
   "execution_count": 226,
   "metadata": {
    "collapsed": false
   },
   "outputs": [
    {
     "data": {
      "text/html": [
       "<div style=\"max-height:1000px;max-width:1500px;overflow:auto;\">\n",
       "<table border=\"1\" class=\"dataframe\">\n",
       "  <thead>\n",
       "    <tr style=\"text-align: right;\">\n",
       "      <th></th>\n",
       "      <th>player</th>\n",
       "      <th>span</th>\n",
       "      <th>career_start_date</th>\n",
       "      <th>career_end_date</th>\n",
       "      <th>career_length</th>\n",
       "      <th>name</th>\n",
       "      <th>country</th>\n",
       "    </tr>\n",
       "  </thead>\n",
       "  <tbody>\n",
       "    <tr>\n",
       "      <th>0</th>\n",
       "      <td>SR Tendulkar (India)</td>\n",
       "      <td>1989-2012</td>\n",
       "      <td>1989</td>\n",
       "      <td>2012</td>\n",
       "      <td>24</td>\n",
       "      <td>SR Tendulkar</td>\n",
       "      <td>India</td>\n",
       "    </tr>\n",
       "    <tr>\n",
       "      <th>1</th>\n",
       "      <td>KC Sangakkara (Asia/ICC/SL)</td>\n",
       "      <td>2000-2015</td>\n",
       "      <td>2000</td>\n",
       "      <td>2015</td>\n",
       "      <td>16</td>\n",
       "      <td>KC Sangakkara</td>\n",
       "      <td>SL</td>\n",
       "    </tr>\n",
       "    <tr>\n",
       "      <th>2</th>\n",
       "      <td>RT Ponting (Aus/ICC)</td>\n",
       "      <td>1995-2012</td>\n",
       "      <td>1995</td>\n",
       "      <td>2012</td>\n",
       "      <td>18</td>\n",
       "      <td>RT Ponting</td>\n",
       "      <td>Aus</td>\n",
       "    </tr>\n",
       "    <tr>\n",
       "      <th>3</th>\n",
       "      <td>ST Jayasuriya (Asia/SL)</td>\n",
       "      <td>1989-2011</td>\n",
       "      <td>1989</td>\n",
       "      <td>2011</td>\n",
       "      <td>23</td>\n",
       "      <td>ST Jayasuriya</td>\n",
       "      <td>SL</td>\n",
       "    </tr>\n",
       "    <tr>\n",
       "      <th>4</th>\n",
       "      <td>DPMD Jayawardene (Asia/SL)</td>\n",
       "      <td>1998-2015</td>\n",
       "      <td>1998</td>\n",
       "      <td>2015</td>\n",
       "      <td>18</td>\n",
       "      <td>DPMD Jayawardene</td>\n",
       "      <td>SL</td>\n",
       "    </tr>\n",
       "  </tbody>\n",
       "</table>\n",
       "</div>"
      ],
      "text/plain": [
       "                        player       span  career_start_date  career_end_date  \\\n",
       "0         SR Tendulkar (India)  1989-2012               1989             2012   \n",
       "1  KC Sangakkara (Asia/ICC/SL)  2000-2015               2000             2015   \n",
       "2         RT Ponting (Aus/ICC)  1995-2012               1995             2012   \n",
       "3      ST Jayasuriya (Asia/SL)  1989-2011               1989             2011   \n",
       "4   DPMD Jayawardene (Asia/SL)  1998-2015               1998             2015   \n",
       "\n",
       "   career_length              name country  \n",
       "0             24      SR Tendulkar   India  \n",
       "1             16     KC Sangakkara      SL  \n",
       "2             18        RT Ponting     Aus  \n",
       "3             23     ST Jayasuriya      SL  \n",
       "4             18  DPMD Jayawardene      SL  "
      ]
     },
     "execution_count": 226,
     "metadata": {},
     "output_type": "execute_result"
    }
   ],
   "source": [
    "df_span.head()"
   ]
  },
  {
   "cell_type": "markdown",
   "metadata": {},
   "source": [
    "Dropping columns 'player' and 'span' from the dataframe"
   ]
  },
  {
   "cell_type": "code",
   "execution_count": 227,
   "metadata": {
    "collapsed": true
   },
   "outputs": [],
   "source": [
    "df_span = df_span.drop('player', 1)"
   ]
  },
  {
   "cell_type": "code",
   "execution_count": 228,
   "metadata": {
    "collapsed": false
   },
   "outputs": [],
   "source": [
    "df_span = df_span.drop('span', 1)"
   ]
  },
  {
   "cell_type": "markdown",
   "metadata": {},
   "source": [
    "Reordering the columns"
   ]
  },
  {
   "cell_type": "code",
   "execution_count": 229,
   "metadata": {
    "collapsed": false
   },
   "outputs": [],
   "source": [
    "df_span = df_span[['name', 'country', 'career_start_date', 'career_end_date', 'career_length']]"
   ]
  },
  {
   "cell_type": "code",
   "execution_count": 230,
   "metadata": {
    "collapsed": false
   },
   "outputs": [
    {
     "data": {
      "text/html": [
       "<div style=\"max-height:1000px;max-width:1500px;overflow:auto;\">\n",
       "<table border=\"1\" class=\"dataframe\">\n",
       "  <thead>\n",
       "    <tr style=\"text-align: right;\">\n",
       "      <th></th>\n",
       "      <th>name</th>\n",
       "      <th>country</th>\n",
       "      <th>career_start_date</th>\n",
       "      <th>career_end_date</th>\n",
       "      <th>career_length</th>\n",
       "    </tr>\n",
       "  </thead>\n",
       "  <tbody>\n",
       "    <tr>\n",
       "      <th>0</th>\n",
       "      <td>SR Tendulkar</td>\n",
       "      <td>India</td>\n",
       "      <td>1989</td>\n",
       "      <td>2012</td>\n",
       "      <td>24</td>\n",
       "    </tr>\n",
       "    <tr>\n",
       "      <th>1</th>\n",
       "      <td>KC Sangakkara</td>\n",
       "      <td>SL</td>\n",
       "      <td>2000</td>\n",
       "      <td>2015</td>\n",
       "      <td>16</td>\n",
       "    </tr>\n",
       "    <tr>\n",
       "      <th>2</th>\n",
       "      <td>RT Ponting</td>\n",
       "      <td>Aus</td>\n",
       "      <td>1995</td>\n",
       "      <td>2012</td>\n",
       "      <td>18</td>\n",
       "    </tr>\n",
       "    <tr>\n",
       "      <th>3</th>\n",
       "      <td>ST Jayasuriya</td>\n",
       "      <td>SL</td>\n",
       "      <td>1989</td>\n",
       "      <td>2011</td>\n",
       "      <td>23</td>\n",
       "    </tr>\n",
       "    <tr>\n",
       "      <th>4</th>\n",
       "      <td>DPMD Jayawardene</td>\n",
       "      <td>SL</td>\n",
       "      <td>1998</td>\n",
       "      <td>2015</td>\n",
       "      <td>18</td>\n",
       "    </tr>\n",
       "  </tbody>\n",
       "</table>\n",
       "</div>"
      ],
      "text/plain": [
       "               name country  career_start_date  career_end_date  career_length\n",
       "0      SR Tendulkar   India               1989             2012             24\n",
       "1     KC Sangakkara      SL               2000             2015             16\n",
       "2        RT Ponting     Aus               1995             2012             18\n",
       "3     ST Jayasuriya      SL               1989             2011             23\n",
       "4  DPMD Jayawardene      SL               1998             2015             18"
      ]
     },
     "execution_count": 230,
     "metadata": {},
     "output_type": "execute_result"
    }
   ],
   "source": [
    "df_span.head()"
   ]
  },
  {
   "cell_type": "markdown",
   "metadata": {},
   "source": [
    "#### Censoring the data"
   ]
  },
  {
   "cell_type": "markdown",
   "metadata": {},
   "source": [
    "* While analyzing the durations of a sample/population, it is quite possible to find certain individuals or data \n",
    "    whose death has not occured yet - at the current time, their deaths have not yet been noticed/occured.\n",
    "* When the data has this behaviour, it is said to be *right-censored*.\n",
    "* It is crucial to include the censored data before modelling, as having only the non-censored data can imply different observations about the data which need not be true.\n",
    "* Indeed, data for survival analysis can be viewed as a regression dataset where the outcome variable - 'censor' \n",
    "    is not defined for few rows."
   ]
  },
  {
   "cell_type": "markdown",
   "metadata": {},
   "source": [
    "#### Censoring in cricket"
   ]
  },
  {
   "cell_type": "markdown",
   "metadata": {},
   "source": [
    "* The event of '**death**' in this example is the event of players retiring from active cricket (ODI).\n",
    "* So there are players who have not yet retired yet - who are still playing some form of active cricket or have died \n",
    "    unfortunately - Phil Hughes for instance.\n",
    "* These players form the censored data in this case.\n",
    "* Again, Statsguru does not provide any easy way of finding out whether players have retired or not.\n",
    "* For sake of this implementation of survival curves, I have *manually* entered the censoring label for each \n",
    "    of the players.\n",
    "* In this effort, I have assumed that those players who last played in 2011 or earlier have retired.\n",
    "* The reasons for choosing 2011 are multi-fold:\n",
    "    1. It's 4 years since 2015 - there is a high chance that players who last played in 2011 have retired or will never play again. Yes, there may be exceptions. \n",
    "    2. 2011 is the year of the previous World Cup which saw a number of high-profile retirements and generally, players usually draw their careers to a close after a World Cup.\n",
    "    3. One more world cup has ended after 2011 - this means that teams will ideally look to build towards the next world cup, meaning those who last played in 2011 will almost never get a chance to play again. This closely is interconnected with the first reason."
   ]
  },
  {
   "cell_type": "code",
   "execution_count": 231,
   "metadata": {
    "collapsed": false
   },
   "outputs": [],
   "source": [
    "# entering 1 intially for all players\n",
    "df_span['censor'] = [1 if each_player.career_end_date <= 2011 else 0 for index,each_player in df_span.iterrows()]"
   ]
  },
  {
   "cell_type": "markdown",
   "metadata": {
    "collapsed": true
   },
   "source": [
    "* censor label : 1 means that player has retired, 0 means that the player has an active playing career."
   ]
  },
  {
   "cell_type": "code",
   "execution_count": 237,
   "metadata": {
    "collapsed": false,
    "scrolled": true
   },
   "outputs": [],
   "source": [
    "#re-ordering index of dataframe\n",
    "df_span.reset_index(drop=True);"
   ]
  },
  {
   "cell_type": "code",
   "execution_count": 238,
   "metadata": {
    "collapsed": true
   },
   "outputs": [],
   "source": [
    "# converting dataframe to csv to manually alter it\n",
    "df_span.to_csv('censor.csv')"
   ]
  },
  {
   "cell_type": "code",
   "execution_count": 249,
   "metadata": {
    "collapsed": true
   },
   "outputs": [],
   "source": [
    "df_censor = pd.read_csv('censor.csv')"
   ]
  },
  {
   "cell_type": "code",
   "execution_count": 250,
   "metadata": {
    "collapsed": false
   },
   "outputs": [],
   "source": [
    "df_censor = df_censor.drop('Unnamed: 0', 1);"
   ]
  },
  {
   "cell_type": "markdown",
   "metadata": {},
   "source": [
    "The following data shows few rows of the data with its censored values."
   ]
  },
  {
   "cell_type": "code",
   "execution_count": 251,
   "metadata": {
    "collapsed": false
   },
   "outputs": [
    {
     "data": {
      "text/html": [
       "<div style=\"max-height:1000px;max-width:1500px;overflow:auto;\">\n",
       "<table border=\"1\" class=\"dataframe\">\n",
       "  <thead>\n",
       "    <tr style=\"text-align: right;\">\n",
       "      <th></th>\n",
       "      <th>name</th>\n",
       "      <th>country</th>\n",
       "      <th>career_start_date</th>\n",
       "      <th>career_end_date</th>\n",
       "      <th>career_length</th>\n",
       "      <th>censor</th>\n",
       "    </tr>\n",
       "  </thead>\n",
       "  <tbody>\n",
       "    <tr>\n",
       "      <th>1740</th>\n",
       "      <td>EP Thompson</td>\n",
       "      <td>NZ</td>\n",
       "      <td>2009</td>\n",
       "      <td>2009</td>\n",
       "      <td>1</td>\n",
       "      <td>1</td>\n",
       "    </tr>\n",
       "    <tr>\n",
       "      <th>1741</th>\n",
       "      <td>AL Thomson</td>\n",
       "      <td>Aus</td>\n",
       "      <td>1971</td>\n",
       "      <td>1971</td>\n",
       "      <td>1</td>\n",
       "      <td>1</td>\n",
       "    </tr>\n",
       "    <tr>\n",
       "      <th>1742</th>\n",
       "      <td>RW Tolchard</td>\n",
       "      <td>Eng</td>\n",
       "      <td>1979</td>\n",
       "      <td>1979</td>\n",
       "      <td>1</td>\n",
       "      <td>1</td>\n",
       "    </tr>\n",
       "    <tr>\n",
       "      <th>1743</th>\n",
       "      <td>CM Tuckett</td>\n",
       "      <td>WI</td>\n",
       "      <td>1998</td>\n",
       "      <td>1998</td>\n",
       "      <td>1</td>\n",
       "      <td>1</td>\n",
       "    </tr>\n",
       "    <tr>\n",
       "      <th>1744</th>\n",
       "      <td>I Udana</td>\n",
       "      <td>SL</td>\n",
       "      <td>2012</td>\n",
       "      <td>2012</td>\n",
       "      <td>1</td>\n",
       "      <td>0</td>\n",
       "    </tr>\n",
       "    <tr>\n",
       "      <th>1745</th>\n",
       "      <td>JD Unadkat</td>\n",
       "      <td>India</td>\n",
       "      <td>2013</td>\n",
       "      <td>2013</td>\n",
       "      <td>1</td>\n",
       "      <td>0</td>\n",
       "    </tr>\n",
       "    <tr>\n",
       "      <th>1746</th>\n",
       "      <td>JM Vince</td>\n",
       "      <td>Eng</td>\n",
       "      <td>2015</td>\n",
       "      <td>2015</td>\n",
       "      <td>1</td>\n",
       "      <td>0</td>\n",
       "    </tr>\n",
       "    <tr>\n",
       "      <th>1747</th>\n",
       "      <td>Wahidul Gani</td>\n",
       "      <td>Ban</td>\n",
       "      <td>1988</td>\n",
       "      <td>1988</td>\n",
       "      <td>1</td>\n",
       "      <td>1</td>\n",
       "    </tr>\n",
       "    <tr>\n",
       "      <th>1748</th>\n",
       "      <td>KP Walmsley</td>\n",
       "      <td>NZ</td>\n",
       "      <td>2003</td>\n",
       "      <td>2003</td>\n",
       "      <td>1</td>\n",
       "      <td>1</td>\n",
       "    </tr>\n",
       "    <tr>\n",
       "      <th>1749</th>\n",
       "      <td>M Watkinson</td>\n",
       "      <td>Eng</td>\n",
       "      <td>1996</td>\n",
       "      <td>1996</td>\n",
       "      <td>1</td>\n",
       "      <td>1</td>\n",
       "    </tr>\n",
       "    <tr>\n",
       "      <th>1750</th>\n",
       "      <td>S Weerakoon</td>\n",
       "      <td>SL</td>\n",
       "      <td>2012</td>\n",
       "      <td>2012</td>\n",
       "      <td>1</td>\n",
       "      <td>0</td>\n",
       "    </tr>\n",
       "    <tr>\n",
       "      <th>1751</th>\n",
       "      <td>Zakir Hasan</td>\n",
       "      <td>Ban</td>\n",
       "      <td>1997</td>\n",
       "      <td>1997</td>\n",
       "      <td>1</td>\n",
       "      <td>1</td>\n",
       "    </tr>\n",
       "  </tbody>\n",
       "</table>\n",
       "</div>"
      ],
      "text/plain": [
       "              name country  career_start_date  career_end_date  career_length  \\\n",
       "1740   EP Thompson      NZ               2009             2009              1   \n",
       "1741    AL Thomson     Aus               1971             1971              1   \n",
       "1742   RW Tolchard     Eng               1979             1979              1   \n",
       "1743    CM Tuckett      WI               1998             1998              1   \n",
       "1744       I Udana      SL               2012             2012              1   \n",
       "1745    JD Unadkat   India               2013             2013              1   \n",
       "1746      JM Vince     Eng               2015             2015              1   \n",
       "1747  Wahidul Gani     Ban               1988             1988              1   \n",
       "1748   KP Walmsley      NZ               2003             2003              1   \n",
       "1749   M Watkinson     Eng               1996             1996              1   \n",
       "1750   S Weerakoon      SL               2012             2012              1   \n",
       "1751   Zakir Hasan     Ban               1997             1997              1   \n",
       "\n",
       "      censor  \n",
       "1740       1  \n",
       "1741       1  \n",
       "1742       1  \n",
       "1743       1  \n",
       "1744       0  \n",
       "1745       0  \n",
       "1746       0  \n",
       "1747       1  \n",
       "1748       1  \n",
       "1749       1  \n",
       "1750       0  \n",
       "1751       1  "
      ]
     },
     "execution_count": 251,
     "metadata": {},
     "output_type": "execute_result"
    }
   ],
   "source": [
    "df_censor.tail(12)"
   ]
  },
  {
   "cell_type": "code",
   "execution_count": 244,
   "metadata": {
    "collapsed": false
   },
   "outputs": [
    {
     "data": {
      "text/plain": [
       "0     365\n",
       "1    1387\n",
       "dtype: int64"
      ]
     },
     "execution_count": 244,
     "metadata": {},
     "output_type": "execute_result"
    }
   ],
   "source": [
    "df_censor.censor.value_counts().sort_index()"
   ]
  },
  {
   "cell_type": "markdown",
   "metadata": {},
   "source": [
    "* It is thus observed that there are 365 0-censor labelled players and 1387 1-censor labelled players in the dataset."
   ]
  },
  {
   "cell_type": "markdown",
   "metadata": {},
   "source": [
    "* In other words, there are 365 active players in ODI cricket - that is an average of around 37 players for every team, considering only 10 teams are considered - which sort of makes sense."
   ]
  },
  {
   "cell_type": "code",
   "execution_count": 258,
   "metadata": {
    "collapsed": false
   },
   "outputs": [
    {
     "data": {
      "text/plain": [
       "<matplotlib.axes._subplots.AxesSubplot at 0x1106ac110>"
      ]
     },
     "execution_count": 258,
     "metadata": {},
     "output_type": "execute_result"
    },
    {
     "data": {
      "image/png": "[encoded data removed]",
      "text/plain": [
       "<matplotlib.figure.Figure at 0x1103ea5d0>"
      ]
     },
     "metadata": {},
     "output_type": "display_data"
    }
   ],
   "source": [
    "df_censor.censor.value_counts().sort_index().plot(kind='pie', figsize=(6, 6), ())"
   ]
  },
  {
   "cell_type": "code",
   "execution_count": null,
   "metadata": {
    "collapsed": true
   },
   "outputs": [],
   "source": []
  }
 ],
 "metadata": {
  "kernelspec": {
   "display_name": "Python 2",
   "language": "python",
   "name": "python2"
  },
  "language_info": {
   "codemirror_mode": {
    "name": "ipython",
    "version": 2
   },
   "file_extension": ".py",
   "mimetype": "text/x-python",
   "name": "python",
   "nbconvert_exporter": "python",
   "pygments_lexer": "ipython2",
   "version": "2.7.10"
  }
 },
 "nbformat": 4,
 "nbformat_minor": 0
}
