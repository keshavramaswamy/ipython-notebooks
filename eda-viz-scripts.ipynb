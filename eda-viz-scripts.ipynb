{
 "cells": [
  {
   "cell_type": "markdown",
   "metadata": {},
   "source": [
    "## EDA - Visualization Scripts"
   ]
  },
  {
   "cell_type": "markdown",
   "metadata": {},
   "source": [
    "#### Bar Plot"
   ]
  },
  {
   "cell_type": "code",
   "execution_count": null,
   "metadata": {
    "collapsed": true
   },
   "outputs": [],
   "source": [
    "sns.barplot(y= df_boston.weapon_type.value_counts().index, x = df_boston.weapon_type.value_counts())"
   ]
  },
  {
   "cell_type": "markdown",
   "metadata": {},
   "source": [
    "#### Plot - Distribution Columnwise - Stacked Bar Chart"
   ]
  },
  {
   "cell_type": "code",
   "execution_count": null,
   "metadata": {
    "collapsed": true
   },
   "outputs": [],
   "source": [
    "df_crime=pd.DataFrame(df_boston.crime_category.value_counts())\n",
    "df_crime_head = pd.Series(df_crime.head(10).index)\n",
    "df_crime_head_10 = df_boston[df_boston['crime_category'].isin(df_crime_head)]\n",
    "\n",
    "tmp=pd.DataFrame(df_crime_head_10.groupby(['month','crime_category']).size(), columns=['count'])\n",
    "tmp.reset_index(inplace=True)\n",
    "tmp=tmp.pivot(index='month',columns='crime_category',values='count')\n",
    "fig, axes = plt.subplots(1,1,figsize=(15,15))\n",
    "tmp.plot(ax=axes,kind='bar', stacked=True)"
   ]
  },
  {
   "cell_type": "markdown",
   "metadata": {},
   "source": [
    "#### Plot - Boxplot between two groups"
   ]
  },
  {
   "cell_type": "code",
   "execution_count": null,
   "metadata": {
    "collapsed": true
   },
   "outputs": [],
   "source": [
    "sns.boxplot(df_larceny_weekday_weekend.crime_category, groupby=df_larceny_weekday_weekend['day_type'])"
   ]
  },
  {
   "cell_type": "markdown",
   "metadata": {},
   "source": [
    "#### Plot - Distribution Columnwise - Stacked Bar Chart - Binary Column (yes/no)"
   ]
  },
  {
   "cell_type": "code",
   "execution_count": null,
   "metadata": {
    "collapsed": true
   },
   "outputs": [],
   "source": [
    "tmp=pd.DataFrame(df_boston.groupby(['year','shooting']).size(), columns=['count'])\n",
    "tmp.reset_index(inplace=True)\n",
    "tmp=tmp.pivot(index='year',columns='shooting',values='count')\n",
    "fig, axes = plt.subplots(1,1,figsize=(15,15))\n",
    "tmp.plot(ax=axes,kind='bar', stacked=True)"
   ]
  },
  {
   "cell_type": "markdown",
   "metadata": {},
   "source": [
    "#### ScatterPlot example"
   ]
  },
  {
   "cell_type": "code",
   "execution_count": null,
   "metadata": {
    "collapsed": true
   },
   "outputs": [],
   "source": [
    "plt.scatter(df_boston.longitudes, df_boston.latitudes)"
   ]
  },
  {
   "cell_type": "markdown",
   "metadata": {},
   "source": [
    "#### Plot map with longitudes and latitudes"
   ]
  },
  {
   "cell_type": "code",
   "execution_count": null,
   "metadata": {
    "collapsed": true
   },
   "outputs": [],
   "source": [
    "sns.lmplot('longitudes', 'latitudes', data=df_boston, hue='district', fit_reg=False)"
   ]
  },
  {
   "cell_type": "markdown",
   "metadata": {},
   "source": [
    "#### Make the plot size bigger"
   ]
  },
  {
   "cell_type": "code",
   "execution_count": null,
   "metadata": {
    "collapsed": true
   },
   "outputs": [],
   "source": [
    "plt.rcParams['figure.figsize'] = (20, 10)"
   ]
  },
  {
   "cell_type": "markdown",
   "metadata": {},
   "source": [
    "#### Plotly"
   ]
  },
  {
   "cell_type": "code",
   "execution_count": null,
   "metadata": {
    "collapsed": true
   },
   "outputs": [],
   "source": [
    "import plotly\n",
    "import plotly.tools as tls\n",
    "import plotly.plotly as py\n",
    "from plotly.graph_objs import Figure, Data, Layout\n",
    "import matplotlib.pyplot as plt\n",
    "from plotly.graph_objs import *\n",
    "%matplotlib inline\n",
    "from pylab import rcParams"
   ]
  },
  {
   "cell_type": "code",
   "execution_count": null,
   "metadata": {
    "collapsed": true
   },
   "outputs": [],
   "source": [
    "def pyplot(fig, ci=True, legend=True):\n",
    "    # Convert mpl fig obj to plotly fig obj, resize to plotly's default\n",
    "    py_fig = tls.mpl_to_plotly(fig, resize=True)\n",
    "    \n",
    "    # Add fill property to lower limit line\n",
    "    if ci == True:\n",
    "        style1 = dict(fill='tonexty')\n",
    "        # apply style\n",
    "        py_fig['data'][2].update(style1)\n",
    "        \n",
    "        # Change color scheme to black\n",
    "        py_fig['data'].update(dict(line=Line(color='black')))\n",
    "    \n",
    "    # change the default line type to 'step'\n",
    "    py_fig['data'].update(dict(line=Line(shape='hv')))\n",
    "    # Delete misplaced legend annotations \n",
    "    py_fig['layout'].pop('annotations', None)\n",
    "    \n",
    "    if legend == True:\n",
    "        # Add legend, place it at the top right corner of the plot\n",
    "        py_fig['layout'].update(\n",
    "            showlegend=True,\n",
    "            legend=Legend(\n",
    "                x=1.05,\n",
    "                y=1\n",
    "            )\n",
    "        )\n",
    "        \n",
    "    # Send updated figure object to Plotly, show result in notebook\n",
    "    return py.iplot(py_fig)"
   ]
  },
  {
   "cell_type": "code",
   "execution_count": null,
   "metadata": {
    "collapsed": true
   },
   "outputs": [],
   "source": [
    "p = kmf.plot(ci_force_lines=True, title='Career Lengths of ODI players')\n",
    "kmf1 = plt.gcf()\n",
    "pyplot(kmf1)"
   ]
  },
  {
   "cell_type": "code",
   "execution_count": null,
   "metadata": {
    "collapsed": true
   },
   "outputs": [],
   "source": []
  }
 ],
 "metadata": {
  "kernelspec": {
   "display_name": "Python 2",
   "language": "python",
   "name": "python2"
  },
  "language_info": {
   "codemirror_mode": {
    "name": "ipython",
    "version": 2
   },
   "file_extension": ".py",
   "mimetype": "text/x-python",
   "name": "python",
   "nbconvert_exporter": "python",
   "pygments_lexer": "ipython2",
   "version": "2.7.12"
  }
 },
 "nbformat": 4,
 "nbformat_minor": 0
}
